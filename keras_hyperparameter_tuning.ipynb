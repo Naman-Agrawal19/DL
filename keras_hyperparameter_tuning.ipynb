{
  "nbformat": 4,
  "nbformat_minor": 0,
  "metadata": {
    "colab": {
      "provenance": [],
      "gpuType": "T4",
      "include_colab_link": true
    },
    "kernelspec": {
      "name": "python3",
      "display_name": "Python 3"
    },
    "accelerator": "GPU"
  },
  "cells": [
    {
      "cell_type": "markdown",
      "metadata": {
        "id": "view-in-github",
        "colab_type": "text"
      },
      "source": [
        "<a href=\"https://colab.research.google.com/github/PositivElectron/DL/blob/main/keras_hyperparameter_tuning.ipynb\" target=\"_parent\"><img src=\"https://colab.research.google.com/assets/colab-badge.svg\" alt=\"Open In Colab\"/></a>"
      ]
    },
    {
      "cell_type": "code",
      "metadata": {
        "id": "ZWNLV5wTvCrx"
      },
      "source": [
        "import numpy as np\n",
        "import pandas as pd"
      ],
      "execution_count": 2,
      "outputs": []
    },
    {
      "cell_type": "code",
      "metadata": {
        "id": "BGLO-BWjvVKl"
      },
      "source": [
        "df = pd.read_csv('https://raw.githubusercontent.com/plotly/datasets/refs/heads/master/diabetes.csv')"
      ],
      "execution_count": 3,
      "outputs": []
    },
    {
      "cell_type": "code",
      "metadata": {
        "id": "FHuYhxrvvcun",
        "outputId": "881142ea-1ffd-415b-e445-23a3df4aeee8",
        "colab": {
          "base_uri": "https://localhost:8080/",
          "height": 206
        }
      },
      "source": [
        "df.head()"
      ],
      "execution_count": 5,
      "outputs": [
        {
          "output_type": "execute_result",
          "data": {
            "text/plain": [
              "   Pregnancies  Glucose  BloodPressure  SkinThickness  Insulin   BMI  \\\n",
              "0            6      148             72             35        0  33.6   \n",
              "1            1       85             66             29        0  26.6   \n",
              "2            8      183             64              0        0  23.3   \n",
              "3            1       89             66             23       94  28.1   \n",
              "4            0      137             40             35      168  43.1   \n",
              "\n",
              "   DiabetesPedigreeFunction  Age  Outcome  \n",
              "0                     0.627   50        1  \n",
              "1                     0.351   31        0  \n",
              "2                     0.672   32        1  \n",
              "3                     0.167   21        0  \n",
              "4                     2.288   33        1  "
            ],
            "text/html": [
              "\n",
              "  <div id=\"df-8968b6da-97f7-4e07-9400-a86977e29549\" class=\"colab-df-container\">\n",
              "    <div>\n",
              "<style scoped>\n",
              "    .dataframe tbody tr th:only-of-type {\n",
              "        vertical-align: middle;\n",
              "    }\n",
              "\n",
              "    .dataframe tbody tr th {\n",
              "        vertical-align: top;\n",
              "    }\n",
              "\n",
              "    .dataframe thead th {\n",
              "        text-align: right;\n",
              "    }\n",
              "</style>\n",
              "<table border=\"1\" class=\"dataframe\">\n",
              "  <thead>\n",
              "    <tr style=\"text-align: right;\">\n",
              "      <th></th>\n",
              "      <th>Pregnancies</th>\n",
              "      <th>Glucose</th>\n",
              "      <th>BloodPressure</th>\n",
              "      <th>SkinThickness</th>\n",
              "      <th>Insulin</th>\n",
              "      <th>BMI</th>\n",
              "      <th>DiabetesPedigreeFunction</th>\n",
              "      <th>Age</th>\n",
              "      <th>Outcome</th>\n",
              "    </tr>\n",
              "  </thead>\n",
              "  <tbody>\n",
              "    <tr>\n",
              "      <th>0</th>\n",
              "      <td>6</td>\n",
              "      <td>148</td>\n",
              "      <td>72</td>\n",
              "      <td>35</td>\n",
              "      <td>0</td>\n",
              "      <td>33.6</td>\n",
              "      <td>0.627</td>\n",
              "      <td>50</td>\n",
              "      <td>1</td>\n",
              "    </tr>\n",
              "    <tr>\n",
              "      <th>1</th>\n",
              "      <td>1</td>\n",
              "      <td>85</td>\n",
              "      <td>66</td>\n",
              "      <td>29</td>\n",
              "      <td>0</td>\n",
              "      <td>26.6</td>\n",
              "      <td>0.351</td>\n",
              "      <td>31</td>\n",
              "      <td>0</td>\n",
              "    </tr>\n",
              "    <tr>\n",
              "      <th>2</th>\n",
              "      <td>8</td>\n",
              "      <td>183</td>\n",
              "      <td>64</td>\n",
              "      <td>0</td>\n",
              "      <td>0</td>\n",
              "      <td>23.3</td>\n",
              "      <td>0.672</td>\n",
              "      <td>32</td>\n",
              "      <td>1</td>\n",
              "    </tr>\n",
              "    <tr>\n",
              "      <th>3</th>\n",
              "      <td>1</td>\n",
              "      <td>89</td>\n",
              "      <td>66</td>\n",
              "      <td>23</td>\n",
              "      <td>94</td>\n",
              "      <td>28.1</td>\n",
              "      <td>0.167</td>\n",
              "      <td>21</td>\n",
              "      <td>0</td>\n",
              "    </tr>\n",
              "    <tr>\n",
              "      <th>4</th>\n",
              "      <td>0</td>\n",
              "      <td>137</td>\n",
              "      <td>40</td>\n",
              "      <td>35</td>\n",
              "      <td>168</td>\n",
              "      <td>43.1</td>\n",
              "      <td>2.288</td>\n",
              "      <td>33</td>\n",
              "      <td>1</td>\n",
              "    </tr>\n",
              "  </tbody>\n",
              "</table>\n",
              "</div>\n",
              "    <div class=\"colab-df-buttons\">\n",
              "\n",
              "  <div class=\"colab-df-container\">\n",
              "    <button class=\"colab-df-convert\" onclick=\"convertToInteractive('df-8968b6da-97f7-4e07-9400-a86977e29549')\"\n",
              "            title=\"Convert this dataframe to an interactive table.\"\n",
              "            style=\"display:none;\">\n",
              "\n",
              "  <svg xmlns=\"http://www.w3.org/2000/svg\" height=\"24px\" viewBox=\"0 -960 960 960\">\n",
              "    <path d=\"M120-120v-720h720v720H120Zm60-500h600v-160H180v160Zm220 220h160v-160H400v160Zm0 220h160v-160H400v160ZM180-400h160v-160H180v160Zm440 0h160v-160H620v160ZM180-180h160v-160H180v160Zm440 0h160v-160H620v160Z\"/>\n",
              "  </svg>\n",
              "    </button>\n",
              "\n",
              "  <style>\n",
              "    .colab-df-container {\n",
              "      display:flex;\n",
              "      gap: 12px;\n",
              "    }\n",
              "\n",
              "    .colab-df-convert {\n",
              "      background-color: #E8F0FE;\n",
              "      border: none;\n",
              "      border-radius: 50%;\n",
              "      cursor: pointer;\n",
              "      display: none;\n",
              "      fill: #1967D2;\n",
              "      height: 32px;\n",
              "      padding: 0 0 0 0;\n",
              "      width: 32px;\n",
              "    }\n",
              "\n",
              "    .colab-df-convert:hover {\n",
              "      background-color: #E2EBFA;\n",
              "      box-shadow: 0px 1px 2px rgba(60, 64, 67, 0.3), 0px 1px 3px 1px rgba(60, 64, 67, 0.15);\n",
              "      fill: #174EA6;\n",
              "    }\n",
              "\n",
              "    .colab-df-buttons div {\n",
              "      margin-bottom: 4px;\n",
              "    }\n",
              "\n",
              "    [theme=dark] .colab-df-convert {\n",
              "      background-color: #3B4455;\n",
              "      fill: #D2E3FC;\n",
              "    }\n",
              "\n",
              "    [theme=dark] .colab-df-convert:hover {\n",
              "      background-color: #434B5C;\n",
              "      box-shadow: 0px 1px 3px 1px rgba(0, 0, 0, 0.15);\n",
              "      filter: drop-shadow(0px 1px 2px rgba(0, 0, 0, 0.3));\n",
              "      fill: #FFFFFF;\n",
              "    }\n",
              "  </style>\n",
              "\n",
              "    <script>\n",
              "      const buttonEl =\n",
              "        document.querySelector('#df-8968b6da-97f7-4e07-9400-a86977e29549 button.colab-df-convert');\n",
              "      buttonEl.style.display =\n",
              "        google.colab.kernel.accessAllowed ? 'block' : 'none';\n",
              "\n",
              "      async function convertToInteractive(key) {\n",
              "        const element = document.querySelector('#df-8968b6da-97f7-4e07-9400-a86977e29549');\n",
              "        const dataTable =\n",
              "          await google.colab.kernel.invokeFunction('convertToInteractive',\n",
              "                                                    [key], {});\n",
              "        if (!dataTable) return;\n",
              "\n",
              "        const docLinkHtml = 'Like what you see? Visit the ' +\n",
              "          '<a target=\"_blank\" href=https://colab.research.google.com/notebooks/data_table.ipynb>data table notebook</a>'\n",
              "          + ' to learn more about interactive tables.';\n",
              "        element.innerHTML = '';\n",
              "        dataTable['output_type'] = 'display_data';\n",
              "        await google.colab.output.renderOutput(dataTable, element);\n",
              "        const docLink = document.createElement('div');\n",
              "        docLink.innerHTML = docLinkHtml;\n",
              "        element.appendChild(docLink);\n",
              "      }\n",
              "    </script>\n",
              "  </div>\n",
              "\n",
              "\n",
              "<div id=\"df-529d2354-0a35-484a-a628-bed879e1c5d3\">\n",
              "  <button class=\"colab-df-quickchart\" onclick=\"quickchart('df-529d2354-0a35-484a-a628-bed879e1c5d3')\"\n",
              "            title=\"Suggest charts\"\n",
              "            style=\"display:none;\">\n",
              "\n",
              "<svg xmlns=\"http://www.w3.org/2000/svg\" height=\"24px\"viewBox=\"0 0 24 24\"\n",
              "     width=\"24px\">\n",
              "    <g>\n",
              "        <path d=\"M19 3H5c-1.1 0-2 .9-2 2v14c0 1.1.9 2 2 2h14c1.1 0 2-.9 2-2V5c0-1.1-.9-2-2-2zM9 17H7v-7h2v7zm4 0h-2V7h2v10zm4 0h-2v-4h2v4z\"/>\n",
              "    </g>\n",
              "</svg>\n",
              "  </button>\n",
              "\n",
              "<style>\n",
              "  .colab-df-quickchart {\n",
              "      --bg-color: #E8F0FE;\n",
              "      --fill-color: #1967D2;\n",
              "      --hover-bg-color: #E2EBFA;\n",
              "      --hover-fill-color: #174EA6;\n",
              "      --disabled-fill-color: #AAA;\n",
              "      --disabled-bg-color: #DDD;\n",
              "  }\n",
              "\n",
              "  [theme=dark] .colab-df-quickchart {\n",
              "      --bg-color: #3B4455;\n",
              "      --fill-color: #D2E3FC;\n",
              "      --hover-bg-color: #434B5C;\n",
              "      --hover-fill-color: #FFFFFF;\n",
              "      --disabled-bg-color: #3B4455;\n",
              "      --disabled-fill-color: #666;\n",
              "  }\n",
              "\n",
              "  .colab-df-quickchart {\n",
              "    background-color: var(--bg-color);\n",
              "    border: none;\n",
              "    border-radius: 50%;\n",
              "    cursor: pointer;\n",
              "    display: none;\n",
              "    fill: var(--fill-color);\n",
              "    height: 32px;\n",
              "    padding: 0;\n",
              "    width: 32px;\n",
              "  }\n",
              "\n",
              "  .colab-df-quickchart:hover {\n",
              "    background-color: var(--hover-bg-color);\n",
              "    box-shadow: 0 1px 2px rgba(60, 64, 67, 0.3), 0 1px 3px 1px rgba(60, 64, 67, 0.15);\n",
              "    fill: var(--button-hover-fill-color);\n",
              "  }\n",
              "\n",
              "  .colab-df-quickchart-complete:disabled,\n",
              "  .colab-df-quickchart-complete:disabled:hover {\n",
              "    background-color: var(--disabled-bg-color);\n",
              "    fill: var(--disabled-fill-color);\n",
              "    box-shadow: none;\n",
              "  }\n",
              "\n",
              "  .colab-df-spinner {\n",
              "    border: 2px solid var(--fill-color);\n",
              "    border-color: transparent;\n",
              "    border-bottom-color: var(--fill-color);\n",
              "    animation:\n",
              "      spin 1s steps(1) infinite;\n",
              "  }\n",
              "\n",
              "  @keyframes spin {\n",
              "    0% {\n",
              "      border-color: transparent;\n",
              "      border-bottom-color: var(--fill-color);\n",
              "      border-left-color: var(--fill-color);\n",
              "    }\n",
              "    20% {\n",
              "      border-color: transparent;\n",
              "      border-left-color: var(--fill-color);\n",
              "      border-top-color: var(--fill-color);\n",
              "    }\n",
              "    30% {\n",
              "      border-color: transparent;\n",
              "      border-left-color: var(--fill-color);\n",
              "      border-top-color: var(--fill-color);\n",
              "      border-right-color: var(--fill-color);\n",
              "    }\n",
              "    40% {\n",
              "      border-color: transparent;\n",
              "      border-right-color: var(--fill-color);\n",
              "      border-top-color: var(--fill-color);\n",
              "    }\n",
              "    60% {\n",
              "      border-color: transparent;\n",
              "      border-right-color: var(--fill-color);\n",
              "    }\n",
              "    80% {\n",
              "      border-color: transparent;\n",
              "      border-right-color: var(--fill-color);\n",
              "      border-bottom-color: var(--fill-color);\n",
              "    }\n",
              "    90% {\n",
              "      border-color: transparent;\n",
              "      border-bottom-color: var(--fill-color);\n",
              "    }\n",
              "  }\n",
              "</style>\n",
              "\n",
              "  <script>\n",
              "    async function quickchart(key) {\n",
              "      const quickchartButtonEl =\n",
              "        document.querySelector('#' + key + ' button');\n",
              "      quickchartButtonEl.disabled = true;  // To prevent multiple clicks.\n",
              "      quickchartButtonEl.classList.add('colab-df-spinner');\n",
              "      try {\n",
              "        const charts = await google.colab.kernel.invokeFunction(\n",
              "            'suggestCharts', [key], {});\n",
              "      } catch (error) {\n",
              "        console.error('Error during call to suggestCharts:', error);\n",
              "      }\n",
              "      quickchartButtonEl.classList.remove('colab-df-spinner');\n",
              "      quickchartButtonEl.classList.add('colab-df-quickchart-complete');\n",
              "    }\n",
              "    (() => {\n",
              "      let quickchartButtonEl =\n",
              "        document.querySelector('#df-529d2354-0a35-484a-a628-bed879e1c5d3 button');\n",
              "      quickchartButtonEl.style.display =\n",
              "        google.colab.kernel.accessAllowed ? 'block' : 'none';\n",
              "    })();\n",
              "  </script>\n",
              "</div>\n",
              "\n",
              "    </div>\n",
              "  </div>\n"
            ],
            "application/vnd.google.colaboratory.intrinsic+json": {
              "type": "dataframe",
              "variable_name": "df",
              "summary": "{\n  \"name\": \"df\",\n  \"rows\": 768,\n  \"fields\": [\n    {\n      \"column\": \"Pregnancies\",\n      \"properties\": {\n        \"dtype\": \"number\",\n        \"std\": 3,\n        \"min\": 0,\n        \"max\": 17,\n        \"num_unique_values\": 17,\n        \"samples\": [\n          6,\n          1,\n          3\n        ],\n        \"semantic_type\": \"\",\n        \"description\": \"\"\n      }\n    },\n    {\n      \"column\": \"Glucose\",\n      \"properties\": {\n        \"dtype\": \"number\",\n        \"std\": 31,\n        \"min\": 0,\n        \"max\": 199,\n        \"num_unique_values\": 136,\n        \"samples\": [\n          151,\n          101,\n          112\n        ],\n        \"semantic_type\": \"\",\n        \"description\": \"\"\n      }\n    },\n    {\n      \"column\": \"BloodPressure\",\n      \"properties\": {\n        \"dtype\": \"number\",\n        \"std\": 19,\n        \"min\": 0,\n        \"max\": 122,\n        \"num_unique_values\": 47,\n        \"samples\": [\n          86,\n          46,\n          85\n        ],\n        \"semantic_type\": \"\",\n        \"description\": \"\"\n      }\n    },\n    {\n      \"column\": \"SkinThickness\",\n      \"properties\": {\n        \"dtype\": \"number\",\n        \"std\": 15,\n        \"min\": 0,\n        \"max\": 99,\n        \"num_unique_values\": 51,\n        \"samples\": [\n          7,\n          12,\n          48\n        ],\n        \"semantic_type\": \"\",\n        \"description\": \"\"\n      }\n    },\n    {\n      \"column\": \"Insulin\",\n      \"properties\": {\n        \"dtype\": \"number\",\n        \"std\": 115,\n        \"min\": 0,\n        \"max\": 846,\n        \"num_unique_values\": 186,\n        \"samples\": [\n          52,\n          41,\n          183\n        ],\n        \"semantic_type\": \"\",\n        \"description\": \"\"\n      }\n    },\n    {\n      \"column\": \"BMI\",\n      \"properties\": {\n        \"dtype\": \"number\",\n        \"std\": 7.8841603203754405,\n        \"min\": 0.0,\n        \"max\": 67.1,\n        \"num_unique_values\": 248,\n        \"samples\": [\n          19.9,\n          31.0,\n          38.1\n        ],\n        \"semantic_type\": \"\",\n        \"description\": \"\"\n      }\n    },\n    {\n      \"column\": \"DiabetesPedigreeFunction\",\n      \"properties\": {\n        \"dtype\": \"number\",\n        \"std\": 0.33132859501277484,\n        \"min\": 0.078,\n        \"max\": 2.42,\n        \"num_unique_values\": 517,\n        \"samples\": [\n          1.731,\n          0.426,\n          0.138\n        ],\n        \"semantic_type\": \"\",\n        \"description\": \"\"\n      }\n    },\n    {\n      \"column\": \"Age\",\n      \"properties\": {\n        \"dtype\": \"number\",\n        \"std\": 11,\n        \"min\": 21,\n        \"max\": 81,\n        \"num_unique_values\": 52,\n        \"samples\": [\n          60,\n          47,\n          72\n        ],\n        \"semantic_type\": \"\",\n        \"description\": \"\"\n      }\n    },\n    {\n      \"column\": \"Outcome\",\n      \"properties\": {\n        \"dtype\": \"number\",\n        \"std\": 0,\n        \"min\": 0,\n        \"max\": 1,\n        \"num_unique_values\": 2,\n        \"samples\": [\n          0,\n          1\n        ],\n        \"semantic_type\": \"\",\n        \"description\": \"\"\n      }\n    }\n  ]\n}"
            }
          },
          "metadata": {},
          "execution_count": 5
        }
      ]
    },
    {
      "cell_type": "code",
      "metadata": {
        "id": "fQQ4Ksu2viRn",
        "outputId": "6575c193-477f-4b6d-a5cc-6c3cada8431c",
        "colab": {
          "base_uri": "https://localhost:8080/",
          "height": 366
        }
      },
      "source": [
        "df.corr()['Outcome']"
      ],
      "execution_count": 6,
      "outputs": [
        {
          "output_type": "execute_result",
          "data": {
            "text/plain": [
              "Pregnancies                 0.221898\n",
              "Glucose                     0.466581\n",
              "BloodPressure               0.065068\n",
              "SkinThickness               0.074752\n",
              "Insulin                     0.130548\n",
              "BMI                         0.292695\n",
              "DiabetesPedigreeFunction    0.173844\n",
              "Age                         0.238356\n",
              "Outcome                     1.000000\n",
              "Name: Outcome, dtype: float64"
            ],
            "text/html": [
              "<div>\n",
              "<style scoped>\n",
              "    .dataframe tbody tr th:only-of-type {\n",
              "        vertical-align: middle;\n",
              "    }\n",
              "\n",
              "    .dataframe tbody tr th {\n",
              "        vertical-align: top;\n",
              "    }\n",
              "\n",
              "    .dataframe thead th {\n",
              "        text-align: right;\n",
              "    }\n",
              "</style>\n",
              "<table border=\"1\" class=\"dataframe\">\n",
              "  <thead>\n",
              "    <tr style=\"text-align: right;\">\n",
              "      <th></th>\n",
              "      <th>Outcome</th>\n",
              "    </tr>\n",
              "  </thead>\n",
              "  <tbody>\n",
              "    <tr>\n",
              "      <th>Pregnancies</th>\n",
              "      <td>0.221898</td>\n",
              "    </tr>\n",
              "    <tr>\n",
              "      <th>Glucose</th>\n",
              "      <td>0.466581</td>\n",
              "    </tr>\n",
              "    <tr>\n",
              "      <th>BloodPressure</th>\n",
              "      <td>0.065068</td>\n",
              "    </tr>\n",
              "    <tr>\n",
              "      <th>SkinThickness</th>\n",
              "      <td>0.074752</td>\n",
              "    </tr>\n",
              "    <tr>\n",
              "      <th>Insulin</th>\n",
              "      <td>0.130548</td>\n",
              "    </tr>\n",
              "    <tr>\n",
              "      <th>BMI</th>\n",
              "      <td>0.292695</td>\n",
              "    </tr>\n",
              "    <tr>\n",
              "      <th>DiabetesPedigreeFunction</th>\n",
              "      <td>0.173844</td>\n",
              "    </tr>\n",
              "    <tr>\n",
              "      <th>Age</th>\n",
              "      <td>0.238356</td>\n",
              "    </tr>\n",
              "    <tr>\n",
              "      <th>Outcome</th>\n",
              "      <td>1.000000</td>\n",
              "    </tr>\n",
              "  </tbody>\n",
              "</table>\n",
              "</div><br><label><b>dtype:</b> float64</label>"
            ]
          },
          "metadata": {},
          "execution_count": 6
        }
      ]
    },
    {
      "cell_type": "code",
      "metadata": {
        "id": "QWSC2kwBv6E_"
      },
      "source": [
        "X = df.iloc[:,:-1].values\n",
        "y = df.iloc[:,-1].values"
      ],
      "execution_count": 7,
      "outputs": []
    },
    {
      "cell_type": "code",
      "metadata": {
        "id": "U7Or6BxUwPmr"
      },
      "source": [
        "from sklearn.preprocessing import StandardScaler\n",
        "scaler = StandardScaler()"
      ],
      "execution_count": 8,
      "outputs": []
    },
    {
      "cell_type": "code",
      "metadata": {
        "id": "YC74hrUOwRPD"
      },
      "source": [
        "X = scaler.fit_transform(X)"
      ],
      "execution_count": 9,
      "outputs": []
    },
    {
      "cell_type": "code",
      "metadata": {
        "id": "S2kjj8FPwcbn",
        "outputId": "ef252118-abb0-4f88-cd02-f24ee931dd51",
        "colab": {
          "base_uri": "https://localhost:8080/"
        }
      },
      "source": [
        "X.shape"
      ],
      "execution_count": 10,
      "outputs": [
        {
          "output_type": "execute_result",
          "data": {
            "text/plain": [
              "(768, 8)"
            ]
          },
          "metadata": {},
          "execution_count": 10
        }
      ]
    },
    {
      "cell_type": "code",
      "metadata": {
        "id": "67r33pO8wdDT"
      },
      "source": [
        "from sklearn.model_selection import train_test_split\n",
        "X_train,X_test,y_train,y_test = train_test_split(X,y,test_size=0.2,random_state=1)"
      ],
      "execution_count": 11,
      "outputs": []
    },
    {
      "cell_type": "code",
      "metadata": {
        "id": "NoZ_FYSywrNU"
      },
      "source": [
        "import tensorflow\n",
        "from tensorflow import keras\n",
        "from keras import Sequential\n",
        "from keras.layers import Dense,Dropout"
      ],
      "execution_count": 12,
      "outputs": []
    },
    {
      "cell_type": "code",
      "metadata": {
        "id": "cenYud1nw1t3",
        "outputId": "46d68358-2ba8-4c64-9589-b9185ca124a1",
        "colab": {
          "base_uri": "https://localhost:8080/"
        }
      },
      "source": [
        "model = Sequential()\n",
        "model.add(Dense(32,activation='relu',input_dim=8))\n",
        "model.add(Dense(1,activation='sigmoid'))\n",
        "\n",
        "model.compile(optimizer='Adam',loss='binary_crossentropy',metrics=['accuracy'])"
      ],
      "execution_count": 13,
      "outputs": [
        {
          "output_type": "stream",
          "name": "stderr",
          "text": [
            "/usr/local/lib/python3.11/dist-packages/keras/src/layers/core/dense.py:87: UserWarning: Do not pass an `input_shape`/`input_dim` argument to a layer. When using Sequential models, prefer using an `Input(shape)` object as the first layer in the model instead.\n",
            "  super().__init__(activity_regularizer=activity_regularizer, **kwargs)\n"
          ]
        }
      ]
    },
    {
      "cell_type": "code",
      "metadata": {
        "id": "y2apPpM2xNsP",
        "outputId": "132dfbd6-2d4d-4c3d-b93a-ff9cd75939b3",
        "colab": {
          "base_uri": "https://localhost:8080/"
        }
      },
      "source": [
        "model.fit(X_train,y_train, batch_size=32, epochs=100,validation_data=(X_test,y_test))"
      ],
      "execution_count": 14,
      "outputs": [
        {
          "output_type": "stream",
          "name": "stdout",
          "text": [
            "Epoch 1/100\n",
            "\u001b[1m20/20\u001b[0m \u001b[32m━━━━━━━━━━━━━━━━━━━━\u001b[0m\u001b[37m\u001b[0m \u001b[1m3s\u001b[0m 70ms/step - accuracy: 0.6618 - loss: 0.6497 - val_accuracy: 0.6558 - val_loss: 0.6343\n",
            "Epoch 2/100\n",
            "\u001b[1m20/20\u001b[0m \u001b[32m━━━━━━━━━━━━━━━━━━━━\u001b[0m\u001b[37m\u001b[0m \u001b[1m0s\u001b[0m 5ms/step - accuracy: 0.6621 - loss: 0.6258 - val_accuracy: 0.7143 - val_loss: 0.6014\n",
            "Epoch 3/100\n",
            "\u001b[1m20/20\u001b[0m \u001b[32m━━━━━━━━━━━━━━━━━━━━\u001b[0m\u001b[37m\u001b[0m \u001b[1m0s\u001b[0m 7ms/step - accuracy: 0.7150 - loss: 0.5824 - val_accuracy: 0.7338 - val_loss: 0.5747\n",
            "Epoch 4/100\n",
            "\u001b[1m20/20\u001b[0m \u001b[32m━━━━━━━━━━━━━━━━━━━━\u001b[0m\u001b[37m\u001b[0m \u001b[1m0s\u001b[0m 7ms/step - accuracy: 0.7289 - loss: 0.5628 - val_accuracy: 0.7468 - val_loss: 0.5522\n",
            "Epoch 5/100\n",
            "\u001b[1m20/20\u001b[0m \u001b[32m━━━━━━━━━━━━━━━━━━━━\u001b[0m\u001b[37m\u001b[0m \u001b[1m0s\u001b[0m 5ms/step - accuracy: 0.7342 - loss: 0.5527 - val_accuracy: 0.7597 - val_loss: 0.5357\n",
            "Epoch 6/100\n",
            "\u001b[1m20/20\u001b[0m \u001b[32m━━━━━━━━━━━━━━━━━━━━\u001b[0m\u001b[37m\u001b[0m \u001b[1m0s\u001b[0m 7ms/step - accuracy: 0.7362 - loss: 0.5345 - val_accuracy: 0.7662 - val_loss: 0.5200\n",
            "Epoch 7/100\n",
            "\u001b[1m20/20\u001b[0m \u001b[32m━━━━━━━━━━━━━━━━━━━━\u001b[0m\u001b[37m\u001b[0m \u001b[1m0s\u001b[0m 5ms/step - accuracy: 0.7541 - loss: 0.5102 - val_accuracy: 0.7792 - val_loss: 0.5107\n",
            "Epoch 8/100\n",
            "\u001b[1m20/20\u001b[0m \u001b[32m━━━━━━━━━━━━━━━━━━━━\u001b[0m\u001b[37m\u001b[0m \u001b[1m0s\u001b[0m 7ms/step - accuracy: 0.7470 - loss: 0.5308 - val_accuracy: 0.7727 - val_loss: 0.5023\n",
            "Epoch 9/100\n",
            "\u001b[1m20/20\u001b[0m \u001b[32m━━━━━━━━━━━━━━━━━━━━\u001b[0m\u001b[37m\u001b[0m \u001b[1m0s\u001b[0m 10ms/step - accuracy: 0.7607 - loss: 0.5023 - val_accuracy: 0.7792 - val_loss: 0.4946\n",
            "Epoch 10/100\n",
            "\u001b[1m20/20\u001b[0m \u001b[32m━━━━━━━━━━━━━━━━━━━━\u001b[0m\u001b[37m\u001b[0m \u001b[1m0s\u001b[0m 14ms/step - accuracy: 0.7482 - loss: 0.5010 - val_accuracy: 0.7857 - val_loss: 0.4894\n",
            "Epoch 11/100\n",
            "\u001b[1m20/20\u001b[0m \u001b[32m━━━━━━━━━━━━━━━━━━━━\u001b[0m\u001b[37m\u001b[0m \u001b[1m1s\u001b[0m 11ms/step - accuracy: 0.7815 - loss: 0.4763 - val_accuracy: 0.7857 - val_loss: 0.4834\n",
            "Epoch 12/100\n",
            "\u001b[1m20/20\u001b[0m \u001b[32m━━━━━━━━━━━━━━━━━━━━\u001b[0m\u001b[37m\u001b[0m \u001b[1m0s\u001b[0m 14ms/step - accuracy: 0.7830 - loss: 0.4517 - val_accuracy: 0.7922 - val_loss: 0.4784\n",
            "Epoch 13/100\n",
            "\u001b[1m20/20\u001b[0m \u001b[32m━━━━━━━━━━━━━━━━━━━━\u001b[0m\u001b[37m\u001b[0m \u001b[1m1s\u001b[0m 13ms/step - accuracy: 0.7611 - loss: 0.4819 - val_accuracy: 0.7857 - val_loss: 0.4787\n",
            "Epoch 14/100\n",
            "\u001b[1m20/20\u001b[0m \u001b[32m━━━━━━━━━━━━━━━━━━━━\u001b[0m\u001b[37m\u001b[0m \u001b[1m1s\u001b[0m 12ms/step - accuracy: 0.7792 - loss: 0.4638 - val_accuracy: 0.7857 - val_loss: 0.4760\n",
            "Epoch 15/100\n",
            "\u001b[1m20/20\u001b[0m \u001b[32m━━━━━━━━━━━━━━━━━━━━\u001b[0m\u001b[37m\u001b[0m \u001b[1m1s\u001b[0m 19ms/step - accuracy: 0.8001 - loss: 0.4560 - val_accuracy: 0.7857 - val_loss: 0.4746\n",
            "Epoch 16/100\n",
            "\u001b[1m20/20\u001b[0m \u001b[32m━━━━━━━━━━━━━━━━━━━━\u001b[0m\u001b[37m\u001b[0m \u001b[1m1s\u001b[0m 30ms/step - accuracy: 0.7701 - loss: 0.4723 - val_accuracy: 0.7792 - val_loss: 0.4717\n",
            "Epoch 17/100\n",
            "\u001b[1m20/20\u001b[0m \u001b[32m━━━━━━━━━━━━━━━━━━━━\u001b[0m\u001b[37m\u001b[0m \u001b[1m1s\u001b[0m 25ms/step - accuracy: 0.7816 - loss: 0.4643 - val_accuracy: 0.7792 - val_loss: 0.4694\n",
            "Epoch 18/100\n",
            "\u001b[1m20/20\u001b[0m \u001b[32m━━━━━━━━━━━━━━━━━━━━\u001b[0m\u001b[37m\u001b[0m \u001b[1m1s\u001b[0m 24ms/step - accuracy: 0.7912 - loss: 0.4523 - val_accuracy: 0.7857 - val_loss: 0.4682\n",
            "Epoch 19/100\n",
            "\u001b[1m20/20\u001b[0m \u001b[32m━━━━━━━━━━━━━━━━━━━━\u001b[0m\u001b[37m\u001b[0m \u001b[1m0s\u001b[0m 20ms/step - accuracy: 0.8025 - loss: 0.4367 - val_accuracy: 0.7922 - val_loss: 0.4680\n",
            "Epoch 20/100\n",
            "\u001b[1m20/20\u001b[0m \u001b[32m━━━━━━━━━━━━━━━━━━━━\u001b[0m\u001b[37m\u001b[0m \u001b[1m1s\u001b[0m 15ms/step - accuracy: 0.7782 - loss: 0.4817 - val_accuracy: 0.7922 - val_loss: 0.4666\n",
            "Epoch 21/100\n",
            "\u001b[1m20/20\u001b[0m \u001b[32m━━━━━━━━━━━━━━━━━━━━\u001b[0m\u001b[37m\u001b[0m \u001b[1m0s\u001b[0m 7ms/step - accuracy: 0.7661 - loss: 0.4726 - val_accuracy: 0.7922 - val_loss: 0.4642\n",
            "Epoch 22/100\n",
            "\u001b[1m20/20\u001b[0m \u001b[32m━━━━━━━━━━━━━━━━━━━━\u001b[0m\u001b[37m\u001b[0m \u001b[1m0s\u001b[0m 5ms/step - accuracy: 0.7871 - loss: 0.4439 - val_accuracy: 0.7987 - val_loss: 0.4633\n",
            "Epoch 23/100\n",
            "\u001b[1m20/20\u001b[0m \u001b[32m━━━━━━━━━━━━━━━━━━━━\u001b[0m\u001b[37m\u001b[0m \u001b[1m0s\u001b[0m 5ms/step - accuracy: 0.7885 - loss: 0.4344 - val_accuracy: 0.7987 - val_loss: 0.4615\n",
            "Epoch 24/100\n",
            "\u001b[1m20/20\u001b[0m \u001b[32m━━━━━━━━━━━━━━━━━━━━\u001b[0m\u001b[37m\u001b[0m \u001b[1m0s\u001b[0m 6ms/step - accuracy: 0.8054 - loss: 0.4262 - val_accuracy: 0.7987 - val_loss: 0.4604\n",
            "Epoch 25/100\n",
            "\u001b[1m20/20\u001b[0m \u001b[32m━━━━━━━━━━━━━━━━━━━━\u001b[0m\u001b[37m\u001b[0m \u001b[1m0s\u001b[0m 7ms/step - accuracy: 0.7610 - loss: 0.4762 - val_accuracy: 0.7922 - val_loss: 0.4594\n",
            "Epoch 26/100\n",
            "\u001b[1m20/20\u001b[0m \u001b[32m━━━━━━━━━━━━━━━━━━━━\u001b[0m\u001b[37m\u001b[0m \u001b[1m0s\u001b[0m 5ms/step - accuracy: 0.7907 - loss: 0.4489 - val_accuracy: 0.7922 - val_loss: 0.4586\n",
            "Epoch 27/100\n",
            "\u001b[1m20/20\u001b[0m \u001b[32m━━━━━━━━━━━━━━━━━━━━\u001b[0m\u001b[37m\u001b[0m \u001b[1m0s\u001b[0m 7ms/step - accuracy: 0.7676 - loss: 0.4517 - val_accuracy: 0.7857 - val_loss: 0.4614\n",
            "Epoch 28/100\n",
            "\u001b[1m20/20\u001b[0m \u001b[32m━━━━━━━━━━━━━━━━━━━━\u001b[0m\u001b[37m\u001b[0m \u001b[1m0s\u001b[0m 7ms/step - accuracy: 0.7825 - loss: 0.4620 - val_accuracy: 0.7857 - val_loss: 0.4584\n",
            "Epoch 29/100\n",
            "\u001b[1m20/20\u001b[0m \u001b[32m━━━━━━━━━━━━━━━━━━━━\u001b[0m\u001b[37m\u001b[0m \u001b[1m0s\u001b[0m 5ms/step - accuracy: 0.7818 - loss: 0.4549 - val_accuracy: 0.7857 - val_loss: 0.4574\n",
            "Epoch 30/100\n",
            "\u001b[1m20/20\u001b[0m \u001b[32m━━━━━━━━━━━━━━━━━━━━\u001b[0m\u001b[37m\u001b[0m \u001b[1m0s\u001b[0m 5ms/step - accuracy: 0.7630 - loss: 0.4666 - val_accuracy: 0.7857 - val_loss: 0.4574\n",
            "Epoch 31/100\n",
            "\u001b[1m20/20\u001b[0m \u001b[32m━━━━━━━━━━━━━━━━━━━━\u001b[0m\u001b[37m\u001b[0m \u001b[1m0s\u001b[0m 6ms/step - accuracy: 0.7760 - loss: 0.4614 - val_accuracy: 0.7922 - val_loss: 0.4578\n",
            "Epoch 32/100\n",
            "\u001b[1m20/20\u001b[0m \u001b[32m━━━━━━━━━━━━━━━━━━━━\u001b[0m\u001b[37m\u001b[0m \u001b[1m0s\u001b[0m 7ms/step - accuracy: 0.7932 - loss: 0.4402 - val_accuracy: 0.7922 - val_loss: 0.4572\n",
            "Epoch 33/100\n",
            "\u001b[1m20/20\u001b[0m \u001b[32m━━━━━━━━━━━━━━━━━━━━\u001b[0m\u001b[37m\u001b[0m \u001b[1m0s\u001b[0m 5ms/step - accuracy: 0.7855 - loss: 0.4399 - val_accuracy: 0.7922 - val_loss: 0.4559\n",
            "Epoch 34/100\n",
            "\u001b[1m20/20\u001b[0m \u001b[32m━━━━━━━━━━━━━━━━━━━━\u001b[0m\u001b[37m\u001b[0m \u001b[1m0s\u001b[0m 6ms/step - accuracy: 0.7819 - loss: 0.4565 - val_accuracy: 0.7922 - val_loss: 0.4559\n",
            "Epoch 35/100\n",
            "\u001b[1m20/20\u001b[0m \u001b[32m━━━━━━━━━━━━━━━━━━━━\u001b[0m\u001b[37m\u001b[0m \u001b[1m0s\u001b[0m 7ms/step - accuracy: 0.7759 - loss: 0.4344 - val_accuracy: 0.7922 - val_loss: 0.4556\n",
            "Epoch 36/100\n",
            "\u001b[1m20/20\u001b[0m \u001b[32m━━━━━━━━━━━━━━━━━━━━\u001b[0m\u001b[37m\u001b[0m \u001b[1m0s\u001b[0m 6ms/step - accuracy: 0.7845 - loss: 0.4459 - val_accuracy: 0.7922 - val_loss: 0.4565\n",
            "Epoch 37/100\n",
            "\u001b[1m20/20\u001b[0m \u001b[32m━━━━━━━━━━━━━━━━━━━━\u001b[0m\u001b[37m\u001b[0m \u001b[1m0s\u001b[0m 5ms/step - accuracy: 0.8012 - loss: 0.4267 - val_accuracy: 0.7857 - val_loss: 0.4551\n",
            "Epoch 38/100\n",
            "\u001b[1m20/20\u001b[0m \u001b[32m━━━━━━━━━━━━━━━━━━━━\u001b[0m\u001b[37m\u001b[0m \u001b[1m0s\u001b[0m 5ms/step - accuracy: 0.7969 - loss: 0.4192 - val_accuracy: 0.7857 - val_loss: 0.4543\n",
            "Epoch 39/100\n",
            "\u001b[1m20/20\u001b[0m \u001b[32m━━━━━━━━━━━━━━━━━━━━\u001b[0m\u001b[37m\u001b[0m \u001b[1m0s\u001b[0m 7ms/step - accuracy: 0.7960 - loss: 0.4328 - val_accuracy: 0.7792 - val_loss: 0.4555\n",
            "Epoch 40/100\n",
            "\u001b[1m20/20\u001b[0m \u001b[32m━━━━━━━━━━━━━━━━━━━━\u001b[0m\u001b[37m\u001b[0m \u001b[1m0s\u001b[0m 6ms/step - accuracy: 0.7779 - loss: 0.4567 - val_accuracy: 0.7857 - val_loss: 0.4549\n",
            "Epoch 41/100\n",
            "\u001b[1m20/20\u001b[0m \u001b[32m━━━━━━━━━━━━━━━━━━━━\u001b[0m\u001b[37m\u001b[0m \u001b[1m0s\u001b[0m 5ms/step - accuracy: 0.7823 - loss: 0.4417 - val_accuracy: 0.7857 - val_loss: 0.4552\n",
            "Epoch 42/100\n",
            "\u001b[1m20/20\u001b[0m \u001b[32m━━━━━━━━━━━━━━━━━━━━\u001b[0m\u001b[37m\u001b[0m \u001b[1m0s\u001b[0m 5ms/step - accuracy: 0.8054 - loss: 0.4163 - val_accuracy: 0.7922 - val_loss: 0.4563\n",
            "Epoch 43/100\n",
            "\u001b[1m20/20\u001b[0m \u001b[32m━━━━━━━━━━━━━━━━━━━━\u001b[0m\u001b[37m\u001b[0m \u001b[1m0s\u001b[0m 7ms/step - accuracy: 0.7754 - loss: 0.4378 - val_accuracy: 0.7922 - val_loss: 0.4571\n",
            "Epoch 44/100\n",
            "\u001b[1m20/20\u001b[0m \u001b[32m━━━━━━━━━━━━━━━━━━━━\u001b[0m\u001b[37m\u001b[0m \u001b[1m0s\u001b[0m 6ms/step - accuracy: 0.7868 - loss: 0.4313 - val_accuracy: 0.7922 - val_loss: 0.4562\n",
            "Epoch 45/100\n",
            "\u001b[1m20/20\u001b[0m \u001b[32m━━━━━━━━━━━━━━━━━━━━\u001b[0m\u001b[37m\u001b[0m \u001b[1m0s\u001b[0m 5ms/step - accuracy: 0.7923 - loss: 0.4164 - val_accuracy: 0.7922 - val_loss: 0.4567\n",
            "Epoch 46/100\n",
            "\u001b[1m20/20\u001b[0m \u001b[32m━━━━━━━━━━━━━━━━━━━━\u001b[0m\u001b[37m\u001b[0m \u001b[1m0s\u001b[0m 5ms/step - accuracy: 0.7965 - loss: 0.4246 - val_accuracy: 0.7987 - val_loss: 0.4561\n",
            "Epoch 47/100\n",
            "\u001b[1m20/20\u001b[0m \u001b[32m━━━━━━━━━━━━━━━━━━━━\u001b[0m\u001b[37m\u001b[0m \u001b[1m0s\u001b[0m 6ms/step - accuracy: 0.7898 - loss: 0.4296 - val_accuracy: 0.7987 - val_loss: 0.4551\n",
            "Epoch 48/100\n",
            "\u001b[1m20/20\u001b[0m \u001b[32m━━━━━━━━━━━━━━━━━━━━\u001b[0m\u001b[37m\u001b[0m \u001b[1m0s\u001b[0m 5ms/step - accuracy: 0.7967 - loss: 0.4479 - val_accuracy: 0.7922 - val_loss: 0.4539\n",
            "Epoch 49/100\n",
            "\u001b[1m20/20\u001b[0m \u001b[32m━━━━━━━━━━━━━━━━━━━━\u001b[0m\u001b[37m\u001b[0m \u001b[1m0s\u001b[0m 5ms/step - accuracy: 0.7622 - loss: 0.4567 - val_accuracy: 0.7922 - val_loss: 0.4528\n",
            "Epoch 50/100\n",
            "\u001b[1m20/20\u001b[0m \u001b[32m━━━━━━━━━━━━━━━━━━━━\u001b[0m\u001b[37m\u001b[0m \u001b[1m0s\u001b[0m 5ms/step - accuracy: 0.7812 - loss: 0.4591 - val_accuracy: 0.7922 - val_loss: 0.4515\n",
            "Epoch 51/100\n",
            "\u001b[1m20/20\u001b[0m \u001b[32m━━━━━━━━━━━━━━━━━━━━\u001b[0m\u001b[37m\u001b[0m \u001b[1m0s\u001b[0m 7ms/step - accuracy: 0.7844 - loss: 0.4346 - val_accuracy: 0.7922 - val_loss: 0.4511\n",
            "Epoch 52/100\n",
            "\u001b[1m20/20\u001b[0m \u001b[32m━━━━━━━━━━━━━━━━━━━━\u001b[0m\u001b[37m\u001b[0m \u001b[1m0s\u001b[0m 5ms/step - accuracy: 0.7651 - loss: 0.4663 - val_accuracy: 0.7922 - val_loss: 0.4520\n",
            "Epoch 53/100\n",
            "\u001b[1m20/20\u001b[0m \u001b[32m━━━━━━━━━━━━━━━━━━━━\u001b[0m\u001b[37m\u001b[0m \u001b[1m0s\u001b[0m 7ms/step - accuracy: 0.8067 - loss: 0.4110 - val_accuracy: 0.7987 - val_loss: 0.4522\n",
            "Epoch 54/100\n",
            "\u001b[1m20/20\u001b[0m \u001b[32m━━━━━━━━━━━━━━━━━━━━\u001b[0m\u001b[37m\u001b[0m \u001b[1m0s\u001b[0m 7ms/step - accuracy: 0.7892 - loss: 0.4395 - val_accuracy: 0.7922 - val_loss: 0.4517\n",
            "Epoch 55/100\n",
            "\u001b[1m20/20\u001b[0m \u001b[32m━━━━━━━━━━━━━━━━━━━━\u001b[0m\u001b[37m\u001b[0m \u001b[1m0s\u001b[0m 5ms/step - accuracy: 0.7887 - loss: 0.4433 - val_accuracy: 0.7922 - val_loss: 0.4491\n",
            "Epoch 56/100\n",
            "\u001b[1m20/20\u001b[0m \u001b[32m━━━━━━━━━━━━━━━━━━━━\u001b[0m\u001b[37m\u001b[0m \u001b[1m0s\u001b[0m 5ms/step - accuracy: 0.7978 - loss: 0.4296 - val_accuracy: 0.7922 - val_loss: 0.4490\n",
            "Epoch 57/100\n",
            "\u001b[1m20/20\u001b[0m \u001b[32m━━━━━━━━━━━━━━━━━━━━\u001b[0m\u001b[37m\u001b[0m \u001b[1m0s\u001b[0m 5ms/step - accuracy: 0.8000 - loss: 0.4083 - val_accuracy: 0.7922 - val_loss: 0.4499\n",
            "Epoch 58/100\n",
            "\u001b[1m20/20\u001b[0m \u001b[32m━━━━━━━━━━━━━━━━━━━━\u001b[0m\u001b[37m\u001b[0m \u001b[1m0s\u001b[0m 5ms/step - accuracy: 0.7897 - loss: 0.4390 - val_accuracy: 0.7857 - val_loss: 0.4489\n",
            "Epoch 59/100\n",
            "\u001b[1m20/20\u001b[0m \u001b[32m━━━━━━━━━━━━━━━━━━━━\u001b[0m\u001b[37m\u001b[0m \u001b[1m0s\u001b[0m 5ms/step - accuracy: 0.8068 - loss: 0.4049 - val_accuracy: 0.7857 - val_loss: 0.4521\n",
            "Epoch 60/100\n",
            "\u001b[1m20/20\u001b[0m \u001b[32m━━━━━━━━━━━━━━━━━━━━\u001b[0m\u001b[37m\u001b[0m \u001b[1m0s\u001b[0m 6ms/step - accuracy: 0.7935 - loss: 0.4243 - val_accuracy: 0.7922 - val_loss: 0.4527\n",
            "Epoch 61/100\n",
            "\u001b[1m20/20\u001b[0m \u001b[32m━━━━━━━━━━━━━━━━━━━━\u001b[0m\u001b[37m\u001b[0m \u001b[1m0s\u001b[0m 7ms/step - accuracy: 0.8201 - loss: 0.4185 - val_accuracy: 0.7922 - val_loss: 0.4510\n",
            "Epoch 62/100\n",
            "\u001b[1m20/20\u001b[0m \u001b[32m━━━━━━━━━━━━━━━━━━━━\u001b[0m\u001b[37m\u001b[0m \u001b[1m0s\u001b[0m 5ms/step - accuracy: 0.7842 - loss: 0.4285 - val_accuracy: 0.7987 - val_loss: 0.4508\n",
            "Epoch 63/100\n",
            "\u001b[1m20/20\u001b[0m \u001b[32m━━━━━━━━━━━━━━━━━━━━\u001b[0m\u001b[37m\u001b[0m \u001b[1m0s\u001b[0m 7ms/step - accuracy: 0.7991 - loss: 0.4239 - val_accuracy: 0.7922 - val_loss: 0.4501\n",
            "Epoch 64/100\n",
            "\u001b[1m20/20\u001b[0m \u001b[32m━━━━━━━━━━━━━━━━━━━━\u001b[0m\u001b[37m\u001b[0m \u001b[1m0s\u001b[0m 5ms/step - accuracy: 0.7875 - loss: 0.4224 - val_accuracy: 0.7857 - val_loss: 0.4504\n",
            "Epoch 65/100\n",
            "\u001b[1m20/20\u001b[0m \u001b[32m━━━━━━━━━━━━━━━━━━━━\u001b[0m\u001b[37m\u001b[0m \u001b[1m0s\u001b[0m 5ms/step - accuracy: 0.7917 - loss: 0.4337 - val_accuracy: 0.7857 - val_loss: 0.4502\n",
            "Epoch 66/100\n",
            "\u001b[1m20/20\u001b[0m \u001b[32m━━━━━━━━━━━━━━━━━━━━\u001b[0m\u001b[37m\u001b[0m \u001b[1m0s\u001b[0m 6ms/step - accuracy: 0.8070 - loss: 0.4061 - val_accuracy: 0.7857 - val_loss: 0.4511\n",
            "Epoch 67/100\n",
            "\u001b[1m20/20\u001b[0m \u001b[32m━━━━━━━━━━━━━━━━━━━━\u001b[0m\u001b[37m\u001b[0m \u001b[1m0s\u001b[0m 5ms/step - accuracy: 0.7970 - loss: 0.4244 - val_accuracy: 0.7922 - val_loss: 0.4504\n",
            "Epoch 68/100\n",
            "\u001b[1m20/20\u001b[0m \u001b[32m━━━━━━━━━━━━━━━━━━━━\u001b[0m\u001b[37m\u001b[0m \u001b[1m0s\u001b[0m 5ms/step - accuracy: 0.7945 - loss: 0.4171 - val_accuracy: 0.7987 - val_loss: 0.4507\n",
            "Epoch 69/100\n",
            "\u001b[1m20/20\u001b[0m \u001b[32m━━━━━━━━━━━━━━━━━━━━\u001b[0m\u001b[37m\u001b[0m \u001b[1m0s\u001b[0m 5ms/step - accuracy: 0.7998 - loss: 0.4293 - val_accuracy: 0.8182 - val_loss: 0.4505\n",
            "Epoch 70/100\n",
            "\u001b[1m20/20\u001b[0m \u001b[32m━━━━━━━━━━━━━━━━━━━━\u001b[0m\u001b[37m\u001b[0m \u001b[1m0s\u001b[0m 7ms/step - accuracy: 0.7689 - loss: 0.4668 - val_accuracy: 0.8052 - val_loss: 0.4490\n",
            "Epoch 71/100\n",
            "\u001b[1m20/20\u001b[0m \u001b[32m━━━━━━━━━━━━━━━━━━━━\u001b[0m\u001b[37m\u001b[0m \u001b[1m0s\u001b[0m 5ms/step - accuracy: 0.7829 - loss: 0.4495 - val_accuracy: 0.8117 - val_loss: 0.4489\n",
            "Epoch 72/100\n",
            "\u001b[1m20/20\u001b[0m \u001b[32m━━━━━━━━━━━━━━━━━━━━\u001b[0m\u001b[37m\u001b[0m \u001b[1m0s\u001b[0m 5ms/step - accuracy: 0.7899 - loss: 0.4132 - val_accuracy: 0.8117 - val_loss: 0.4480\n",
            "Epoch 73/100\n",
            "\u001b[1m20/20\u001b[0m \u001b[32m━━━━━━━━━━━━━━━━━━━━\u001b[0m\u001b[37m\u001b[0m \u001b[1m0s\u001b[0m 6ms/step - accuracy: 0.7665 - loss: 0.4506 - val_accuracy: 0.8052 - val_loss: 0.4476\n",
            "Epoch 74/100\n",
            "\u001b[1m20/20\u001b[0m \u001b[32m━━━━━━━━━━━━━━━━━━━━\u001b[0m\u001b[37m\u001b[0m \u001b[1m0s\u001b[0m 5ms/step - accuracy: 0.8043 - loss: 0.4040 - val_accuracy: 0.7987 - val_loss: 0.4471\n",
            "Epoch 75/100\n",
            "\u001b[1m20/20\u001b[0m \u001b[32m━━━━━━━━━━━━━━━━━━━━\u001b[0m\u001b[37m\u001b[0m \u001b[1m0s\u001b[0m 5ms/step - accuracy: 0.7809 - loss: 0.4463 - val_accuracy: 0.8182 - val_loss: 0.4462\n",
            "Epoch 76/100\n",
            "\u001b[1m20/20\u001b[0m \u001b[32m━━━━━━━━━━━━━━━━━━━━\u001b[0m\u001b[37m\u001b[0m \u001b[1m0s\u001b[0m 5ms/step - accuracy: 0.8027 - loss: 0.4330 - val_accuracy: 0.8117 - val_loss: 0.4465\n",
            "Epoch 77/100\n",
            "\u001b[1m20/20\u001b[0m \u001b[32m━━━━━━━━━━━━━━━━━━━━\u001b[0m\u001b[37m\u001b[0m \u001b[1m0s\u001b[0m 5ms/step - accuracy: 0.8015 - loss: 0.4101 - val_accuracy: 0.8182 - val_loss: 0.4468\n",
            "Epoch 78/100\n",
            "\u001b[1m20/20\u001b[0m \u001b[32m━━━━━━━━━━━━━━━━━━━━\u001b[0m\u001b[37m\u001b[0m \u001b[1m0s\u001b[0m 6ms/step - accuracy: 0.8025 - loss: 0.4208 - val_accuracy: 0.8247 - val_loss: 0.4460\n",
            "Epoch 79/100\n",
            "\u001b[1m20/20\u001b[0m \u001b[32m━━━━━━━━━━━━━━━━━━━━\u001b[0m\u001b[37m\u001b[0m \u001b[1m0s\u001b[0m 5ms/step - accuracy: 0.7756 - loss: 0.4471 - val_accuracy: 0.8247 - val_loss: 0.4458\n",
            "Epoch 80/100\n",
            "\u001b[1m20/20\u001b[0m \u001b[32m━━━━━━━━━━━━━━━━━━━━\u001b[0m\u001b[37m\u001b[0m \u001b[1m0s\u001b[0m 7ms/step - accuracy: 0.7900 - loss: 0.4279 - val_accuracy: 0.8247 - val_loss: 0.4456\n",
            "Epoch 81/100\n",
            "\u001b[1m20/20\u001b[0m \u001b[32m━━━━━━━━━━━━━━━━━━━━\u001b[0m\u001b[37m\u001b[0m \u001b[1m0s\u001b[0m 6ms/step - accuracy: 0.7825 - loss: 0.4368 - val_accuracy: 0.8182 - val_loss: 0.4458\n",
            "Epoch 82/100\n",
            "\u001b[1m20/20\u001b[0m \u001b[32m━━━━━━━━━━━━━━━━━━━━\u001b[0m\u001b[37m\u001b[0m \u001b[1m0s\u001b[0m 9ms/step - accuracy: 0.7957 - loss: 0.4263 - val_accuracy: 0.8247 - val_loss: 0.4449\n",
            "Epoch 83/100\n",
            "\u001b[1m20/20\u001b[0m \u001b[32m━━━━━━━━━━━━━━━━━━━━\u001b[0m\u001b[37m\u001b[0m \u001b[1m0s\u001b[0m 9ms/step - accuracy: 0.7977 - loss: 0.4238 - val_accuracy: 0.8312 - val_loss: 0.4457\n",
            "Epoch 84/100\n",
            "\u001b[1m20/20\u001b[0m \u001b[32m━━━━━━━━━━━━━━━━━━━━\u001b[0m\u001b[37m\u001b[0m \u001b[1m0s\u001b[0m 9ms/step - accuracy: 0.7896 - loss: 0.4148 - val_accuracy: 0.8312 - val_loss: 0.4456\n",
            "Epoch 85/100\n",
            "\u001b[1m20/20\u001b[0m \u001b[32m━━━━━━━━━━━━━━━━━━━━\u001b[0m\u001b[37m\u001b[0m \u001b[1m0s\u001b[0m 9ms/step - accuracy: 0.7856 - loss: 0.4357 - val_accuracy: 0.8312 - val_loss: 0.4437\n",
            "Epoch 86/100\n",
            "\u001b[1m20/20\u001b[0m \u001b[32m━━━━━━━━━━━━━━━━━━━━\u001b[0m\u001b[37m\u001b[0m \u001b[1m0s\u001b[0m 9ms/step - accuracy: 0.7913 - loss: 0.4372 - val_accuracy: 0.8312 - val_loss: 0.4445\n",
            "Epoch 87/100\n",
            "\u001b[1m20/20\u001b[0m \u001b[32m━━━━━━━━━━━━━━━━━━━━\u001b[0m\u001b[37m\u001b[0m \u001b[1m0s\u001b[0m 10ms/step - accuracy: 0.8009 - loss: 0.4079 - val_accuracy: 0.8312 - val_loss: 0.4437\n",
            "Epoch 88/100\n",
            "\u001b[1m20/20\u001b[0m \u001b[32m━━━━━━━━━━━━━━━━━━━━\u001b[0m\u001b[37m\u001b[0m \u001b[1m0s\u001b[0m 10ms/step - accuracy: 0.8015 - loss: 0.4393 - val_accuracy: 0.8312 - val_loss: 0.4453\n",
            "Epoch 89/100\n",
            "\u001b[1m20/20\u001b[0m \u001b[32m━━━━━━━━━━━━━━━━━━━━\u001b[0m\u001b[37m\u001b[0m \u001b[1m0s\u001b[0m 10ms/step - accuracy: 0.7862 - loss: 0.4467 - val_accuracy: 0.8312 - val_loss: 0.4463\n",
            "Epoch 90/100\n",
            "\u001b[1m20/20\u001b[0m \u001b[32m━━━━━━━━━━━━━━━━━━━━\u001b[0m\u001b[37m\u001b[0m \u001b[1m0s\u001b[0m 10ms/step - accuracy: 0.7929 - loss: 0.4371 - val_accuracy: 0.8312 - val_loss: 0.4447\n",
            "Epoch 91/100\n",
            "\u001b[1m20/20\u001b[0m \u001b[32m━━━━━━━━━━━━━━━━━━━━\u001b[0m\u001b[37m\u001b[0m \u001b[1m0s\u001b[0m 6ms/step - accuracy: 0.8067 - loss: 0.4108 - val_accuracy: 0.8247 - val_loss: 0.4476\n",
            "Epoch 92/100\n",
            "\u001b[1m20/20\u001b[0m \u001b[32m━━━━━━━━━━━━━━━━━━━━\u001b[0m\u001b[37m\u001b[0m \u001b[1m0s\u001b[0m 7ms/step - accuracy: 0.8347 - loss: 0.3885 - val_accuracy: 0.8312 - val_loss: 0.4466\n",
            "Epoch 93/100\n",
            "\u001b[1m20/20\u001b[0m \u001b[32m━━━━━━━━━━━━━━━━━━━━\u001b[0m\u001b[37m\u001b[0m \u001b[1m0s\u001b[0m 5ms/step - accuracy: 0.7993 - loss: 0.4249 - val_accuracy: 0.8312 - val_loss: 0.4458\n",
            "Epoch 94/100\n",
            "\u001b[1m20/20\u001b[0m \u001b[32m━━━━━━━━━━━━━━━━━━━━\u001b[0m\u001b[37m\u001b[0m \u001b[1m0s\u001b[0m 5ms/step - accuracy: 0.8080 - loss: 0.4129 - val_accuracy: 0.8312 - val_loss: 0.4451\n",
            "Epoch 95/100\n",
            "\u001b[1m20/20\u001b[0m \u001b[32m━━━━━━━━━━━━━━━━━━━━\u001b[0m\u001b[37m\u001b[0m \u001b[1m0s\u001b[0m 5ms/step - accuracy: 0.7727 - loss: 0.4603 - val_accuracy: 0.8377 - val_loss: 0.4446\n",
            "Epoch 96/100\n",
            "\u001b[1m20/20\u001b[0m \u001b[32m━━━━━━━━━━━━━━━━━━━━\u001b[0m\u001b[37m\u001b[0m \u001b[1m0s\u001b[0m 5ms/step - accuracy: 0.8028 - loss: 0.4272 - val_accuracy: 0.8377 - val_loss: 0.4446\n",
            "Epoch 97/100\n",
            "\u001b[1m20/20\u001b[0m \u001b[32m━━━━━━━━━━━━━━━━━━━━\u001b[0m\u001b[37m\u001b[0m \u001b[1m0s\u001b[0m 5ms/step - accuracy: 0.7819 - loss: 0.4417 - val_accuracy: 0.8312 - val_loss: 0.4442\n",
            "Epoch 98/100\n",
            "\u001b[1m20/20\u001b[0m \u001b[32m━━━━━━━━━━━━━━━━━━━━\u001b[0m\u001b[37m\u001b[0m \u001b[1m0s\u001b[0m 6ms/step - accuracy: 0.8000 - loss: 0.4106 - val_accuracy: 0.8247 - val_loss: 0.4465\n",
            "Epoch 99/100\n",
            "\u001b[1m20/20\u001b[0m \u001b[32m━━━━━━━━━━━━━━━━━━━━\u001b[0m\u001b[37m\u001b[0m \u001b[1m0s\u001b[0m 5ms/step - accuracy: 0.8024 - loss: 0.4181 - val_accuracy: 0.8312 - val_loss: 0.4452\n",
            "Epoch 100/100\n",
            "\u001b[1m20/20\u001b[0m \u001b[32m━━━━━━━━━━━━━━━━━━━━\u001b[0m\u001b[37m\u001b[0m \u001b[1m0s\u001b[0m 7ms/step - accuracy: 0.8076 - loss: 0.4001 - val_accuracy: 0.8247 - val_loss: 0.4438\n"
          ]
        },
        {
          "output_type": "execute_result",
          "data": {
            "text/plain": [
              "<keras.src.callbacks.history.History at 0x7f08fd3bf210>"
            ]
          },
          "metadata": {},
          "execution_count": 14
        }
      ]
    },
    {
      "cell_type": "code",
      "metadata": {
        "id": "Gv9Q0ObCxVqX"
      },
      "source": [
        "# 1. how to select appropriate optimizer\n",
        "# 2. No, of nodes in a layer\n",
        "# 3. how to select no. of layers\n",
        "# 4. All in all one model"
      ],
      "execution_count": null,
      "outputs": []
    },
    {
      "cell_type": "code",
      "metadata": {
        "id": "0PgHzVUayAmS",
        "outputId": "2c77505a-ca68-4a0a-996e-bc98d5051d22",
        "colab": {
          "base_uri": "https://localhost:8080/",
          "height": 547
        }
      },
      "source": [
        "pip install -U keras-tuner"
      ],
      "execution_count": null,
      "outputs": [
        {
          "output_type": "stream",
          "text": [
            "Collecting keras-tuner\n",
            "\u001b[?25l  Downloading https://files.pythonhosted.org/packages/a7/f7/4b41b6832abf4c9bef71a664dc563adb25afc5812831667c6db572b1a261/keras-tuner-1.0.1.tar.gz (54kB)\n",
            "\r\u001b[K     |██████                          | 10kB 19.4MB/s eta 0:00:01\r\u001b[K     |████████████                    | 20kB 1.8MB/s eta 0:00:01\r\u001b[K     |██████████████████              | 30kB 2.2MB/s eta 0:00:01\r\u001b[K     |████████████████████████        | 40kB 2.4MB/s eta 0:00:01\r\u001b[K     |██████████████████████████████  | 51kB 2.1MB/s eta 0:00:01\r\u001b[K     |████████████████████████████████| 61kB 1.9MB/s \n",
            "\u001b[?25hRequirement already satisfied, skipping upgrade: future in /usr/local/lib/python3.6/dist-packages (from keras-tuner) (0.16.0)\n",
            "Requirement already satisfied, skipping upgrade: numpy in /usr/local/lib/python3.6/dist-packages (from keras-tuner) (1.18.5)\n",
            "Requirement already satisfied, skipping upgrade: tabulate in /usr/local/lib/python3.6/dist-packages (from keras-tuner) (0.8.7)\n",
            "Collecting terminaltables\n",
            "  Downloading https://files.pythonhosted.org/packages/9b/c4/4a21174f32f8a7e1104798c445dacdc1d4df86f2f26722767034e4de4bff/terminaltables-3.1.0.tar.gz\n",
            "Collecting colorama\n",
            "  Downloading https://files.pythonhosted.org/packages/c9/dc/45cdef1b4d119eb96316b3117e6d5708a08029992b2fee2c143c7a0a5cc5/colorama-0.4.3-py2.py3-none-any.whl\n",
            "Requirement already satisfied, skipping upgrade: tqdm in /usr/local/lib/python3.6/dist-packages (from keras-tuner) (4.41.1)\n",
            "Requirement already satisfied, skipping upgrade: requests in /usr/local/lib/python3.6/dist-packages (from keras-tuner) (2.23.0)\n",
            "Requirement already satisfied, skipping upgrade: scipy in /usr/local/lib/python3.6/dist-packages (from keras-tuner) (1.4.1)\n",
            "Requirement already satisfied, skipping upgrade: scikit-learn in /usr/local/lib/python3.6/dist-packages (from keras-tuner) (0.22.2.post1)\n",
            "Requirement already satisfied, skipping upgrade: idna<3,>=2.5 in /usr/local/lib/python3.6/dist-packages (from requests->keras-tuner) (2.10)\n",
            "Requirement already satisfied, skipping upgrade: urllib3!=1.25.0,!=1.25.1,<1.26,>=1.21.1 in /usr/local/lib/python3.6/dist-packages (from requests->keras-tuner) (1.24.3)\n",
            "Requirement already satisfied, skipping upgrade: certifi>=2017.4.17 in /usr/local/lib/python3.6/dist-packages (from requests->keras-tuner) (2020.6.20)\n",
            "Requirement already satisfied, skipping upgrade: chardet<4,>=3.0.2 in /usr/local/lib/python3.6/dist-packages (from requests->keras-tuner) (3.0.4)\n",
            "Requirement already satisfied, skipping upgrade: joblib>=0.11 in /usr/local/lib/python3.6/dist-packages (from scikit-learn->keras-tuner) (0.16.0)\n",
            "Building wheels for collected packages: keras-tuner, terminaltables\n",
            "  Building wheel for keras-tuner (setup.py) ... \u001b[?25l\u001b[?25hdone\n",
            "  Created wheel for keras-tuner: filename=keras_tuner-1.0.1-cp36-none-any.whl size=73200 sha256=14ae73d58ef099c09d35034a37a3206624ea76d6963feff8ea4e30dd42f90acb\n",
            "  Stored in directory: /root/.cache/pip/wheels/b9/cc/62/52716b70dd90f3db12519233c3a93a5360bc672da1a10ded43\n",
            "  Building wheel for terminaltables (setup.py) ... \u001b[?25l\u001b[?25hdone\n",
            "  Created wheel for terminaltables: filename=terminaltables-3.1.0-cp36-none-any.whl size=15356 sha256=c517dfbcbf658ba8dc31acf09a6886cc0d82404511b1f5fedf0d03d1e1cb7d49\n",
            "  Stored in directory: /root/.cache/pip/wheels/30/6b/50/6c75775b681fb36cdfac7f19799888ef9d8813aff9e379663e\n",
            "Successfully built keras-tuner terminaltables\n",
            "Installing collected packages: terminaltables, colorama, keras-tuner\n",
            "Successfully installed colorama-0.4.3 keras-tuner-1.0.1 terminaltables-3.1.0\n"
          ],
          "name": "stdout"
        }
      ]
    },
    {
      "cell_type": "code",
      "metadata": {
        "id": "GPXOFdwEyDEa"
      },
      "source": [
        "import kerastuner as kt"
      ],
      "execution_count": null,
      "outputs": []
    },
    {
      "cell_type": "code",
      "metadata": {
        "id": "uzDeGbi4yawz"
      },
      "source": [
        "def build_model(hp):\n",
        "\n",
        "  model = Sequential()\n",
        "\n",
        "  model.add(Dense(32,activation='relu',input_dim=8))\n",
        "  model.add(Dense(1,activation='sigmoid'))\n",
        "\n",
        "  optimizer = hp.Choice('optimizer', values = ['adam','sgd','rmsprop','adadelta'])\n",
        "\n",
        "  model.compile(optimizer=optimizer, loss='binary_crossentropy',metrics=['accuracy'])\n",
        "\n",
        "  return model"
      ],
      "execution_count": null,
      "outputs": []
    },
    {
      "cell_type": "code",
      "metadata": {
        "id": "WbxjeQW0zqqy"
      },
      "source": [
        "tuner = kt.RandomSearch(build_model,\n",
        "                        objective='val_accuracy',\n",
        "                        max_trials=5)"
      ],
      "execution_count": null,
      "outputs": []
    },
    {
      "cell_type": "code",
      "metadata": {
        "id": "s8jFaqzD0GRR",
        "outputId": "81c39b5d-7d57-464a-902c-bc9f95782345",
        "colab": {
          "base_uri": "https://localhost:8080/",
          "height": 1000
        }
      },
      "source": [
        "tuner.search(X_train,y_train,epochs=5,validation_data=(X_test,y_test))"
      ],
      "execution_count": null,
      "outputs": [
        {
          "output_type": "stream",
          "text": [
            "Epoch 1/5\n",
            "20/20 [==============================] - 0s 8ms/step - loss: 0.7053 - accuracy: 0.5342 - val_loss: 0.7205 - val_accuracy: 0.5325\n",
            "Epoch 2/5\n",
            "20/20 [==============================] - 0s 2ms/step - loss: 0.7052 - accuracy: 0.5342 - val_loss: 0.7204 - val_accuracy: 0.5325\n",
            "Epoch 3/5\n",
            "20/20 [==============================] - 0s 2ms/step - loss: 0.7051 - accuracy: 0.5342 - val_loss: 0.7203 - val_accuracy: 0.5325\n",
            "Epoch 4/5\n",
            "20/20 [==============================] - 0s 2ms/step - loss: 0.7050 - accuracy: 0.5342 - val_loss: 0.7202 - val_accuracy: 0.5325\n",
            "Epoch 5/5\n",
            "20/20 [==============================] - 0s 2ms/step - loss: 0.7049 - accuracy: 0.5342 - val_loss: 0.7201 - val_accuracy: 0.5325\n"
          ],
          "name": "stdout"
        },
        {
          "output_type": "display_data",
          "data": {
            "text/html": [
              "<span style=\"color:#4527A0\"><h1 style=\"font-size:18px\">Trial complete</h1></span>"
            ],
            "text/plain": [
              "<IPython.core.display.HTML object>"
            ]
          },
          "metadata": {
            "tags": []
          }
        },
        {
          "output_type": "display_data",
          "data": {
            "text/html": [
              "<span style=\"color:#4527A0\"><h1 style=\"font-size:18px\">Trial summary</h1></span>"
            ],
            "text/plain": [
              "<IPython.core.display.HTML object>"
            ]
          },
          "metadata": {
            "tags": []
          }
        },
        {
          "output_type": "display_data",
          "data": {
            "text/html": [
              "<span style=\"color:cyan\"> |-Trial ID: 7e94a93f8c1b1b17879b9b14db286e81</span>"
            ],
            "text/plain": [
              "<IPython.core.display.HTML object>"
            ]
          },
          "metadata": {
            "tags": []
          }
        },
        {
          "output_type": "display_data",
          "data": {
            "text/html": [
              "<span style=\"color:cyan\"> |-Score: 0.5324675440788269</span>"
            ],
            "text/plain": [
              "<IPython.core.display.HTML object>"
            ]
          },
          "metadata": {
            "tags": []
          }
        },
        {
          "output_type": "display_data",
          "data": {
            "text/html": [
              "<span style=\"color:cyan\"> |-Best step: 0</span>"
            ],
            "text/plain": [
              "<IPython.core.display.HTML object>"
            ]
          },
          "metadata": {
            "tags": []
          }
        },
        {
          "output_type": "display_data",
          "data": {
            "text/html": [
              "<span style=\"color:#7E57C2\"><h2 style=\"font-size:16px\">Hyperparameters:</h2></span>"
            ],
            "text/plain": [
              "<IPython.core.display.HTML object>"
            ]
          },
          "metadata": {
            "tags": []
          }
        },
        {
          "output_type": "display_data",
          "data": {
            "text/html": [
              "<span style=\"color:cyan\"> |-optimizer: adadelta</span>"
            ],
            "text/plain": [
              "<IPython.core.display.HTML object>"
            ]
          },
          "metadata": {
            "tags": []
          }
        },
        {
          "output_type": "stream",
          "text": [
            "Epoch 1/5\n",
            "20/20 [==============================] - 0s 7ms/step - loss: 0.8084 - accuracy: 0.3371 - val_loss: 0.7633 - val_accuracy: 0.3442\n",
            "Epoch 2/5\n",
            "20/20 [==============================] - 0s 3ms/step - loss: 0.7345 - accuracy: 0.4528 - val_loss: 0.7004 - val_accuracy: 0.4805\n",
            "Epoch 3/5\n",
            "20/20 [==============================] - 0s 2ms/step - loss: 0.6767 - accuracy: 0.5977 - val_loss: 0.6528 - val_accuracy: 0.6688\n",
            "Epoch 4/5\n",
            "20/20 [==============================] - 0s 2ms/step - loss: 0.6339 - accuracy: 0.6808 - val_loss: 0.6133 - val_accuracy: 0.7338\n",
            "Epoch 5/5\n",
            "20/20 [==============================] - 0s 3ms/step - loss: 0.6000 - accuracy: 0.7182 - val_loss: 0.5841 - val_accuracy: 0.7532\n"
          ],
          "name": "stdout"
        },
        {
          "output_type": "display_data",
          "data": {
            "text/html": [
              "<span style=\"color:#4527A0\"><h1 style=\"font-size:18px\">Trial complete</h1></span>"
            ],
            "text/plain": [
              "<IPython.core.display.HTML object>"
            ]
          },
          "metadata": {
            "tags": []
          }
        },
        {
          "output_type": "display_data",
          "data": {
            "text/html": [
              "<span style=\"color:#4527A0\"><h1 style=\"font-size:18px\">Trial summary</h1></span>"
            ],
            "text/plain": [
              "<IPython.core.display.HTML object>"
            ]
          },
          "metadata": {
            "tags": []
          }
        },
        {
          "output_type": "display_data",
          "data": {
            "text/html": [
              "<span style=\"color:cyan\"> |-Trial ID: 15d3d934e62c84e3d117ebee8b3f296f</span>"
            ],
            "text/plain": [
              "<IPython.core.display.HTML object>"
            ]
          },
          "metadata": {
            "tags": []
          }
        },
        {
          "output_type": "display_data",
          "data": {
            "text/html": [
              "<span style=\"color:cyan\"> |-Score: 0.7532467246055603</span>"
            ],
            "text/plain": [
              "<IPython.core.display.HTML object>"
            ]
          },
          "metadata": {
            "tags": []
          }
        },
        {
          "output_type": "display_data",
          "data": {
            "text/html": [
              "<span style=\"color:cyan\"> |-Best step: 0</span>"
            ],
            "text/plain": [
              "<IPython.core.display.HTML object>"
            ]
          },
          "metadata": {
            "tags": []
          }
        },
        {
          "output_type": "display_data",
          "data": {
            "text/html": [
              "<span style=\"color:#7E57C2\"><h2 style=\"font-size:16px\">Hyperparameters:</h2></span>"
            ],
            "text/plain": [
              "<IPython.core.display.HTML object>"
            ]
          },
          "metadata": {
            "tags": []
          }
        },
        {
          "output_type": "display_data",
          "data": {
            "text/html": [
              "<span style=\"color:cyan\"> |-optimizer: adam</span>"
            ],
            "text/plain": [
              "<IPython.core.display.HTML object>"
            ]
          },
          "metadata": {
            "tags": []
          }
        },
        {
          "output_type": "stream",
          "text": [
            "Epoch 1/5\n",
            "20/20 [==============================] - 0s 7ms/step - loss: 0.7323 - accuracy: 0.4186 - val_loss: 0.6976 - val_accuracy: 0.5000\n",
            "Epoch 2/5\n",
            "20/20 [==============================] - 0s 2ms/step - loss: 0.7015 - accuracy: 0.5391 - val_loss: 0.6707 - val_accuracy: 0.5325\n",
            "Epoch 3/5\n",
            "20/20 [==============================] - 0s 2ms/step - loss: 0.6760 - accuracy: 0.6010 - val_loss: 0.6481 - val_accuracy: 0.6104\n",
            "Epoch 4/5\n",
            "20/20 [==============================] - 0s 3ms/step - loss: 0.6547 - accuracy: 0.6384 - val_loss: 0.6284 - val_accuracy: 0.6883\n",
            "Epoch 5/5\n",
            "20/20 [==============================] - 0s 2ms/step - loss: 0.6363 - accuracy: 0.6531 - val_loss: 0.6115 - val_accuracy: 0.7403\n"
          ],
          "name": "stdout"
        },
        {
          "output_type": "display_data",
          "data": {
            "text/html": [
              "<span style=\"color:#4527A0\"><h1 style=\"font-size:18px\">Trial complete</h1></span>"
            ],
            "text/plain": [
              "<IPython.core.display.HTML object>"
            ]
          },
          "metadata": {
            "tags": []
          }
        },
        {
          "output_type": "display_data",
          "data": {
            "text/html": [
              "<span style=\"color:#4527A0\"><h1 style=\"font-size:18px\">Trial summary</h1></span>"
            ],
            "text/plain": [
              "<IPython.core.display.HTML object>"
            ]
          },
          "metadata": {
            "tags": []
          }
        },
        {
          "output_type": "display_data",
          "data": {
            "text/html": [
              "<span style=\"color:cyan\"> |-Trial ID: 04cff31b83ff02941cbe4c1520f2df01</span>"
            ],
            "text/plain": [
              "<IPython.core.display.HTML object>"
            ]
          },
          "metadata": {
            "tags": []
          }
        },
        {
          "output_type": "display_data",
          "data": {
            "text/html": [
              "<span style=\"color:cyan\"> |-Score: 0.7402597665786743</span>"
            ],
            "text/plain": [
              "<IPython.core.display.HTML object>"
            ]
          },
          "metadata": {
            "tags": []
          }
        },
        {
          "output_type": "display_data",
          "data": {
            "text/html": [
              "<span style=\"color:cyan\"> |-Best step: 0</span>"
            ],
            "text/plain": [
              "<IPython.core.display.HTML object>"
            ]
          },
          "metadata": {
            "tags": []
          }
        },
        {
          "output_type": "display_data",
          "data": {
            "text/html": [
              "<span style=\"color:#7E57C2\"><h2 style=\"font-size:16px\">Hyperparameters:</h2></span>"
            ],
            "text/plain": [
              "<IPython.core.display.HTML object>"
            ]
          },
          "metadata": {
            "tags": []
          }
        },
        {
          "output_type": "display_data",
          "data": {
            "text/html": [
              "<span style=\"color:cyan\"> |-optimizer: sgd</span>"
            ],
            "text/plain": [
              "<IPython.core.display.HTML object>"
            ]
          },
          "metadata": {
            "tags": []
          }
        },
        {
          "output_type": "stream",
          "text": [
            "Epoch 1/5\n",
            "20/20 [==============================] - 0s 7ms/step - loss: 0.6352 - accuracy: 0.6792 - val_loss: 0.6149 - val_accuracy: 0.6948\n",
            "Epoch 2/5\n",
            "20/20 [==============================] - 0s 2ms/step - loss: 0.5940 - accuracy: 0.7020 - val_loss: 0.5781 - val_accuracy: 0.7273\n",
            "Epoch 3/5\n",
            "20/20 [==============================] - 0s 2ms/step - loss: 0.5678 - accuracy: 0.7150 - val_loss: 0.5517 - val_accuracy: 0.7468\n",
            "Epoch 4/5\n",
            "20/20 [==============================] - 0s 2ms/step - loss: 0.5460 - accuracy: 0.7215 - val_loss: 0.5290 - val_accuracy: 0.7727\n",
            "Epoch 5/5\n",
            "20/20 [==============================] - 0s 2ms/step - loss: 0.5286 - accuracy: 0.7459 - val_loss: 0.5138 - val_accuracy: 0.7922\n"
          ],
          "name": "stdout"
        },
        {
          "output_type": "display_data",
          "data": {
            "text/html": [
              "<span style=\"color:#4527A0\"><h1 style=\"font-size:18px\">Trial complete</h1></span>"
            ],
            "text/plain": [
              "<IPython.core.display.HTML object>"
            ]
          },
          "metadata": {
            "tags": []
          }
        },
        {
          "output_type": "display_data",
          "data": {
            "text/html": [
              "<span style=\"color:#4527A0\"><h1 style=\"font-size:18px\">Trial summary</h1></span>"
            ],
            "text/plain": [
              "<IPython.core.display.HTML object>"
            ]
          },
          "metadata": {
            "tags": []
          }
        },
        {
          "output_type": "display_data",
          "data": {
            "text/html": [
              "<span style=\"color:cyan\"> |-Trial ID: d62d616f860d02d3da792ab943bcf1ef</span>"
            ],
            "text/plain": [
              "<IPython.core.display.HTML object>"
            ]
          },
          "metadata": {
            "tags": []
          }
        },
        {
          "output_type": "display_data",
          "data": {
            "text/html": [
              "<span style=\"color:cyan\"> |-Score: 0.7922077775001526</span>"
            ],
            "text/plain": [
              "<IPython.core.display.HTML object>"
            ]
          },
          "metadata": {
            "tags": []
          }
        },
        {
          "output_type": "display_data",
          "data": {
            "text/html": [
              "<span style=\"color:cyan\"> |-Best step: 0</span>"
            ],
            "text/plain": [
              "<IPython.core.display.HTML object>"
            ]
          },
          "metadata": {
            "tags": []
          }
        },
        {
          "output_type": "display_data",
          "data": {
            "text/html": [
              "<span style=\"color:#7E57C2\"><h2 style=\"font-size:16px\">Hyperparameters:</h2></span>"
            ],
            "text/plain": [
              "<IPython.core.display.HTML object>"
            ]
          },
          "metadata": {
            "tags": []
          }
        },
        {
          "output_type": "display_data",
          "data": {
            "text/html": [
              "<span style=\"color:cyan\"> |-optimizer: rmsprop</span>"
            ],
            "text/plain": [
              "<IPython.core.display.HTML object>"
            ]
          },
          "metadata": {
            "tags": []
          }
        },
        {
          "output_type": "stream",
          "text": [
            "INFO:tensorflow:Oracle triggered exit\n"
          ],
          "name": "stdout"
        }
      ]
    },
    {
      "cell_type": "code",
      "metadata": {
        "id": "LYZSTqNm0d_z",
        "outputId": "3d7f6f0e-ddec-42e4-ec26-8775314ecb2b",
        "colab": {
          "base_uri": "https://localhost:8080/",
          "height": 34
        }
      },
      "source": [
        "tuner.get_best_hyperparameters()[0].values"
      ],
      "execution_count": null,
      "outputs": [
        {
          "output_type": "execute_result",
          "data": {
            "text/plain": [
              "{'optimizer': 'rmsprop'}"
            ]
          },
          "metadata": {
            "tags": []
          },
          "execution_count": 29
        }
      ]
    },
    {
      "cell_type": "code",
      "metadata": {
        "id": "yyjEk3Qw01I3"
      },
      "source": [
        "model = tuner.get_best_models(num_models=1)[0]"
      ],
      "execution_count": null,
      "outputs": []
    },
    {
      "cell_type": "code",
      "metadata": {
        "id": "YZlp96yN1DyH",
        "outputId": "53d0959b-30e6-4aa1-bead-676a3fb108d3",
        "colab": {
          "base_uri": "https://localhost:8080/",
          "height": 228
        }
      },
      "source": [
        "model.summary()"
      ],
      "execution_count": null,
      "outputs": [
        {
          "output_type": "stream",
          "text": [
            "Model: \"sequential\"\n",
            "_________________________________________________________________\n",
            "Layer (type)                 Output Shape              Param #   \n",
            "=================================================================\n",
            "dense (Dense)                (None, 32)                288       \n",
            "_________________________________________________________________\n",
            "dense_1 (Dense)              (None, 1)                 33        \n",
            "=================================================================\n",
            "Total params: 321\n",
            "Trainable params: 321\n",
            "Non-trainable params: 0\n",
            "_________________________________________________________________\n"
          ],
          "name": "stdout"
        }
      ]
    },
    {
      "cell_type": "code",
      "metadata": {
        "id": "kvp4o_Zd1FaI",
        "outputId": "79a5e922-548c-4745-c79c-e5944b574962",
        "colab": {
          "base_uri": "https://localhost:8080/",
          "height": 1000
        }
      },
      "source": [
        "model.fit(X_train,y_train,batch_size=32,epochs=100,initial_epoch=6,validation_data=(X_test,y_test))"
      ],
      "execution_count": null,
      "outputs": [
        {
          "output_type": "stream",
          "text": [
            "Epoch 7/100\n",
            "20/20 [==============================] - 0s 7ms/step - loss: 0.5143 - accuracy: 0.7606 - val_loss: 0.4997 - val_accuracy: 0.8117\n",
            "Epoch 8/100\n",
            "20/20 [==============================] - 0s 2ms/step - loss: 0.5023 - accuracy: 0.7638 - val_loss: 0.4898 - val_accuracy: 0.7987\n",
            "Epoch 9/100\n",
            "20/20 [==============================] - 0s 2ms/step - loss: 0.4923 - accuracy: 0.7704 - val_loss: 0.4833 - val_accuracy: 0.8052\n",
            "Epoch 10/100\n",
            "20/20 [==============================] - 0s 2ms/step - loss: 0.4842 - accuracy: 0.7704 - val_loss: 0.4793 - val_accuracy: 0.7987\n",
            "Epoch 11/100\n",
            "20/20 [==============================] - 0s 2ms/step - loss: 0.4777 - accuracy: 0.7752 - val_loss: 0.4752 - val_accuracy: 0.8052\n",
            "Epoch 12/100\n",
            "20/20 [==============================] - 0s 2ms/step - loss: 0.4723 - accuracy: 0.7785 - val_loss: 0.4734 - val_accuracy: 0.7987\n",
            "Epoch 13/100\n",
            "20/20 [==============================] - 0s 2ms/step - loss: 0.4681 - accuracy: 0.7818 - val_loss: 0.4704 - val_accuracy: 0.8052\n",
            "Epoch 14/100\n",
            "20/20 [==============================] - 0s 2ms/step - loss: 0.4638 - accuracy: 0.7785 - val_loss: 0.4686 - val_accuracy: 0.7987\n",
            "Epoch 15/100\n",
            "20/20 [==============================] - 0s 2ms/step - loss: 0.4608 - accuracy: 0.7818 - val_loss: 0.4685 - val_accuracy: 0.7987\n",
            "Epoch 16/100\n",
            "20/20 [==============================] - 0s 2ms/step - loss: 0.4580 - accuracy: 0.7785 - val_loss: 0.4691 - val_accuracy: 0.7987\n",
            "Epoch 17/100\n",
            "20/20 [==============================] - 0s 2ms/step - loss: 0.4556 - accuracy: 0.7785 - val_loss: 0.4687 - val_accuracy: 0.7922\n",
            "Epoch 18/100\n",
            "20/20 [==============================] - 0s 3ms/step - loss: 0.4539 - accuracy: 0.7801 - val_loss: 0.4686 - val_accuracy: 0.7792\n",
            "Epoch 19/100\n",
            "20/20 [==============================] - 0s 2ms/step - loss: 0.4515 - accuracy: 0.7785 - val_loss: 0.4689 - val_accuracy: 0.7857\n",
            "Epoch 20/100\n",
            "20/20 [==============================] - 0s 2ms/step - loss: 0.4498 - accuracy: 0.7850 - val_loss: 0.4674 - val_accuracy: 0.7987\n",
            "Epoch 21/100\n",
            "20/20 [==============================] - 0s 2ms/step - loss: 0.4486 - accuracy: 0.7850 - val_loss: 0.4669 - val_accuracy: 0.7987\n",
            "Epoch 22/100\n",
            "20/20 [==============================] - 0s 2ms/step - loss: 0.4470 - accuracy: 0.7883 - val_loss: 0.4681 - val_accuracy: 0.7987\n",
            "Epoch 23/100\n",
            "20/20 [==============================] - 0s 2ms/step - loss: 0.4461 - accuracy: 0.7818 - val_loss: 0.4679 - val_accuracy: 0.7987\n",
            "Epoch 24/100\n",
            "20/20 [==============================] - 0s 2ms/step - loss: 0.4450 - accuracy: 0.7818 - val_loss: 0.4664 - val_accuracy: 0.7987\n",
            "Epoch 25/100\n",
            "20/20 [==============================] - 0s 2ms/step - loss: 0.4440 - accuracy: 0.7834 - val_loss: 0.4658 - val_accuracy: 0.8052\n",
            "Epoch 26/100\n",
            "20/20 [==============================] - 0s 2ms/step - loss: 0.4428 - accuracy: 0.7834 - val_loss: 0.4658 - val_accuracy: 0.8117\n",
            "Epoch 27/100\n",
            "20/20 [==============================] - 0s 2ms/step - loss: 0.4422 - accuracy: 0.7850 - val_loss: 0.4660 - val_accuracy: 0.8117\n",
            "Epoch 28/100\n",
            "20/20 [==============================] - 0s 2ms/step - loss: 0.4410 - accuracy: 0.7818 - val_loss: 0.4668 - val_accuracy: 0.7987\n",
            "Epoch 29/100\n",
            "20/20 [==============================] - 0s 2ms/step - loss: 0.4404 - accuracy: 0.7818 - val_loss: 0.4675 - val_accuracy: 0.8052\n",
            "Epoch 30/100\n",
            "20/20 [==============================] - 0s 3ms/step - loss: 0.4399 - accuracy: 0.7818 - val_loss: 0.4674 - val_accuracy: 0.8052\n",
            "Epoch 31/100\n",
            "20/20 [==============================] - 0s 2ms/step - loss: 0.4393 - accuracy: 0.7850 - val_loss: 0.4670 - val_accuracy: 0.8052\n",
            "Epoch 32/100\n",
            "20/20 [==============================] - 0s 2ms/step - loss: 0.4384 - accuracy: 0.7801 - val_loss: 0.4677 - val_accuracy: 0.8052\n",
            "Epoch 33/100\n",
            "20/20 [==============================] - 0s 2ms/step - loss: 0.4377 - accuracy: 0.7818 - val_loss: 0.4682 - val_accuracy: 0.8052\n",
            "Epoch 34/100\n",
            "20/20 [==============================] - 0s 2ms/step - loss: 0.4376 - accuracy: 0.7834 - val_loss: 0.4678 - val_accuracy: 0.8052\n",
            "Epoch 35/100\n",
            "20/20 [==============================] - 0s 2ms/step - loss: 0.4368 - accuracy: 0.7801 - val_loss: 0.4686 - val_accuracy: 0.8117\n",
            "Epoch 36/100\n",
            "20/20 [==============================] - 0s 2ms/step - loss: 0.4361 - accuracy: 0.7850 - val_loss: 0.4678 - val_accuracy: 0.7987\n",
            "Epoch 37/100\n",
            "20/20 [==============================] - 0s 2ms/step - loss: 0.4358 - accuracy: 0.7850 - val_loss: 0.4686 - val_accuracy: 0.7987\n",
            "Epoch 38/100\n",
            "20/20 [==============================] - 0s 2ms/step - loss: 0.4352 - accuracy: 0.7883 - val_loss: 0.4684 - val_accuracy: 0.8052\n",
            "Epoch 39/100\n",
            "20/20 [==============================] - 0s 2ms/step - loss: 0.4348 - accuracy: 0.7899 - val_loss: 0.4693 - val_accuracy: 0.7987\n",
            "Epoch 40/100\n",
            "20/20 [==============================] - 0s 2ms/step - loss: 0.4343 - accuracy: 0.7899 - val_loss: 0.4696 - val_accuracy: 0.7987\n",
            "Epoch 41/100\n",
            "20/20 [==============================] - 0s 2ms/step - loss: 0.4338 - accuracy: 0.7899 - val_loss: 0.4702 - val_accuracy: 0.7987\n",
            "Epoch 42/100\n",
            "20/20 [==============================] - 0s 2ms/step - loss: 0.4332 - accuracy: 0.7866 - val_loss: 0.4692 - val_accuracy: 0.8052\n",
            "Epoch 43/100\n",
            "20/20 [==============================] - 0s 2ms/step - loss: 0.4329 - accuracy: 0.7899 - val_loss: 0.4700 - val_accuracy: 0.7987\n",
            "Epoch 44/100\n",
            "20/20 [==============================] - 0s 2ms/step - loss: 0.4324 - accuracy: 0.7899 - val_loss: 0.4699 - val_accuracy: 0.8052\n",
            "Epoch 45/100\n",
            "20/20 [==============================] - 0s 2ms/step - loss: 0.4323 - accuracy: 0.7883 - val_loss: 0.4697 - val_accuracy: 0.8052\n",
            "Epoch 46/100\n",
            "20/20 [==============================] - 0s 2ms/step - loss: 0.4314 - accuracy: 0.7915 - val_loss: 0.4686 - val_accuracy: 0.8052\n",
            "Epoch 47/100\n",
            "20/20 [==============================] - 0s 2ms/step - loss: 0.4314 - accuracy: 0.7883 - val_loss: 0.4682 - val_accuracy: 0.8117\n",
            "Epoch 48/100\n",
            "20/20 [==============================] - 0s 2ms/step - loss: 0.4309 - accuracy: 0.7915 - val_loss: 0.4683 - val_accuracy: 0.8052\n",
            "Epoch 49/100\n",
            "20/20 [==============================] - 0s 2ms/step - loss: 0.4303 - accuracy: 0.7915 - val_loss: 0.4687 - val_accuracy: 0.7922\n",
            "Epoch 50/100\n",
            "20/20 [==============================] - 0s 2ms/step - loss: 0.4301 - accuracy: 0.7915 - val_loss: 0.4691 - val_accuracy: 0.7987\n",
            "Epoch 51/100\n",
            "20/20 [==============================] - 0s 2ms/step - loss: 0.4296 - accuracy: 0.7899 - val_loss: 0.4710 - val_accuracy: 0.7987\n",
            "Epoch 52/100\n",
            "20/20 [==============================] - 0s 3ms/step - loss: 0.4290 - accuracy: 0.7915 - val_loss: 0.4710 - val_accuracy: 0.7987\n",
            "Epoch 53/100\n",
            "20/20 [==============================] - 0s 2ms/step - loss: 0.4286 - accuracy: 0.7948 - val_loss: 0.4705 - val_accuracy: 0.7987\n",
            "Epoch 54/100\n",
            "20/20 [==============================] - 0s 2ms/step - loss: 0.4286 - accuracy: 0.7915 - val_loss: 0.4695 - val_accuracy: 0.8052\n",
            "Epoch 55/100\n",
            "20/20 [==============================] - 0s 2ms/step - loss: 0.4276 - accuracy: 0.7915 - val_loss: 0.4694 - val_accuracy: 0.7987\n",
            "Epoch 56/100\n",
            "20/20 [==============================] - 0s 2ms/step - loss: 0.4273 - accuracy: 0.7883 - val_loss: 0.4672 - val_accuracy: 0.8052\n",
            "Epoch 57/100\n",
            "20/20 [==============================] - 0s 2ms/step - loss: 0.4269 - accuracy: 0.7948 - val_loss: 0.4672 - val_accuracy: 0.7987\n",
            "Epoch 58/100\n",
            "20/20 [==============================] - 0s 2ms/step - loss: 0.4268 - accuracy: 0.7980 - val_loss: 0.4671 - val_accuracy: 0.7922\n",
            "Epoch 59/100\n",
            "20/20 [==============================] - 0s 2ms/step - loss: 0.4261 - accuracy: 0.7948 - val_loss: 0.4680 - val_accuracy: 0.7987\n",
            "Epoch 60/100\n",
            "20/20 [==============================] - 0s 2ms/step - loss: 0.4261 - accuracy: 0.7964 - val_loss: 0.4694 - val_accuracy: 0.8052\n",
            "Epoch 61/100\n",
            "20/20 [==============================] - 0s 2ms/step - loss: 0.4254 - accuracy: 0.7964 - val_loss: 0.4709 - val_accuracy: 0.8052\n",
            "Epoch 62/100\n",
            "20/20 [==============================] - 0s 2ms/step - loss: 0.4248 - accuracy: 0.7964 - val_loss: 0.4704 - val_accuracy: 0.8117\n",
            "Epoch 63/100\n",
            "20/20 [==============================] - 0s 2ms/step - loss: 0.4246 - accuracy: 0.7948 - val_loss: 0.4700 - val_accuracy: 0.8052\n",
            "Epoch 64/100\n",
            "20/20 [==============================] - 0s 2ms/step - loss: 0.4239 - accuracy: 0.7964 - val_loss: 0.4704 - val_accuracy: 0.8052\n",
            "Epoch 65/100\n",
            "20/20 [==============================] - 0s 2ms/step - loss: 0.4237 - accuracy: 0.7948 - val_loss: 0.4694 - val_accuracy: 0.8052\n",
            "Epoch 66/100\n",
            "20/20 [==============================] - 0s 2ms/step - loss: 0.4231 - accuracy: 0.7964 - val_loss: 0.4685 - val_accuracy: 0.8052\n",
            "Epoch 67/100\n",
            "20/20 [==============================] - 0s 2ms/step - loss: 0.4228 - accuracy: 0.7980 - val_loss: 0.4703 - val_accuracy: 0.8117\n",
            "Epoch 68/100\n",
            "20/20 [==============================] - 0s 2ms/step - loss: 0.4224 - accuracy: 0.7980 - val_loss: 0.4706 - val_accuracy: 0.8117\n",
            "Epoch 69/100\n",
            "20/20 [==============================] - 0s 2ms/step - loss: 0.4221 - accuracy: 0.7997 - val_loss: 0.4704 - val_accuracy: 0.8052\n",
            "Epoch 70/100\n",
            "20/20 [==============================] - 0s 2ms/step - loss: 0.4215 - accuracy: 0.8013 - val_loss: 0.4703 - val_accuracy: 0.8052\n",
            "Epoch 71/100\n",
            "20/20 [==============================] - 0s 2ms/step - loss: 0.4215 - accuracy: 0.8062 - val_loss: 0.4698 - val_accuracy: 0.7987\n",
            "Epoch 72/100\n",
            "20/20 [==============================] - 0s 2ms/step - loss: 0.4208 - accuracy: 0.8013 - val_loss: 0.4699 - val_accuracy: 0.8052\n",
            "Epoch 73/100\n",
            "20/20 [==============================] - 0s 2ms/step - loss: 0.4210 - accuracy: 0.8062 - val_loss: 0.4688 - val_accuracy: 0.8052\n",
            "Epoch 74/100\n",
            "20/20 [==============================] - 0s 2ms/step - loss: 0.4203 - accuracy: 0.8046 - val_loss: 0.4685 - val_accuracy: 0.8117\n",
            "Epoch 75/100\n",
            "20/20 [==============================] - 0s 2ms/step - loss: 0.4201 - accuracy: 0.8062 - val_loss: 0.4690 - val_accuracy: 0.8117\n",
            "Epoch 76/100\n",
            "20/20 [==============================] - 0s 2ms/step - loss: 0.4200 - accuracy: 0.8046 - val_loss: 0.4685 - val_accuracy: 0.8117\n",
            "Epoch 77/100\n",
            "20/20 [==============================] - 0s 2ms/step - loss: 0.4195 - accuracy: 0.8111 - val_loss: 0.4690 - val_accuracy: 0.8117\n",
            "Epoch 78/100\n",
            "20/20 [==============================] - 0s 2ms/step - loss: 0.4191 - accuracy: 0.8078 - val_loss: 0.4693 - val_accuracy: 0.8117\n",
            "Epoch 79/100\n",
            "20/20 [==============================] - 0s 2ms/step - loss: 0.4188 - accuracy: 0.8046 - val_loss: 0.4701 - val_accuracy: 0.8182\n",
            "Epoch 80/100\n",
            "20/20 [==============================] - 0s 3ms/step - loss: 0.4190 - accuracy: 0.8062 - val_loss: 0.4698 - val_accuracy: 0.8182\n",
            "Epoch 81/100\n",
            "20/20 [==============================] - 0s 2ms/step - loss: 0.4186 - accuracy: 0.8078 - val_loss: 0.4699 - val_accuracy: 0.8182\n",
            "Epoch 82/100\n",
            "20/20 [==============================] - 0s 2ms/step - loss: 0.4180 - accuracy: 0.8094 - val_loss: 0.4705 - val_accuracy: 0.8182\n",
            "Epoch 83/100\n",
            "20/20 [==============================] - 0s 2ms/step - loss: 0.4175 - accuracy: 0.8062 - val_loss: 0.4712 - val_accuracy: 0.8052\n",
            "Epoch 84/100\n",
            "20/20 [==============================] - 0s 2ms/step - loss: 0.4176 - accuracy: 0.8127 - val_loss: 0.4721 - val_accuracy: 0.7987\n",
            "Epoch 85/100\n",
            "20/20 [==============================] - 0s 2ms/step - loss: 0.4171 - accuracy: 0.8111 - val_loss: 0.4730 - val_accuracy: 0.7922\n",
            "Epoch 86/100\n",
            "20/20 [==============================] - 0s 2ms/step - loss: 0.4170 - accuracy: 0.8078 - val_loss: 0.4722 - val_accuracy: 0.7922\n",
            "Epoch 87/100\n",
            "20/20 [==============================] - 0s 2ms/step - loss: 0.4168 - accuracy: 0.8111 - val_loss: 0.4722 - val_accuracy: 0.7987\n",
            "Epoch 88/100\n",
            "20/20 [==============================] - 0s 2ms/step - loss: 0.4163 - accuracy: 0.8078 - val_loss: 0.4726 - val_accuracy: 0.7922\n",
            "Epoch 89/100\n",
            "20/20 [==============================] - 0s 2ms/step - loss: 0.4162 - accuracy: 0.8046 - val_loss: 0.4721 - val_accuracy: 0.8052\n",
            "Epoch 90/100\n",
            "20/20 [==============================] - 0s 2ms/step - loss: 0.4153 - accuracy: 0.8160 - val_loss: 0.4722 - val_accuracy: 0.8117\n",
            "Epoch 91/100\n",
            "20/20 [==============================] - 0s 2ms/step - loss: 0.4157 - accuracy: 0.8078 - val_loss: 0.4717 - val_accuracy: 0.8052\n",
            "Epoch 92/100\n",
            "20/20 [==============================] - 0s 2ms/step - loss: 0.4150 - accuracy: 0.8094 - val_loss: 0.4712 - val_accuracy: 0.8117\n",
            "Epoch 93/100\n",
            "20/20 [==============================] - 0s 2ms/step - loss: 0.4146 - accuracy: 0.8127 - val_loss: 0.4716 - val_accuracy: 0.8247\n",
            "Epoch 94/100\n",
            "20/20 [==============================] - 0s 2ms/step - loss: 0.4143 - accuracy: 0.8143 - val_loss: 0.4706 - val_accuracy: 0.8117\n",
            "Epoch 95/100\n",
            "20/20 [==============================] - 0s 2ms/step - loss: 0.4141 - accuracy: 0.8127 - val_loss: 0.4713 - val_accuracy: 0.8182\n",
            "Epoch 96/100\n",
            "20/20 [==============================] - 0s 2ms/step - loss: 0.4142 - accuracy: 0.8111 - val_loss: 0.4723 - val_accuracy: 0.8052\n",
            "Epoch 97/100\n",
            "20/20 [==============================] - 0s 2ms/step - loss: 0.4134 - accuracy: 0.8176 - val_loss: 0.4719 - val_accuracy: 0.8117\n",
            "Epoch 98/100\n",
            "20/20 [==============================] - 0s 2ms/step - loss: 0.4134 - accuracy: 0.8111 - val_loss: 0.4718 - val_accuracy: 0.8247\n",
            "Epoch 99/100\n",
            "20/20 [==============================] - 0s 2ms/step - loss: 0.4132 - accuracy: 0.8176 - val_loss: 0.4720 - val_accuracy: 0.8182\n",
            "Epoch 100/100\n",
            "20/20 [==============================] - 0s 2ms/step - loss: 0.4129 - accuracy: 0.8127 - val_loss: 0.4718 - val_accuracy: 0.8247\n"
          ],
          "name": "stdout"
        },
        {
          "output_type": "execute_result",
          "data": {
            "text/plain": [
              "<tensorflow.python.keras.callbacks.History at 0x7f78501d1ac8>"
            ]
          },
          "metadata": {
            "tags": []
          },
          "execution_count": 32
        }
      ]
    },
    {
      "cell_type": "code",
      "metadata": {
        "id": "IlOVYfJP1X2O"
      },
      "source": [
        "def build_model(hp):\n",
        "\n",
        "  model = Sequential()\n",
        "\n",
        "  units = hp.Int('units',min_value = 8,max_value = 128)\n",
        "\n",
        "  model.add(Dense(units=units, activation='relu',input_dim=8))\n",
        "  model.add(Dense(1,activation='sigmoid'))\n",
        "\n",
        "  model.compile(optimizer='rmsprop',loss='binary_crossentropy',metrics=['accuracy'])\n",
        "\n",
        "  return model"
      ],
      "execution_count": null,
      "outputs": []
    },
    {
      "cell_type": "code",
      "metadata": {
        "id": "TZHyGuJF2dRH"
      },
      "source": [
        "tuner = kt.RandomSearch(build_model,\n",
        "                        objective='val_accuracy',\n",
        "                        max_trials=5,\n",
        "                        directory='mydir',\n",
        "                        project_name='srk')"
      ],
      "execution_count": null,
      "outputs": []
    },
    {
      "cell_type": "code",
      "metadata": {
        "id": "FK-rrbm52rGD",
        "outputId": "0a8294f6-9610-4947-be02-8ba3c5ccabcf",
        "colab": {
          "base_uri": "https://localhost:8080/",
          "height": 1000
        }
      },
      "source": [
        "tuner.search(X_train,y_train,epochs=5,validation_data=(X_test,y_test))"
      ],
      "execution_count": null,
      "outputs": [
        {
          "output_type": "stream",
          "text": [
            "Epoch 1/5\n",
            "20/20 [==============================] - 0s 8ms/step - loss: 0.6748 - accuracy: 0.6091 - val_loss: 0.6120 - val_accuracy: 0.6948\n",
            "Epoch 2/5\n",
            "20/20 [==============================] - 0s 3ms/step - loss: 0.6134 - accuracy: 0.6954 - val_loss: 0.5675 - val_accuracy: 0.7532\n",
            "Epoch 3/5\n",
            "20/20 [==============================] - 0s 3ms/step - loss: 0.5747 - accuracy: 0.7182 - val_loss: 0.5363 - val_accuracy: 0.7727\n",
            "Epoch 4/5\n",
            "20/20 [==============================] - 0s 2ms/step - loss: 0.5461 - accuracy: 0.7410 - val_loss: 0.5154 - val_accuracy: 0.7597\n",
            "Epoch 5/5\n",
            "20/20 [==============================] - 0s 2ms/step - loss: 0.5259 - accuracy: 0.7541 - val_loss: 0.5013 - val_accuracy: 0.7532\n"
          ],
          "name": "stdout"
        },
        {
          "output_type": "display_data",
          "data": {
            "text/html": [
              "<span style=\"color:#4527A0\"><h1 style=\"font-size:18px\">Trial complete</h1></span>"
            ],
            "text/plain": [
              "<IPython.core.display.HTML object>"
            ]
          },
          "metadata": {
            "tags": []
          }
        },
        {
          "output_type": "display_data",
          "data": {
            "text/html": [
              "<span style=\"color:#4527A0\"><h1 style=\"font-size:18px\">Trial summary</h1></span>"
            ],
            "text/plain": [
              "<IPython.core.display.HTML object>"
            ]
          },
          "metadata": {
            "tags": []
          }
        },
        {
          "output_type": "display_data",
          "data": {
            "text/html": [
              "<span style=\"color:cyan\"> |-Trial ID: a8e7dffff5e1d0ac384084304d259a0f</span>"
            ],
            "text/plain": [
              "<IPython.core.display.HTML object>"
            ]
          },
          "metadata": {
            "tags": []
          }
        },
        {
          "output_type": "display_data",
          "data": {
            "text/html": [
              "<span style=\"color:cyan\"> |-Score: 0.7727272510528564</span>"
            ],
            "text/plain": [
              "<IPython.core.display.HTML object>"
            ]
          },
          "metadata": {
            "tags": []
          }
        },
        {
          "output_type": "display_data",
          "data": {
            "text/html": [
              "<span style=\"color:cyan\"> |-Best step: 0</span>"
            ],
            "text/plain": [
              "<IPython.core.display.HTML object>"
            ]
          },
          "metadata": {
            "tags": []
          }
        },
        {
          "output_type": "display_data",
          "data": {
            "text/html": [
              "<span style=\"color:#7E57C2\"><h2 style=\"font-size:16px\">Hyperparameters:</h2></span>"
            ],
            "text/plain": [
              "<IPython.core.display.HTML object>"
            ]
          },
          "metadata": {
            "tags": []
          }
        },
        {
          "output_type": "display_data",
          "data": {
            "text/html": [
              "<span style=\"color:cyan\"> |-units: 44</span>"
            ],
            "text/plain": [
              "<IPython.core.display.HTML object>"
            ]
          },
          "metadata": {
            "tags": []
          }
        },
        {
          "output_type": "stream",
          "text": [
            "Epoch 1/5\n",
            "20/20 [==============================] - 0s 7ms/step - loss: 0.8946 - accuracy: 0.4121 - val_loss: 0.8397 - val_accuracy: 0.4481\n",
            "Epoch 2/5\n",
            "20/20 [==============================] - 0s 3ms/step - loss: 0.8149 - accuracy: 0.4788 - val_loss: 0.7747 - val_accuracy: 0.4935\n",
            "Epoch 3/5\n",
            "20/20 [==============================] - 0s 3ms/step - loss: 0.7556 - accuracy: 0.5293 - val_loss: 0.7208 - val_accuracy: 0.5519\n",
            "Epoch 4/5\n",
            "20/20 [==============================] - 0s 3ms/step - loss: 0.7067 - accuracy: 0.5717 - val_loss: 0.6765 - val_accuracy: 0.5844\n",
            "Epoch 5/5\n",
            "20/20 [==============================] - 0s 3ms/step - loss: 0.6705 - accuracy: 0.6140 - val_loss: 0.6448 - val_accuracy: 0.5974\n"
          ],
          "name": "stdout"
        },
        {
          "output_type": "display_data",
          "data": {
            "text/html": [
              "<span style=\"color:#4527A0\"><h1 style=\"font-size:18px\">Trial complete</h1></span>"
            ],
            "text/plain": [
              "<IPython.core.display.HTML object>"
            ]
          },
          "metadata": {
            "tags": []
          }
        },
        {
          "output_type": "display_data",
          "data": {
            "text/html": [
              "<span style=\"color:#4527A0\"><h1 style=\"font-size:18px\">Trial summary</h1></span>"
            ],
            "text/plain": [
              "<IPython.core.display.HTML object>"
            ]
          },
          "metadata": {
            "tags": []
          }
        },
        {
          "output_type": "display_data",
          "data": {
            "text/html": [
              "<span style=\"color:cyan\"> |-Trial ID: a15dfc65d62cccbec731693ef198cb07</span>"
            ],
            "text/plain": [
              "<IPython.core.display.HTML object>"
            ]
          },
          "metadata": {
            "tags": []
          }
        },
        {
          "output_type": "display_data",
          "data": {
            "text/html": [
              "<span style=\"color:cyan\"> |-Score: 0.5974025726318359</span>"
            ],
            "text/plain": [
              "<IPython.core.display.HTML object>"
            ]
          },
          "metadata": {
            "tags": []
          }
        },
        {
          "output_type": "display_data",
          "data": {
            "text/html": [
              "<span style=\"color:cyan\"> |-Best step: 0</span>"
            ],
            "text/plain": [
              "<IPython.core.display.HTML object>"
            ]
          },
          "metadata": {
            "tags": []
          }
        },
        {
          "output_type": "display_data",
          "data": {
            "text/html": [
              "<span style=\"color:#7E57C2\"><h2 style=\"font-size:16px\">Hyperparameters:</h2></span>"
            ],
            "text/plain": [
              "<IPython.core.display.HTML object>"
            ]
          },
          "metadata": {
            "tags": []
          }
        },
        {
          "output_type": "display_data",
          "data": {
            "text/html": [
              "<span style=\"color:cyan\"> |-units: 13</span>"
            ],
            "text/plain": [
              "<IPython.core.display.HTML object>"
            ]
          },
          "metadata": {
            "tags": []
          }
        },
        {
          "output_type": "stream",
          "text": [
            "Epoch 1/5\n",
            "20/20 [==============================] - 0s 8ms/step - loss: 0.6658 - accuracy: 0.6026 - val_loss: 0.6161 - val_accuracy: 0.7403\n",
            "Epoch 2/5\n",
            "20/20 [==============================] - 0s 3ms/step - loss: 0.6030 - accuracy: 0.6906 - val_loss: 0.5750 - val_accuracy: 0.7727\n",
            "Epoch 3/5\n",
            "20/20 [==============================] - 0s 2ms/step - loss: 0.5662 - accuracy: 0.7215 - val_loss: 0.5432 - val_accuracy: 0.7662\n",
            "Epoch 4/5\n",
            "20/20 [==============================] - 0s 2ms/step - loss: 0.5373 - accuracy: 0.7476 - val_loss: 0.5204 - val_accuracy: 0.7727\n",
            "Epoch 5/5\n",
            "20/20 [==============================] - 0s 2ms/step - loss: 0.5163 - accuracy: 0.7606 - val_loss: 0.5047 - val_accuracy: 0.7727\n"
          ],
          "name": "stdout"
        },
        {
          "output_type": "display_data",
          "data": {
            "text/html": [
              "<span style=\"color:#4527A0\"><h1 style=\"font-size:18px\">Trial complete</h1></span>"
            ],
            "text/plain": [
              "<IPython.core.display.HTML object>"
            ]
          },
          "metadata": {
            "tags": []
          }
        },
        {
          "output_type": "display_data",
          "data": {
            "text/html": [
              "<span style=\"color:#4527A0\"><h1 style=\"font-size:18px\">Trial summary</h1></span>"
            ],
            "text/plain": [
              "<IPython.core.display.HTML object>"
            ]
          },
          "metadata": {
            "tags": []
          }
        },
        {
          "output_type": "display_data",
          "data": {
            "text/html": [
              "<span style=\"color:cyan\"> |-Trial ID: 8a474f98032f821360e088850a36d5d3</span>"
            ],
            "text/plain": [
              "<IPython.core.display.HTML object>"
            ]
          },
          "metadata": {
            "tags": []
          }
        },
        {
          "output_type": "display_data",
          "data": {
            "text/html": [
              "<span style=\"color:cyan\"> |-Score: 0.7727272510528564</span>"
            ],
            "text/plain": [
              "<IPython.core.display.HTML object>"
            ]
          },
          "metadata": {
            "tags": []
          }
        },
        {
          "output_type": "display_data",
          "data": {
            "text/html": [
              "<span style=\"color:cyan\"> |-Best step: 0</span>"
            ],
            "text/plain": [
              "<IPython.core.display.HTML object>"
            ]
          },
          "metadata": {
            "tags": []
          }
        },
        {
          "output_type": "display_data",
          "data": {
            "text/html": [
              "<span style=\"color:#7E57C2\"><h2 style=\"font-size:16px\">Hyperparameters:</h2></span>"
            ],
            "text/plain": [
              "<IPython.core.display.HTML object>"
            ]
          },
          "metadata": {
            "tags": []
          }
        },
        {
          "output_type": "display_data",
          "data": {
            "text/html": [
              "<span style=\"color:cyan\"> |-units: 37</span>"
            ],
            "text/plain": [
              "<IPython.core.display.HTML object>"
            ]
          },
          "metadata": {
            "tags": []
          }
        },
        {
          "output_type": "stream",
          "text": [
            "Epoch 1/5\n",
            "20/20 [==============================] - 0s 8ms/step - loss: 0.5969 - accuracy: 0.7166 - val_loss: 0.5581 - val_accuracy: 0.7468\n",
            "Epoch 2/5\n",
            "20/20 [==============================] - 0s 3ms/step - loss: 0.5451 - accuracy: 0.7590 - val_loss: 0.5271 - val_accuracy: 0.7597\n",
            "Epoch 3/5\n",
            "20/20 [==============================] - 0s 2ms/step - loss: 0.5193 - accuracy: 0.7752 - val_loss: 0.5073 - val_accuracy: 0.7792\n",
            "Epoch 4/5\n",
            "20/20 [==============================] - 0s 2ms/step - loss: 0.5002 - accuracy: 0.7736 - val_loss: 0.4915 - val_accuracy: 0.7727\n",
            "Epoch 5/5\n",
            "20/20 [==============================] - 0s 2ms/step - loss: 0.4860 - accuracy: 0.7769 - val_loss: 0.4817 - val_accuracy: 0.7792\n"
          ],
          "name": "stdout"
        },
        {
          "output_type": "display_data",
          "data": {
            "text/html": [
              "<span style=\"color:#4527A0\"><h1 style=\"font-size:18px\">Trial complete</h1></span>"
            ],
            "text/plain": [
              "<IPython.core.display.HTML object>"
            ]
          },
          "metadata": {
            "tags": []
          }
        },
        {
          "output_type": "display_data",
          "data": {
            "text/html": [
              "<span style=\"color:#4527A0\"><h1 style=\"font-size:18px\">Trial summary</h1></span>"
            ],
            "text/plain": [
              "<IPython.core.display.HTML object>"
            ]
          },
          "metadata": {
            "tags": []
          }
        },
        {
          "output_type": "display_data",
          "data": {
            "text/html": [
              "<span style=\"color:cyan\"> |-Trial ID: 1d308a063ca3e42c569a0287b65064ef</span>"
            ],
            "text/plain": [
              "<IPython.core.display.HTML object>"
            ]
          },
          "metadata": {
            "tags": []
          }
        },
        {
          "output_type": "display_data",
          "data": {
            "text/html": [
              "<span style=\"color:cyan\"> |-Score: 0.7792207598686218</span>"
            ],
            "text/plain": [
              "<IPython.core.display.HTML object>"
            ]
          },
          "metadata": {
            "tags": []
          }
        },
        {
          "output_type": "display_data",
          "data": {
            "text/html": [
              "<span style=\"color:cyan\"> |-Best step: 0</span>"
            ],
            "text/plain": [
              "<IPython.core.display.HTML object>"
            ]
          },
          "metadata": {
            "tags": []
          }
        },
        {
          "output_type": "display_data",
          "data": {
            "text/html": [
              "<span style=\"color:#7E57C2\"><h2 style=\"font-size:16px\">Hyperparameters:</h2></span>"
            ],
            "text/plain": [
              "<IPython.core.display.HTML object>"
            ]
          },
          "metadata": {
            "tags": []
          }
        },
        {
          "output_type": "display_data",
          "data": {
            "text/html": [
              "<span style=\"color:cyan\"> |-units: 72</span>"
            ],
            "text/plain": [
              "<IPython.core.display.HTML object>"
            ]
          },
          "metadata": {
            "tags": []
          }
        },
        {
          "output_type": "stream",
          "text": [
            "Epoch 1/5\n",
            "20/20 [==============================] - 0s 7ms/step - loss: 0.7151 - accuracy: 0.4886 - val_loss: 0.7072 - val_accuracy: 0.5714\n",
            "Epoch 2/5\n",
            "20/20 [==============================] - 0s 3ms/step - loss: 0.6526 - accuracy: 0.6384 - val_loss: 0.6627 - val_accuracy: 0.6558\n",
            "Epoch 3/5\n",
            "20/20 [==============================] - 0s 3ms/step - loss: 0.6142 - accuracy: 0.6922 - val_loss: 0.6244 - val_accuracy: 0.7013\n",
            "Epoch 4/5\n",
            "20/20 [==============================] - 0s 3ms/step - loss: 0.5813 - accuracy: 0.7117 - val_loss: 0.5952 - val_accuracy: 0.7273\n",
            "Epoch 5/5\n",
            "20/20 [==============================] - 0s 2ms/step - loss: 0.5560 - accuracy: 0.7264 - val_loss: 0.5706 - val_accuracy: 0.7338\n"
          ],
          "name": "stdout"
        },
        {
          "output_type": "display_data",
          "data": {
            "text/html": [
              "<span style=\"color:#4527A0\"><h1 style=\"font-size:18px\">Trial complete</h1></span>"
            ],
            "text/plain": [
              "<IPython.core.display.HTML object>"
            ]
          },
          "metadata": {
            "tags": []
          }
        },
        {
          "output_type": "display_data",
          "data": {
            "text/html": [
              "<span style=\"color:#4527A0\"><h1 style=\"font-size:18px\">Trial summary</h1></span>"
            ],
            "text/plain": [
              "<IPython.core.display.HTML object>"
            ]
          },
          "metadata": {
            "tags": []
          }
        },
        {
          "output_type": "display_data",
          "data": {
            "text/html": [
              "<span style=\"color:cyan\"> |-Trial ID: 26cd6d62c710be9086a3d6447db542e8</span>"
            ],
            "text/plain": [
              "<IPython.core.display.HTML object>"
            ]
          },
          "metadata": {
            "tags": []
          }
        },
        {
          "output_type": "display_data",
          "data": {
            "text/html": [
              "<span style=\"color:cyan\"> |-Score: 0.7337662577629089</span>"
            ],
            "text/plain": [
              "<IPython.core.display.HTML object>"
            ]
          },
          "metadata": {
            "tags": []
          }
        },
        {
          "output_type": "display_data",
          "data": {
            "text/html": [
              "<span style=\"color:cyan\"> |-Best step: 0</span>"
            ],
            "text/plain": [
              "<IPython.core.display.HTML object>"
            ]
          },
          "metadata": {
            "tags": []
          }
        },
        {
          "output_type": "display_data",
          "data": {
            "text/html": [
              "<span style=\"color:#7E57C2\"><h2 style=\"font-size:16px\">Hyperparameters:</h2></span>"
            ],
            "text/plain": [
              "<IPython.core.display.HTML object>"
            ]
          },
          "metadata": {
            "tags": []
          }
        },
        {
          "output_type": "display_data",
          "data": {
            "text/html": [
              "<span style=\"color:cyan\"> |-units: 22</span>"
            ],
            "text/plain": [
              "<IPython.core.display.HTML object>"
            ]
          },
          "metadata": {
            "tags": []
          }
        },
        {
          "output_type": "stream",
          "text": [
            "INFO:tensorflow:Oracle triggered exit\n"
          ],
          "name": "stdout"
        }
      ]
    },
    {
      "cell_type": "code",
      "metadata": {
        "id": "tHswX-Ua3I2I",
        "outputId": "995b3d92-4499-4ba2-e4eb-2535d1d9e665",
        "colab": {
          "base_uri": "https://localhost:8080/",
          "height": 34
        }
      },
      "source": [
        "tuner.get_best_hyperparameters()[0].values"
      ],
      "execution_count": null,
      "outputs": [
        {
          "output_type": "execute_result",
          "data": {
            "text/plain": [
              "{'units': 72}"
            ]
          },
          "metadata": {
            "tags": []
          },
          "execution_count": 53
        }
      ]
    },
    {
      "cell_type": "code",
      "metadata": {
        "id": "xioPrQ2R4PAt"
      },
      "source": [
        "model = tuner.get_best_models(num_models=1)[0]"
      ],
      "execution_count": null,
      "outputs": []
    },
    {
      "cell_type": "code",
      "metadata": {
        "id": "5An4mdCt4o78",
        "outputId": "1b80d61b-5cfc-4d31-8465-2a6dff2f0f6d",
        "colab": {
          "base_uri": "https://localhost:8080/",
          "height": 1000
        }
      },
      "source": [
        "model.fit(X_train,y_train,batch_size=32,epochs=100,initial_epoch=6)"
      ],
      "execution_count": null,
      "outputs": [
        {
          "output_type": "stream",
          "text": [
            "Epoch 7/100\n",
            "20/20 [==============================] - 0s 1ms/step - loss: 0.5004 - accuracy: 0.7752\n",
            "Epoch 8/100\n",
            "20/20 [==============================] - 0s 2ms/step - loss: 0.4867 - accuracy: 0.7736\n",
            "Epoch 9/100\n",
            "20/20 [==============================] - 0s 1ms/step - loss: 0.4767 - accuracy: 0.7752\n",
            "Epoch 10/100\n",
            "20/20 [==============================] - 0s 1ms/step - loss: 0.4700 - accuracy: 0.7752\n",
            "Epoch 11/100\n",
            "20/20 [==============================] - 0s 1ms/step - loss: 0.4648 - accuracy: 0.7769\n",
            "Epoch 12/100\n",
            "20/20 [==============================] - 0s 1ms/step - loss: 0.4615 - accuracy: 0.7769\n",
            "Epoch 13/100\n",
            "20/20 [==============================] - 0s 1ms/step - loss: 0.4579 - accuracy: 0.7801\n",
            "Epoch 14/100\n",
            "20/20 [==============================] - 0s 1ms/step - loss: 0.4558 - accuracy: 0.7818\n",
            "Epoch 15/100\n",
            "20/20 [==============================] - 0s 1ms/step - loss: 0.4535 - accuracy: 0.7752\n",
            "Epoch 16/100\n",
            "20/20 [==============================] - 0s 2ms/step - loss: 0.4519 - accuracy: 0.7785\n",
            "Epoch 17/100\n",
            "20/20 [==============================] - 0s 1ms/step - loss: 0.4504 - accuracy: 0.7818\n",
            "Epoch 18/100\n",
            "20/20 [==============================] - 0s 2ms/step - loss: 0.4492 - accuracy: 0.7818\n",
            "Epoch 19/100\n",
            "20/20 [==============================] - 0s 2ms/step - loss: 0.4488 - accuracy: 0.7769\n",
            "Epoch 20/100\n",
            "20/20 [==============================] - 0s 1ms/step - loss: 0.4468 - accuracy: 0.7785\n",
            "Epoch 21/100\n",
            "20/20 [==============================] - 0s 2ms/step - loss: 0.4459 - accuracy: 0.7769\n",
            "Epoch 22/100\n",
            "20/20 [==============================] - 0s 1ms/step - loss: 0.4451 - accuracy: 0.7801\n",
            "Epoch 23/100\n",
            "20/20 [==============================] - 0s 1ms/step - loss: 0.4437 - accuracy: 0.7834\n",
            "Epoch 24/100\n",
            "20/20 [==============================] - 0s 1ms/step - loss: 0.4428 - accuracy: 0.7850\n",
            "Epoch 25/100\n",
            "20/20 [==============================] - 0s 1ms/step - loss: 0.4424 - accuracy: 0.7850\n",
            "Epoch 26/100\n",
            "20/20 [==============================] - 0s 1ms/step - loss: 0.4418 - accuracy: 0.7899\n",
            "Epoch 27/100\n",
            "20/20 [==============================] - 0s 2ms/step - loss: 0.4410 - accuracy: 0.7883\n",
            "Epoch 28/100\n",
            "20/20 [==============================] - 0s 2ms/step - loss: 0.4400 - accuracy: 0.7834\n",
            "Epoch 29/100\n",
            "20/20 [==============================] - 0s 1ms/step - loss: 0.4397 - accuracy: 0.7850\n",
            "Epoch 30/100\n",
            "20/20 [==============================] - 0s 1ms/step - loss: 0.4385 - accuracy: 0.7818\n",
            "Epoch 31/100\n",
            "20/20 [==============================] - 0s 1ms/step - loss: 0.4380 - accuracy: 0.7883\n",
            "Epoch 32/100\n",
            "20/20 [==============================] - 0s 1ms/step - loss: 0.4373 - accuracy: 0.7801\n",
            "Epoch 33/100\n",
            "20/20 [==============================] - 0s 1ms/step - loss: 0.4366 - accuracy: 0.7850\n",
            "Epoch 34/100\n",
            "20/20 [==============================] - 0s 1ms/step - loss: 0.4360 - accuracy: 0.7866\n",
            "Epoch 35/100\n",
            "20/20 [==============================] - 0s 1ms/step - loss: 0.4350 - accuracy: 0.7801\n",
            "Epoch 36/100\n",
            "20/20 [==============================] - 0s 1ms/step - loss: 0.4344 - accuracy: 0.7915\n",
            "Epoch 37/100\n",
            "20/20 [==============================] - 0s 1ms/step - loss: 0.4337 - accuracy: 0.7899\n",
            "Epoch 38/100\n",
            "20/20 [==============================] - 0s 2ms/step - loss: 0.4328 - accuracy: 0.7899\n",
            "Epoch 39/100\n",
            "20/20 [==============================] - 0s 2ms/step - loss: 0.4321 - accuracy: 0.7899\n",
            "Epoch 40/100\n",
            "20/20 [==============================] - 0s 1ms/step - loss: 0.4319 - accuracy: 0.7899\n",
            "Epoch 41/100\n",
            "20/20 [==============================] - 0s 2ms/step - loss: 0.4312 - accuracy: 0.7948\n",
            "Epoch 42/100\n",
            "20/20 [==============================] - 0s 1ms/step - loss: 0.4310 - accuracy: 0.7915\n",
            "Epoch 43/100\n",
            "20/20 [==============================] - 0s 2ms/step - loss: 0.4301 - accuracy: 0.7899\n",
            "Epoch 44/100\n",
            "20/20 [==============================] - 0s 1ms/step - loss: 0.4291 - accuracy: 0.7948\n",
            "Epoch 45/100\n",
            "20/20 [==============================] - 0s 1ms/step - loss: 0.4290 - accuracy: 0.7915\n",
            "Epoch 46/100\n",
            "20/20 [==============================] - 0s 2ms/step - loss: 0.4285 - accuracy: 0.7866\n",
            "Epoch 47/100\n",
            "20/20 [==============================] - 0s 1ms/step - loss: 0.4280 - accuracy: 0.7964\n",
            "Epoch 48/100\n",
            "20/20 [==============================] - 0s 2ms/step - loss: 0.4272 - accuracy: 0.7834\n",
            "Epoch 49/100\n",
            "20/20 [==============================] - 0s 1ms/step - loss: 0.4267 - accuracy: 0.7964\n",
            "Epoch 50/100\n",
            "20/20 [==============================] - 0s 1ms/step - loss: 0.4264 - accuracy: 0.7980\n",
            "Epoch 51/100\n",
            "20/20 [==============================] - 0s 1ms/step - loss: 0.4263 - accuracy: 0.7915\n",
            "Epoch 52/100\n",
            "20/20 [==============================] - 0s 1ms/step - loss: 0.4251 - accuracy: 0.7964\n",
            "Epoch 53/100\n",
            "20/20 [==============================] - 0s 1ms/step - loss: 0.4250 - accuracy: 0.7980\n",
            "Epoch 54/100\n",
            "20/20 [==============================] - 0s 1ms/step - loss: 0.4245 - accuracy: 0.7980\n",
            "Epoch 55/100\n",
            "20/20 [==============================] - 0s 1ms/step - loss: 0.4242 - accuracy: 0.7899\n",
            "Epoch 56/100\n",
            "20/20 [==============================] - 0s 1ms/step - loss: 0.4239 - accuracy: 0.7980\n",
            "Epoch 57/100\n",
            "20/20 [==============================] - 0s 2ms/step - loss: 0.4232 - accuracy: 0.8029\n",
            "Epoch 58/100\n",
            "20/20 [==============================] - 0s 1ms/step - loss: 0.4235 - accuracy: 0.7948\n",
            "Epoch 59/100\n",
            "20/20 [==============================] - 0s 1ms/step - loss: 0.4226 - accuracy: 0.7980\n",
            "Epoch 60/100\n",
            "20/20 [==============================] - 0s 2ms/step - loss: 0.4220 - accuracy: 0.7883\n",
            "Epoch 61/100\n",
            "20/20 [==============================] - 0s 1ms/step - loss: 0.4219 - accuracy: 0.7980\n",
            "Epoch 62/100\n",
            "20/20 [==============================] - 0s 1ms/step - loss: 0.4211 - accuracy: 0.8013\n",
            "Epoch 63/100\n",
            "20/20 [==============================] - 0s 1ms/step - loss: 0.4210 - accuracy: 0.8013\n",
            "Epoch 64/100\n",
            "20/20 [==============================] - 0s 1ms/step - loss: 0.4205 - accuracy: 0.7997\n",
            "Epoch 65/100\n",
            "20/20 [==============================] - 0s 1ms/step - loss: 0.4204 - accuracy: 0.7964\n",
            "Epoch 66/100\n",
            "20/20 [==============================] - 0s 1ms/step - loss: 0.4187 - accuracy: 0.8029\n",
            "Epoch 67/100\n",
            "20/20 [==============================] - 0s 2ms/step - loss: 0.4190 - accuracy: 0.7899\n",
            "Epoch 68/100\n",
            "20/20 [==============================] - 0s 1ms/step - loss: 0.4186 - accuracy: 0.7997\n",
            "Epoch 69/100\n",
            "20/20 [==============================] - 0s 1ms/step - loss: 0.4180 - accuracy: 0.8013\n",
            "Epoch 70/100\n",
            "20/20 [==============================] - 0s 1ms/step - loss: 0.4183 - accuracy: 0.7980\n",
            "Epoch 71/100\n",
            "20/20 [==============================] - 0s 2ms/step - loss: 0.4177 - accuracy: 0.8013\n",
            "Epoch 72/100\n",
            "20/20 [==============================] - 0s 2ms/step - loss: 0.4173 - accuracy: 0.8029\n",
            "Epoch 73/100\n",
            "20/20 [==============================] - 0s 2ms/step - loss: 0.4167 - accuracy: 0.8013\n",
            "Epoch 74/100\n",
            "20/20 [==============================] - 0s 2ms/step - loss: 0.4160 - accuracy: 0.8062\n",
            "Epoch 75/100\n",
            "20/20 [==============================] - 0s 1ms/step - loss: 0.4154 - accuracy: 0.8029\n",
            "Epoch 76/100\n",
            "20/20 [==============================] - 0s 1ms/step - loss: 0.4153 - accuracy: 0.8013\n",
            "Epoch 77/100\n",
            "20/20 [==============================] - 0s 1ms/step - loss: 0.4147 - accuracy: 0.8029\n",
            "Epoch 78/100\n",
            "20/20 [==============================] - 0s 1ms/step - loss: 0.4145 - accuracy: 0.8046\n",
            "Epoch 79/100\n",
            "20/20 [==============================] - 0s 1ms/step - loss: 0.4141 - accuracy: 0.8029\n",
            "Epoch 80/100\n",
            "20/20 [==============================] - 0s 1ms/step - loss: 0.4136 - accuracy: 0.8062\n",
            "Epoch 81/100\n",
            "20/20 [==============================] - 0s 1ms/step - loss: 0.4133 - accuracy: 0.8029\n",
            "Epoch 82/100\n",
            "20/20 [==============================] - 0s 2ms/step - loss: 0.4127 - accuracy: 0.8029\n",
            "Epoch 83/100\n",
            "20/20 [==============================] - 0s 2ms/step - loss: 0.4124 - accuracy: 0.8029\n",
            "Epoch 84/100\n",
            "20/20 [==============================] - 0s 2ms/step - loss: 0.4123 - accuracy: 0.8029\n",
            "Epoch 85/100\n",
            "20/20 [==============================] - 0s 1ms/step - loss: 0.4122 - accuracy: 0.8094\n",
            "Epoch 86/100\n",
            "20/20 [==============================] - 0s 1ms/step - loss: 0.4115 - accuracy: 0.8094\n",
            "Epoch 87/100\n",
            "20/20 [==============================] - 0s 1ms/step - loss: 0.4109 - accuracy: 0.8046\n",
            "Epoch 88/100\n",
            "20/20 [==============================] - 0s 1ms/step - loss: 0.4106 - accuracy: 0.8046\n",
            "Epoch 89/100\n",
            "20/20 [==============================] - 0s 2ms/step - loss: 0.4102 - accuracy: 0.8046\n",
            "Epoch 90/100\n",
            "20/20 [==============================] - 0s 1ms/step - loss: 0.4097 - accuracy: 0.8127\n",
            "Epoch 91/100\n",
            "20/20 [==============================] - 0s 1ms/step - loss: 0.4095 - accuracy: 0.8111\n",
            "Epoch 92/100\n",
            "20/20 [==============================] - 0s 1ms/step - loss: 0.4088 - accuracy: 0.8062\n",
            "Epoch 93/100\n",
            "20/20 [==============================] - 0s 1ms/step - loss: 0.4087 - accuracy: 0.8094\n",
            "Epoch 94/100\n",
            "20/20 [==============================] - 0s 1ms/step - loss: 0.4084 - accuracy: 0.8078\n",
            "Epoch 95/100\n",
            "20/20 [==============================] - 0s 1ms/step - loss: 0.4075 - accuracy: 0.8094\n",
            "Epoch 96/100\n",
            "20/20 [==============================] - 0s 2ms/step - loss: 0.4075 - accuracy: 0.8062\n",
            "Epoch 97/100\n",
            "20/20 [==============================] - 0s 1ms/step - loss: 0.4068 - accuracy: 0.8127\n",
            "Epoch 98/100\n",
            "20/20 [==============================] - 0s 1ms/step - loss: 0.4064 - accuracy: 0.8176\n",
            "Epoch 99/100\n",
            "20/20 [==============================] - 0s 1ms/step - loss: 0.4061 - accuracy: 0.8225\n",
            "Epoch 100/100\n",
            "20/20 [==============================] - 0s 2ms/step - loss: 0.4056 - accuracy: 0.8094\n"
          ],
          "name": "stdout"
        },
        {
          "output_type": "execute_result",
          "data": {
            "text/plain": [
              "<tensorflow.python.keras.callbacks.History at 0x7f78436efba8>"
            ]
          },
          "metadata": {
            "tags": []
          },
          "execution_count": 55
        }
      ]
    },
    {
      "cell_type": "code",
      "metadata": {
        "id": "sAC0IKIH4zi5"
      },
      "source": [
        "def build_model(hp):\n",
        "\n",
        "  model = Sequential()\n",
        "\n",
        "  model.add(Dense(72,activation='relu',input_dim=8))\n",
        "\n",
        "  for i in range(hp.Int('num_layers',min_value=1,max_value=10)):\n",
        "\n",
        "    model.add(Dense(72,activation='relu'))\n",
        "\n",
        "  model.add(Dense(1,activation='sigmoid'))\n",
        "\n",
        "  model.compile(optimizer='rmsprop',loss='binary_crossentropy',metrics=['accuracy'])\n",
        "\n",
        "  return model\n",
        "\n"
      ],
      "execution_count": null,
      "outputs": []
    },
    {
      "cell_type": "code",
      "metadata": {
        "id": "GswwP4WE6UWO"
      },
      "source": [
        "tuner = kt.RandomSearch(build_model,\n",
        "                        objective='val_accuracy',\n",
        "                        max_trials=3,\n",
        "                        directory='mydir',\n",
        "                        project_name='num_layers')"
      ],
      "execution_count": null,
      "outputs": []
    },
    {
      "cell_type": "code",
      "metadata": {
        "id": "yTDM8N9p6mg3",
        "outputId": "b237d84c-8934-4a2e-eb7f-e89623061962",
        "colab": {
          "base_uri": "https://localhost:8080/",
          "height": 1000
        }
      },
      "source": [
        "tuner.search(X_train,y_train,epochs=5,validation_data=(X_test,y_test))"
      ],
      "execution_count": null,
      "outputs": [
        {
          "output_type": "stream",
          "text": [
            "Epoch 1/5\n",
            "20/20 [==============================] - 0s 10ms/step - loss: 0.6034 - accuracy: 0.6678 - val_loss: 0.4774 - val_accuracy: 0.7857\n",
            "Epoch 2/5\n",
            "20/20 [==============================] - 0s 3ms/step - loss: 0.5003 - accuracy: 0.7427 - val_loss: 0.4944 - val_accuracy: 0.7662\n",
            "Epoch 3/5\n",
            "20/20 [==============================] - 0s 3ms/step - loss: 0.4614 - accuracy: 0.7818 - val_loss: 0.4880 - val_accuracy: 0.7727\n",
            "Epoch 4/5\n",
            "20/20 [==============================] - 0s 3ms/step - loss: 0.4548 - accuracy: 0.7655 - val_loss: 0.5026 - val_accuracy: 0.7597\n",
            "Epoch 5/5\n",
            "20/20 [==============================] - 0s 3ms/step - loss: 0.4455 - accuracy: 0.7818 - val_loss: 0.5070 - val_accuracy: 0.7727\n"
          ],
          "name": "stdout"
        },
        {
          "output_type": "display_data",
          "data": {
            "text/html": [
              "<span style=\"color:#4527A0\"><h1 style=\"font-size:18px\">Trial complete</h1></span>"
            ],
            "text/plain": [
              "<IPython.core.display.HTML object>"
            ]
          },
          "metadata": {
            "tags": []
          }
        },
        {
          "output_type": "display_data",
          "data": {
            "text/html": [
              "<span style=\"color:#4527A0\"><h1 style=\"font-size:18px\">Trial summary</h1></span>"
            ],
            "text/plain": [
              "<IPython.core.display.HTML object>"
            ]
          },
          "metadata": {
            "tags": []
          }
        },
        {
          "output_type": "display_data",
          "data": {
            "text/html": [
              "<span style=\"color:cyan\"> |-Trial ID: f4829b3f0d7787baa9546b7208065d7b</span>"
            ],
            "text/plain": [
              "<IPython.core.display.HTML object>"
            ]
          },
          "metadata": {
            "tags": []
          }
        },
        {
          "output_type": "display_data",
          "data": {
            "text/html": [
              "<span style=\"color:cyan\"> |-Score: 0.7857142686843872</span>"
            ],
            "text/plain": [
              "<IPython.core.display.HTML object>"
            ]
          },
          "metadata": {
            "tags": []
          }
        },
        {
          "output_type": "display_data",
          "data": {
            "text/html": [
              "<span style=\"color:cyan\"> |-Best step: 0</span>"
            ],
            "text/plain": [
              "<IPython.core.display.HTML object>"
            ]
          },
          "metadata": {
            "tags": []
          }
        },
        {
          "output_type": "display_data",
          "data": {
            "text/html": [
              "<span style=\"color:#7E57C2\"><h2 style=\"font-size:16px\">Hyperparameters:</h2></span>"
            ],
            "text/plain": [
              "<IPython.core.display.HTML object>"
            ]
          },
          "metadata": {
            "tags": []
          }
        },
        {
          "output_type": "display_data",
          "data": {
            "text/html": [
              "<span style=\"color:cyan\"> |-num_layers: 6</span>"
            ],
            "text/plain": [
              "<IPython.core.display.HTML object>"
            ]
          },
          "metadata": {
            "tags": []
          }
        },
        {
          "output_type": "stream",
          "text": [
            "Epoch 1/5\n",
            "20/20 [==============================] - 0s 11ms/step - loss: 0.6001 - accuracy: 0.6808 - val_loss: 0.5609 - val_accuracy: 0.7143\n",
            "Epoch 2/5\n",
            "20/20 [==============================] - 0s 4ms/step - loss: 0.4886 - accuracy: 0.7720 - val_loss: 0.4920 - val_accuracy: 0.7727\n",
            "Epoch 3/5\n",
            "20/20 [==============================] - 0s 5ms/step - loss: 0.4750 - accuracy: 0.7671 - val_loss: 0.4924 - val_accuracy: 0.7792\n",
            "Epoch 4/5\n",
            "20/20 [==============================] - 0s 3ms/step - loss: 0.4600 - accuracy: 0.7850 - val_loss: 0.5517 - val_accuracy: 0.7597\n",
            "Epoch 5/5\n",
            "20/20 [==============================] - 0s 3ms/step - loss: 0.4609 - accuracy: 0.7785 - val_loss: 0.5455 - val_accuracy: 0.7273\n"
          ],
          "name": "stdout"
        },
        {
          "output_type": "display_data",
          "data": {
            "text/html": [
              "<span style=\"color:#4527A0\"><h1 style=\"font-size:18px\">Trial complete</h1></span>"
            ],
            "text/plain": [
              "<IPython.core.display.HTML object>"
            ]
          },
          "metadata": {
            "tags": []
          }
        },
        {
          "output_type": "display_data",
          "data": {
            "text/html": [
              "<span style=\"color:#4527A0\"><h1 style=\"font-size:18px\">Trial summary</h1></span>"
            ],
            "text/plain": [
              "<IPython.core.display.HTML object>"
            ]
          },
          "metadata": {
            "tags": []
          }
        },
        {
          "output_type": "display_data",
          "data": {
            "text/html": [
              "<span style=\"color:cyan\"> |-Trial ID: 19789ea93c80e2a4117cb6ed584fdc1f</span>"
            ],
            "text/plain": [
              "<IPython.core.display.HTML object>"
            ]
          },
          "metadata": {
            "tags": []
          }
        },
        {
          "output_type": "display_data",
          "data": {
            "text/html": [
              "<span style=\"color:cyan\"> |-Score: 0.7792207598686218</span>"
            ],
            "text/plain": [
              "<IPython.core.display.HTML object>"
            ]
          },
          "metadata": {
            "tags": []
          }
        },
        {
          "output_type": "display_data",
          "data": {
            "text/html": [
              "<span style=\"color:cyan\"> |-Best step: 0</span>"
            ],
            "text/plain": [
              "<IPython.core.display.HTML object>"
            ]
          },
          "metadata": {
            "tags": []
          }
        },
        {
          "output_type": "display_data",
          "data": {
            "text/html": [
              "<span style=\"color:#7E57C2\"><h2 style=\"font-size:16px\">Hyperparameters:</h2></span>"
            ],
            "text/plain": [
              "<IPython.core.display.HTML object>"
            ]
          },
          "metadata": {
            "tags": []
          }
        },
        {
          "output_type": "display_data",
          "data": {
            "text/html": [
              "<span style=\"color:cyan\"> |-num_layers: 9</span>"
            ],
            "text/plain": [
              "<IPython.core.display.HTML object>"
            ]
          },
          "metadata": {
            "tags": []
          }
        },
        {
          "output_type": "stream",
          "text": [
            "Epoch 1/5\n",
            "20/20 [==============================] - 0s 10ms/step - loss: 0.6015 - accuracy: 0.6954 - val_loss: 0.5758 - val_accuracy: 0.7468\n",
            "Epoch 2/5\n",
            "20/20 [==============================] - 0s 3ms/step - loss: 0.4985 - accuracy: 0.7638 - val_loss: 0.5267 - val_accuracy: 0.7727\n",
            "Epoch 3/5\n",
            "20/20 [==============================] - 0s 3ms/step - loss: 0.4747 - accuracy: 0.7752 - val_loss: 0.5669 - val_accuracy: 0.6948\n",
            "Epoch 4/5\n",
            "20/20 [==============================] - 0s 3ms/step - loss: 0.4629 - accuracy: 0.7736 - val_loss: 0.5154 - val_accuracy: 0.7597\n",
            "Epoch 5/5\n",
            "20/20 [==============================] - 0s 3ms/step - loss: 0.4457 - accuracy: 0.7948 - val_loss: 0.5000 - val_accuracy: 0.7857\n"
          ],
          "name": "stdout"
        },
        {
          "output_type": "display_data",
          "data": {
            "text/html": [
              "<span style=\"color:#4527A0\"><h1 style=\"font-size:18px\">Trial complete</h1></span>"
            ],
            "text/plain": [
              "<IPython.core.display.HTML object>"
            ]
          },
          "metadata": {
            "tags": []
          }
        },
        {
          "output_type": "display_data",
          "data": {
            "text/html": [
              "<span style=\"color:#4527A0\"><h1 style=\"font-size:18px\">Trial summary</h1></span>"
            ],
            "text/plain": [
              "<IPython.core.display.HTML object>"
            ]
          },
          "metadata": {
            "tags": []
          }
        },
        {
          "output_type": "display_data",
          "data": {
            "text/html": [
              "<span style=\"color:cyan\"> |-Trial ID: 2f09e740e6d43cde74ab4d2b817b8046</span>"
            ],
            "text/plain": [
              "<IPython.core.display.HTML object>"
            ]
          },
          "metadata": {
            "tags": []
          }
        },
        {
          "output_type": "display_data",
          "data": {
            "text/html": [
              "<span style=\"color:cyan\"> |-Score: 0.7857142686843872</span>"
            ],
            "text/plain": [
              "<IPython.core.display.HTML object>"
            ]
          },
          "metadata": {
            "tags": []
          }
        },
        {
          "output_type": "display_data",
          "data": {
            "text/html": [
              "<span style=\"color:cyan\"> |-Best step: 0</span>"
            ],
            "text/plain": [
              "<IPython.core.display.HTML object>"
            ]
          },
          "metadata": {
            "tags": []
          }
        },
        {
          "output_type": "display_data",
          "data": {
            "text/html": [
              "<span style=\"color:#7E57C2\"><h2 style=\"font-size:16px\">Hyperparameters:</h2></span>"
            ],
            "text/plain": [
              "<IPython.core.display.HTML object>"
            ]
          },
          "metadata": {
            "tags": []
          }
        },
        {
          "output_type": "display_data",
          "data": {
            "text/html": [
              "<span style=\"color:cyan\"> |-num_layers: 8</span>"
            ],
            "text/plain": [
              "<IPython.core.display.HTML object>"
            ]
          },
          "metadata": {
            "tags": []
          }
        },
        {
          "output_type": "stream",
          "text": [
            "INFO:tensorflow:Oracle triggered exit\n"
          ],
          "name": "stdout"
        }
      ]
    },
    {
      "cell_type": "code",
      "metadata": {
        "id": "0GJ05Uh76tMo",
        "outputId": "c1ad6e54-f0b5-4d12-c6e4-12937b1fc82f",
        "colab": {
          "base_uri": "https://localhost:8080/",
          "height": 34
        }
      },
      "source": [
        "tuner.get_best_hyperparameters()[0].values"
      ],
      "execution_count": null,
      "outputs": [
        {
          "output_type": "execute_result",
          "data": {
            "text/plain": [
              "{'num_layers': 6}"
            ]
          },
          "metadata": {
            "tags": []
          },
          "execution_count": 59
        }
      ]
    },
    {
      "cell_type": "code",
      "metadata": {
        "id": "zC8xnXrN60Bc"
      },
      "source": [
        "model = tuner.get_best_models(num_models=1)[0]"
      ],
      "execution_count": null,
      "outputs": []
    },
    {
      "cell_type": "code",
      "metadata": {
        "id": "R8YTNvbU643g",
        "outputId": "f71b6dc1-7187-4e58-f534-e750d018f65a",
        "colab": {
          "base_uri": "https://localhost:8080/",
          "height": 1000
        }
      },
      "source": [
        "model.fit(X_train,y_train,epochs=100,initial_epoch=6,validation_data=(X_test,y_test))"
      ],
      "execution_count": null,
      "outputs": [
        {
          "output_type": "stream",
          "text": [
            "Epoch 7/100\n",
            "20/20 [==============================] - 0s 9ms/step - loss: 0.5033 - accuracy: 0.7492 - val_loss: 0.5563 - val_accuracy: 0.7273\n",
            "Epoch 8/100\n",
            "20/20 [==============================] - 0s 3ms/step - loss: 0.4703 - accuracy: 0.7785 - val_loss: 0.4845 - val_accuracy: 0.7597\n",
            "Epoch 9/100\n",
            "20/20 [==============================] - 0s 3ms/step - loss: 0.4571 - accuracy: 0.7932 - val_loss: 0.4811 - val_accuracy: 0.7922\n",
            "Epoch 10/100\n",
            "20/20 [==============================] - 0s 3ms/step - loss: 0.4395 - accuracy: 0.7785 - val_loss: 0.4652 - val_accuracy: 0.8052\n",
            "Epoch 11/100\n",
            "20/20 [==============================] - 0s 3ms/step - loss: 0.4360 - accuracy: 0.7964 - val_loss: 0.4983 - val_accuracy: 0.7922\n",
            "Epoch 12/100\n",
            "20/20 [==============================] - 0s 3ms/step - loss: 0.4258 - accuracy: 0.8029 - val_loss: 0.4650 - val_accuracy: 0.8117\n",
            "Epoch 13/100\n",
            "20/20 [==============================] - 0s 2ms/step - loss: 0.4034 - accuracy: 0.8274 - val_loss: 0.4954 - val_accuracy: 0.8117\n",
            "Epoch 14/100\n",
            "20/20 [==============================] - 0s 3ms/step - loss: 0.4084 - accuracy: 0.8290 - val_loss: 0.5420 - val_accuracy: 0.7532\n",
            "Epoch 15/100\n",
            "20/20 [==============================] - 0s 2ms/step - loss: 0.4006 - accuracy: 0.8192 - val_loss: 0.4964 - val_accuracy: 0.8182\n",
            "Epoch 16/100\n",
            "20/20 [==============================] - 0s 3ms/step - loss: 0.3881 - accuracy: 0.8322 - val_loss: 0.5847 - val_accuracy: 0.7338\n",
            "Epoch 17/100\n",
            "20/20 [==============================] - 0s 2ms/step - loss: 0.3799 - accuracy: 0.8404 - val_loss: 0.4866 - val_accuracy: 0.8182\n",
            "Epoch 18/100\n",
            "20/20 [==============================] - 0s 3ms/step - loss: 0.3527 - accuracy: 0.8502 - val_loss: 0.5248 - val_accuracy: 0.7987\n",
            "Epoch 19/100\n",
            "20/20 [==============================] - 0s 3ms/step - loss: 0.3532 - accuracy: 0.8485 - val_loss: 0.5439 - val_accuracy: 0.7792\n",
            "Epoch 20/100\n",
            "20/20 [==============================] - 0s 3ms/step - loss: 0.3339 - accuracy: 0.8616 - val_loss: 0.5328 - val_accuracy: 0.7532\n",
            "Epoch 21/100\n",
            "20/20 [==============================] - 0s 3ms/step - loss: 0.3168 - accuracy: 0.8746 - val_loss: 0.5650 - val_accuracy: 0.7727\n",
            "Epoch 22/100\n",
            "20/20 [==============================] - 0s 3ms/step - loss: 0.3052 - accuracy: 0.8730 - val_loss: 0.5230 - val_accuracy: 0.7857\n",
            "Epoch 23/100\n",
            "20/20 [==============================] - 0s 3ms/step - loss: 0.2822 - accuracy: 0.8925 - val_loss: 0.6374 - val_accuracy: 0.7597\n",
            "Epoch 24/100\n",
            "20/20 [==============================] - 0s 3ms/step - loss: 0.2964 - accuracy: 0.8876 - val_loss: 0.6141 - val_accuracy: 0.7662\n",
            "Epoch 25/100\n",
            "20/20 [==============================] - 0s 3ms/step - loss: 0.2608 - accuracy: 0.8925 - val_loss: 0.6666 - val_accuracy: 0.7532\n",
            "Epoch 26/100\n",
            "20/20 [==============================] - 0s 3ms/step - loss: 0.2600 - accuracy: 0.8893 - val_loss: 0.6690 - val_accuracy: 0.7792\n",
            "Epoch 27/100\n",
            "20/20 [==============================] - 0s 3ms/step - loss: 0.2680 - accuracy: 0.8876 - val_loss: 0.6717 - val_accuracy: 0.7727\n",
            "Epoch 28/100\n",
            "20/20 [==============================] - 0s 3ms/step - loss: 0.2224 - accuracy: 0.9251 - val_loss: 0.7116 - val_accuracy: 0.7857\n",
            "Epoch 29/100\n",
            "20/20 [==============================] - 0s 2ms/step - loss: 0.2302 - accuracy: 0.9007 - val_loss: 0.8708 - val_accuracy: 0.7532\n",
            "Epoch 30/100\n",
            "20/20 [==============================] - 0s 3ms/step - loss: 0.2184 - accuracy: 0.9186 - val_loss: 0.8117 - val_accuracy: 0.7727\n",
            "Epoch 31/100\n",
            "20/20 [==============================] - 0s 3ms/step - loss: 0.2487 - accuracy: 0.8974 - val_loss: 0.7735 - val_accuracy: 0.7403\n",
            "Epoch 32/100\n",
            "20/20 [==============================] - 0s 3ms/step - loss: 0.1876 - accuracy: 0.9300 - val_loss: 0.8637 - val_accuracy: 0.7403\n",
            "Epoch 33/100\n",
            "20/20 [==============================] - 0s 3ms/step - loss: 0.2122 - accuracy: 0.9251 - val_loss: 0.7808 - val_accuracy: 0.7468\n",
            "Epoch 34/100\n",
            "20/20 [==============================] - 0s 3ms/step - loss: 0.1630 - accuracy: 0.9414 - val_loss: 0.8746 - val_accuracy: 0.7338\n",
            "Epoch 35/100\n",
            "20/20 [==============================] - 0s 2ms/step - loss: 0.1595 - accuracy: 0.9430 - val_loss: 1.0118 - val_accuracy: 0.7078\n",
            "Epoch 36/100\n",
            "20/20 [==============================] - 0s 3ms/step - loss: 0.1841 - accuracy: 0.9235 - val_loss: 0.9458 - val_accuracy: 0.7338\n",
            "Epoch 37/100\n",
            "20/20 [==============================] - 0s 3ms/step - loss: 0.1264 - accuracy: 0.9495 - val_loss: 1.0846 - val_accuracy: 0.7597\n",
            "Epoch 38/100\n",
            "20/20 [==============================] - 0s 3ms/step - loss: 0.2334 - accuracy: 0.9202 - val_loss: 0.8977 - val_accuracy: 0.7403\n",
            "Epoch 39/100\n",
            "20/20 [==============================] - 0s 3ms/step - loss: 0.1374 - accuracy: 0.9511 - val_loss: 1.1121 - val_accuracy: 0.7468\n",
            "Epoch 40/100\n",
            "20/20 [==============================] - 0s 3ms/step - loss: 0.1325 - accuracy: 0.9528 - val_loss: 1.1853 - val_accuracy: 0.7403\n",
            "Epoch 41/100\n",
            "20/20 [==============================] - 0s 2ms/step - loss: 0.1228 - accuracy: 0.9560 - val_loss: 1.1271 - val_accuracy: 0.7013\n",
            "Epoch 42/100\n",
            "20/20 [==============================] - 0s 3ms/step - loss: 0.1205 - accuracy: 0.9479 - val_loss: 1.2817 - val_accuracy: 0.7143\n",
            "Epoch 43/100\n",
            "20/20 [==============================] - 0s 2ms/step - loss: 0.1265 - accuracy: 0.9560 - val_loss: 1.1193 - val_accuracy: 0.7338\n",
            "Epoch 44/100\n",
            "20/20 [==============================] - 0s 3ms/step - loss: 0.0959 - accuracy: 0.9674 - val_loss: 1.3880 - val_accuracy: 0.7143\n",
            "Epoch 45/100\n",
            "20/20 [==============================] - 0s 3ms/step - loss: 0.1284 - accuracy: 0.9528 - val_loss: 1.2589 - val_accuracy: 0.7468\n",
            "Epoch 46/100\n",
            "20/20 [==============================] - 0s 3ms/step - loss: 0.0679 - accuracy: 0.9772 - val_loss: 1.3555 - val_accuracy: 0.6948\n",
            "Epoch 47/100\n",
            "20/20 [==============================] - 0s 3ms/step - loss: 0.1420 - accuracy: 0.9511 - val_loss: 1.2716 - val_accuracy: 0.7403\n",
            "Epoch 48/100\n",
            "20/20 [==============================] - 0s 3ms/step - loss: 0.0676 - accuracy: 0.9788 - val_loss: 1.2657 - val_accuracy: 0.7727\n",
            "Epoch 49/100\n",
            "20/20 [==============================] - 0s 2ms/step - loss: 0.0936 - accuracy: 0.9691 - val_loss: 1.3462 - val_accuracy: 0.7273\n",
            "Epoch 50/100\n",
            "20/20 [==============================] - 0s 2ms/step - loss: 0.1178 - accuracy: 0.9625 - val_loss: 1.2514 - val_accuracy: 0.7338\n",
            "Epoch 51/100\n",
            "20/20 [==============================] - 0s 3ms/step - loss: 0.0525 - accuracy: 0.9805 - val_loss: 1.4503 - val_accuracy: 0.7338\n",
            "Epoch 52/100\n",
            "20/20 [==============================] - 0s 3ms/step - loss: 0.0945 - accuracy: 0.9674 - val_loss: 1.4364 - val_accuracy: 0.7273\n",
            "Epoch 53/100\n",
            "20/20 [==============================] - 0s 3ms/step - loss: 0.0972 - accuracy: 0.9625 - val_loss: 1.2628 - val_accuracy: 0.7468\n",
            "Epoch 54/100\n",
            "20/20 [==============================] - 0s 3ms/step - loss: 0.0648 - accuracy: 0.9853 - val_loss: 1.3993 - val_accuracy: 0.7143\n",
            "Epoch 55/100\n",
            "20/20 [==============================] - 0s 3ms/step - loss: 0.0616 - accuracy: 0.9772 - val_loss: 1.6288 - val_accuracy: 0.7078\n",
            "Epoch 56/100\n",
            "20/20 [==============================] - 0s 2ms/step - loss: 0.1181 - accuracy: 0.9544 - val_loss: 1.3397 - val_accuracy: 0.7468\n",
            "Epoch 57/100\n",
            "20/20 [==============================] - 0s 3ms/step - loss: 0.0324 - accuracy: 0.9886 - val_loss: 1.6067 - val_accuracy: 0.7078\n",
            "Epoch 58/100\n",
            "20/20 [==============================] - 0s 3ms/step - loss: 0.0781 - accuracy: 0.9723 - val_loss: 1.7230 - val_accuracy: 0.7078\n",
            "Epoch 59/100\n",
            "20/20 [==============================] - 0s 3ms/step - loss: 0.0269 - accuracy: 0.9919 - val_loss: 1.7479 - val_accuracy: 0.7273\n",
            "Epoch 60/100\n",
            "20/20 [==============================] - 0s 3ms/step - loss: 0.0761 - accuracy: 0.9739 - val_loss: 2.0702 - val_accuracy: 0.7273\n",
            "Epoch 61/100\n",
            "20/20 [==============================] - 0s 3ms/step - loss: 0.0357 - accuracy: 0.9919 - val_loss: 1.9171 - val_accuracy: 0.7338\n",
            "Epoch 62/100\n",
            "20/20 [==============================] - 0s 3ms/step - loss: 0.0779 - accuracy: 0.9756 - val_loss: 1.8945 - val_accuracy: 0.7532\n",
            "Epoch 63/100\n",
            "20/20 [==============================] - 0s 3ms/step - loss: 0.0367 - accuracy: 0.9935 - val_loss: 1.8228 - val_accuracy: 0.7468\n",
            "Epoch 64/100\n",
            "20/20 [==============================] - 0s 3ms/step - loss: 0.0554 - accuracy: 0.9805 - val_loss: 1.8792 - val_accuracy: 0.7078\n",
            "Epoch 65/100\n",
            "20/20 [==============================] - 0s 3ms/step - loss: 0.0962 - accuracy: 0.9674 - val_loss: 1.7952 - val_accuracy: 0.7338\n",
            "Epoch 66/100\n",
            "20/20 [==============================] - 0s 3ms/step - loss: 0.0121 - accuracy: 0.9951 - val_loss: 2.1286 - val_accuracy: 0.7208\n",
            "Epoch 67/100\n",
            "20/20 [==============================] - 0s 3ms/step - loss: 0.0756 - accuracy: 0.9837 - val_loss: 1.9728 - val_accuracy: 0.7338\n",
            "Epoch 68/100\n",
            "20/20 [==============================] - 0s 3ms/step - loss: 0.0362 - accuracy: 0.9870 - val_loss: 1.9822 - val_accuracy: 0.6818\n",
            "Epoch 69/100\n",
            "20/20 [==============================] - 0s 2ms/step - loss: 0.0650 - accuracy: 0.9805 - val_loss: 1.8781 - val_accuracy: 0.7273\n",
            "Epoch 70/100\n",
            "20/20 [==============================] - 0s 3ms/step - loss: 0.0116 - accuracy: 0.9967 - val_loss: 2.1473 - val_accuracy: 0.7208\n",
            "Epoch 71/100\n",
            "20/20 [==============================] - 0s 3ms/step - loss: 0.0144 - accuracy: 0.9967 - val_loss: 1.9098 - val_accuracy: 0.7662\n",
            "Epoch 72/100\n",
            "20/20 [==============================] - 0s 3ms/step - loss: 0.0901 - accuracy: 0.9723 - val_loss: 2.1786 - val_accuracy: 0.7597\n",
            "Epoch 73/100\n",
            "20/20 [==============================] - 0s 3ms/step - loss: 0.0544 - accuracy: 0.9788 - val_loss: 1.6704 - val_accuracy: 0.7338\n",
            "Epoch 74/100\n",
            "20/20 [==============================] - 0s 3ms/step - loss: 0.0162 - accuracy: 0.9951 - val_loss: 2.1226 - val_accuracy: 0.7143\n",
            "Epoch 75/100\n",
            "20/20 [==============================] - 0s 2ms/step - loss: 0.0743 - accuracy: 0.9788 - val_loss: 1.9152 - val_accuracy: 0.7338\n",
            "Epoch 76/100\n",
            "20/20 [==============================] - 0s 3ms/step - loss: 0.0098 - accuracy: 0.9967 - val_loss: 2.1785 - val_accuracy: 0.7338\n",
            "Epoch 77/100\n",
            "20/20 [==============================] - 0s 3ms/step - loss: 0.0372 - accuracy: 0.9805 - val_loss: 2.3524 - val_accuracy: 0.6948\n",
            "Epoch 78/100\n",
            "20/20 [==============================] - 0s 3ms/step - loss: 0.0218 - accuracy: 0.9935 - val_loss: 2.0478 - val_accuracy: 0.7208\n",
            "Epoch 79/100\n",
            "20/20 [==============================] - 0s 3ms/step - loss: 0.0215 - accuracy: 0.9935 - val_loss: 2.1939 - val_accuracy: 0.7468\n",
            "Epoch 80/100\n",
            "20/20 [==============================] - 0s 3ms/step - loss: 0.0841 - accuracy: 0.9805 - val_loss: 1.8553 - val_accuracy: 0.7273\n",
            "Epoch 81/100\n",
            "20/20 [==============================] - 0s 3ms/step - loss: 0.0176 - accuracy: 0.9935 - val_loss: 2.0180 - val_accuracy: 0.6883\n",
            "Epoch 82/100\n",
            "20/20 [==============================] - 0s 3ms/step - loss: 0.0400 - accuracy: 0.9853 - val_loss: 2.4125 - val_accuracy: 0.7273\n",
            "Epoch 83/100\n",
            "20/20 [==============================] - 0s 3ms/step - loss: 0.0301 - accuracy: 0.9919 - val_loss: 2.2517 - val_accuracy: 0.7468\n",
            "Epoch 84/100\n",
            "20/20 [==============================] - 0s 3ms/step - loss: 0.0095 - accuracy: 0.9984 - val_loss: 2.4930 - val_accuracy: 0.7273\n",
            "Epoch 85/100\n",
            "20/20 [==============================] - 0s 3ms/step - loss: 0.0902 - accuracy: 0.9723 - val_loss: 2.1932 - val_accuracy: 0.7468\n",
            "Epoch 86/100\n",
            "20/20 [==============================] - 0s 3ms/step - loss: 0.0146 - accuracy: 0.9967 - val_loss: 2.2365 - val_accuracy: 0.7338\n",
            "Epoch 87/100\n",
            "20/20 [==============================] - 0s 2ms/step - loss: 0.0398 - accuracy: 0.9837 - val_loss: 2.6699 - val_accuracy: 0.7078\n",
            "Epoch 88/100\n",
            "20/20 [==============================] - 0s 3ms/step - loss: 0.0343 - accuracy: 0.9902 - val_loss: 2.4011 - val_accuracy: 0.7273\n",
            "Epoch 89/100\n",
            "20/20 [==============================] - 0s 3ms/step - loss: 0.0048 - accuracy: 0.9984 - val_loss: 2.5967 - val_accuracy: 0.7403\n",
            "Epoch 90/100\n",
            "20/20 [==============================] - 0s 3ms/step - loss: 0.0947 - accuracy: 0.9739 - val_loss: 2.3248 - val_accuracy: 0.7338\n",
            "Epoch 91/100\n",
            "20/20 [==============================] - 0s 3ms/step - loss: 0.0108 - accuracy: 0.9967 - val_loss: 2.3957 - val_accuracy: 0.7143\n",
            "Epoch 92/100\n",
            "20/20 [==============================] - 0s 3ms/step - loss: 0.0097 - accuracy: 0.9984 - val_loss: 2.6725 - val_accuracy: 0.7273\n",
            "Epoch 93/100\n",
            "20/20 [==============================] - 0s 2ms/step - loss: 0.0471 - accuracy: 0.9886 - val_loss: 2.6832 - val_accuracy: 0.6948\n",
            "Epoch 94/100\n",
            "20/20 [==============================] - 0s 2ms/step - loss: 0.0218 - accuracy: 0.9902 - val_loss: 2.6209 - val_accuracy: 0.7143\n",
            "Epoch 95/100\n",
            "20/20 [==============================] - 0s 2ms/step - loss: 0.0079 - accuracy: 0.9967 - val_loss: 2.6866 - val_accuracy: 0.7208\n",
            "Epoch 96/100\n",
            "20/20 [==============================] - 0s 2ms/step - loss: 0.0493 - accuracy: 0.9902 - val_loss: 2.5301 - val_accuracy: 0.7143\n",
            "Epoch 97/100\n",
            "20/20 [==============================] - 0s 3ms/step - loss: 0.0616 - accuracy: 0.9837 - val_loss: 2.2367 - val_accuracy: 0.7338\n",
            "Epoch 98/100\n",
            "20/20 [==============================] - 0s 3ms/step - loss: 0.0231 - accuracy: 0.9951 - val_loss: 2.4025 - val_accuracy: 0.7273\n",
            "Epoch 99/100\n",
            "20/20 [==============================] - 0s 3ms/step - loss: 0.0104 - accuracy: 0.9967 - val_loss: 2.4801 - val_accuracy: 0.7338\n",
            "Epoch 100/100\n",
            "20/20 [==============================] - 0s 3ms/step - loss: 0.0556 - accuracy: 0.9821 - val_loss: 2.3201 - val_accuracy: 0.7208\n"
          ],
          "name": "stdout"
        },
        {
          "output_type": "execute_result",
          "data": {
            "text/plain": [
              "<tensorflow.python.keras.callbacks.History at 0x7f7846641f28>"
            ]
          },
          "metadata": {
            "tags": []
          },
          "execution_count": 61
        }
      ]
    },
    {
      "cell_type": "code",
      "metadata": {
        "id": "IpLEJOmp7AJ0"
      },
      "source": [
        "def build_model(hp):\n",
        "\n",
        "  model = Sequential()\n",
        "\n",
        "  counter = 0\n",
        "\n",
        "  for i in range(hp.Int('num_layers',min_value=1,max_value=10)):\n",
        "\n",
        "    if counter == 0:\n",
        "\n",
        "      model.add(Dense(hp.Int('units' + str(i), min_value=8, max_value=128,step=8),activation= hp.Choice('activation' + str(i), values=['relu','tanh','sigmoid']),input_dim=8))\n",
        "      model.add(Dropout(hp.Choice('dropout' + str(i), values=[0.1,0.2,0.3,0.4,0.5,0.6,0.7,0.8,0.9])))\n",
        "    else:\n",
        "\n",
        "      model.add(Dense(hp.Int('units' + str(i), min_value=8, max_value=128,step=8),activation= hp.Choice('activation' + str(i), values=['relu','tanh','sigmoid'])))\n",
        "      model.add(Dropout(hp.Choice('dropout' + str(i), values=[0.1,0.2,0.3,0.4,0.5,0.6,0.7,0.8,0.9])))\n",
        "    counter+=1\n",
        "\n",
        "  model.add(Dense(1,activation='sigmoid'))\n",
        "\n",
        "  model.compile(optimizer=hp.Choice('optimizer',values=['rmsprop','adam','sgd','nadam','adadelta']),\n",
        "                  loss='binary_crossentropy',\n",
        "                  metrics=['accuracy'])\n",
        "\n",
        "  return model"
      ],
      "execution_count": null,
      "outputs": []
    },
    {
      "cell_type": "code",
      "metadata": {
        "id": "AgaazR1W9D7n"
      },
      "source": [
        "tuner = kt.RandomSearch(build_model,\n",
        "                        objective='val_accuracy',\n",
        "                        max_trials=3,\n",
        "                        directory=\"mydir\",\n",
        "                        project_name='final1')"
      ],
      "execution_count": null,
      "outputs": []
    },
    {
      "cell_type": "code",
      "metadata": {
        "id": "sg05pxD490Ue",
        "outputId": "700711c0-8321-47e6-ee26-e46cacf1eda9",
        "colab": {
          "base_uri": "https://localhost:8080/",
          "height": 1000
        }
      },
      "source": [
        "tuner.search(X_train,y_train,epochs=5,validation_data=(X_test,y_test))"
      ],
      "execution_count": null,
      "outputs": [
        {
          "output_type": "stream",
          "text": [
            "Epoch 1/5\n",
            "20/20 [==============================] - 0s 11ms/step - loss: 0.6930 - accuracy: 0.5342 - val_loss: 0.6874 - val_accuracy: 0.6429\n",
            "Epoch 2/5\n",
            "20/20 [==============================] - 0s 3ms/step - loss: 0.6838 - accuracy: 0.6417 - val_loss: 0.6793 - val_accuracy: 0.6429\n",
            "Epoch 3/5\n",
            "20/20 [==============================] - 0s 3ms/step - loss: 0.6730 - accuracy: 0.6531 - val_loss: 0.6717 - val_accuracy: 0.6429\n",
            "Epoch 4/5\n",
            "20/20 [==============================] - 0s 3ms/step - loss: 0.6675 - accuracy: 0.6482 - val_loss: 0.6638 - val_accuracy: 0.6429\n",
            "Epoch 5/5\n",
            "20/20 [==============================] - 0s 3ms/step - loss: 0.6610 - accuracy: 0.6450 - val_loss: 0.6561 - val_accuracy: 0.6429\n"
          ],
          "name": "stdout"
        },
        {
          "output_type": "display_data",
          "data": {
            "text/html": [
              "<span style=\"color:#4527A0\"><h1 style=\"font-size:18px\">Trial complete</h1></span>"
            ],
            "text/plain": [
              "<IPython.core.display.HTML object>"
            ]
          },
          "metadata": {
            "tags": []
          }
        },
        {
          "output_type": "display_data",
          "data": {
            "text/html": [
              "<span style=\"color:#4527A0\"><h1 style=\"font-size:18px\">Trial summary</h1></span>"
            ],
            "text/plain": [
              "<IPython.core.display.HTML object>"
            ]
          },
          "metadata": {
            "tags": []
          }
        },
        {
          "output_type": "display_data",
          "data": {
            "text/html": [
              "<span style=\"color:cyan\"> |-Trial ID: 930cd6ef408a134731628332a6c6f5fc</span>"
            ],
            "text/plain": [
              "<IPython.core.display.HTML object>"
            ]
          },
          "metadata": {
            "tags": []
          }
        },
        {
          "output_type": "display_data",
          "data": {
            "text/html": [
              "<span style=\"color:cyan\"> |-Score: 0.6428571343421936</span>"
            ],
            "text/plain": [
              "<IPython.core.display.HTML object>"
            ]
          },
          "metadata": {
            "tags": []
          }
        },
        {
          "output_type": "display_data",
          "data": {
            "text/html": [
              "<span style=\"color:cyan\"> |-Best step: 0</span>"
            ],
            "text/plain": [
              "<IPython.core.display.HTML object>"
            ]
          },
          "metadata": {
            "tags": []
          }
        },
        {
          "output_type": "display_data",
          "data": {
            "text/html": [
              "<span style=\"color:#7E57C2\"><h2 style=\"font-size:16px\">Hyperparameters:</h2></span>"
            ],
            "text/plain": [
              "<IPython.core.display.HTML object>"
            ]
          },
          "metadata": {
            "tags": []
          }
        },
        {
          "output_type": "display_data",
          "data": {
            "text/html": [
              "<span style=\"color:cyan\"> |-activation0: sigmoid</span>"
            ],
            "text/plain": [
              "<IPython.core.display.HTML object>"
            ]
          },
          "metadata": {
            "tags": []
          }
        },
        {
          "output_type": "display_data",
          "data": {
            "text/html": [
              "<span style=\"color:blue\"> |-activation1: relu</span>"
            ],
            "text/plain": [
              "<IPython.core.display.HTML object>"
            ]
          },
          "metadata": {
            "tags": []
          }
        },
        {
          "output_type": "display_data",
          "data": {
            "text/html": [
              "<span style=\"color:cyan\"> |-activation2: relu</span>"
            ],
            "text/plain": [
              "<IPython.core.display.HTML object>"
            ]
          },
          "metadata": {
            "tags": []
          }
        },
        {
          "output_type": "display_data",
          "data": {
            "text/html": [
              "<span style=\"color:blue\"> |-activation3: relu</span>"
            ],
            "text/plain": [
              "<IPython.core.display.HTML object>"
            ]
          },
          "metadata": {
            "tags": []
          }
        },
        {
          "output_type": "display_data",
          "data": {
            "text/html": [
              "<span style=\"color:cyan\"> |-activation4: relu</span>"
            ],
            "text/plain": [
              "<IPython.core.display.HTML object>"
            ]
          },
          "metadata": {
            "tags": []
          }
        },
        {
          "output_type": "display_data",
          "data": {
            "text/html": [
              "<span style=\"color:blue\"> |-activation5: relu</span>"
            ],
            "text/plain": [
              "<IPython.core.display.HTML object>"
            ]
          },
          "metadata": {
            "tags": []
          }
        },
        {
          "output_type": "display_data",
          "data": {
            "text/html": [
              "<span style=\"color:cyan\"> |-activation6: relu</span>"
            ],
            "text/plain": [
              "<IPython.core.display.HTML object>"
            ]
          },
          "metadata": {
            "tags": []
          }
        },
        {
          "output_type": "display_data",
          "data": {
            "text/html": [
              "<span style=\"color:blue\"> |-activation7: relu</span>"
            ],
            "text/plain": [
              "<IPython.core.display.HTML object>"
            ]
          },
          "metadata": {
            "tags": []
          }
        },
        {
          "output_type": "display_data",
          "data": {
            "text/html": [
              "<span style=\"color:cyan\"> |-activation8: relu</span>"
            ],
            "text/plain": [
              "<IPython.core.display.HTML object>"
            ]
          },
          "metadata": {
            "tags": []
          }
        },
        {
          "output_type": "display_data",
          "data": {
            "text/html": [
              "<span style=\"color:blue\"> |-dropout0: 0.4</span>"
            ],
            "text/plain": [
              "<IPython.core.display.HTML object>"
            ]
          },
          "metadata": {
            "tags": []
          }
        },
        {
          "output_type": "display_data",
          "data": {
            "text/html": [
              "<span style=\"color:cyan\"> |-dropout1: 0.1</span>"
            ],
            "text/plain": [
              "<IPython.core.display.HTML object>"
            ]
          },
          "metadata": {
            "tags": []
          }
        },
        {
          "output_type": "display_data",
          "data": {
            "text/html": [
              "<span style=\"color:blue\"> |-dropout2: 0.1</span>"
            ],
            "text/plain": [
              "<IPython.core.display.HTML object>"
            ]
          },
          "metadata": {
            "tags": []
          }
        },
        {
          "output_type": "display_data",
          "data": {
            "text/html": [
              "<span style=\"color:cyan\"> |-dropout3: 0.1</span>"
            ],
            "text/plain": [
              "<IPython.core.display.HTML object>"
            ]
          },
          "metadata": {
            "tags": []
          }
        },
        {
          "output_type": "display_data",
          "data": {
            "text/html": [
              "<span style=\"color:blue\"> |-dropout4: 0.1</span>"
            ],
            "text/plain": [
              "<IPython.core.display.HTML object>"
            ]
          },
          "metadata": {
            "tags": []
          }
        },
        {
          "output_type": "display_data",
          "data": {
            "text/html": [
              "<span style=\"color:cyan\"> |-dropout5: 0.1</span>"
            ],
            "text/plain": [
              "<IPython.core.display.HTML object>"
            ]
          },
          "metadata": {
            "tags": []
          }
        },
        {
          "output_type": "display_data",
          "data": {
            "text/html": [
              "<span style=\"color:blue\"> |-dropout6: 0.1</span>"
            ],
            "text/plain": [
              "<IPython.core.display.HTML object>"
            ]
          },
          "metadata": {
            "tags": []
          }
        },
        {
          "output_type": "display_data",
          "data": {
            "text/html": [
              "<span style=\"color:cyan\"> |-dropout7: 0.1</span>"
            ],
            "text/plain": [
              "<IPython.core.display.HTML object>"
            ]
          },
          "metadata": {
            "tags": []
          }
        },
        {
          "output_type": "display_data",
          "data": {
            "text/html": [
              "<span style=\"color:blue\"> |-dropout8: 0.1</span>"
            ],
            "text/plain": [
              "<IPython.core.display.HTML object>"
            ]
          },
          "metadata": {
            "tags": []
          }
        },
        {
          "output_type": "display_data",
          "data": {
            "text/html": [
              "<span style=\"color:cyan\"> |-num_layers: 9</span>"
            ],
            "text/plain": [
              "<IPython.core.display.HTML object>"
            ]
          },
          "metadata": {
            "tags": []
          }
        },
        {
          "output_type": "display_data",
          "data": {
            "text/html": [
              "<span style=\"color:blue\"> |-optimizer: nadam</span>"
            ],
            "text/plain": [
              "<IPython.core.display.HTML object>"
            ]
          },
          "metadata": {
            "tags": []
          }
        },
        {
          "output_type": "display_data",
          "data": {
            "text/html": [
              "<span style=\"color:cyan\"> |-units0: 72</span>"
            ],
            "text/plain": [
              "<IPython.core.display.HTML object>"
            ]
          },
          "metadata": {
            "tags": []
          }
        },
        {
          "output_type": "display_data",
          "data": {
            "text/html": [
              "<span style=\"color:blue\"> |-units1: 8</span>"
            ],
            "text/plain": [
              "<IPython.core.display.HTML object>"
            ]
          },
          "metadata": {
            "tags": []
          }
        },
        {
          "output_type": "display_data",
          "data": {
            "text/html": [
              "<span style=\"color:cyan\"> |-units2: 8</span>"
            ],
            "text/plain": [
              "<IPython.core.display.HTML object>"
            ]
          },
          "metadata": {
            "tags": []
          }
        },
        {
          "output_type": "display_data",
          "data": {
            "text/html": [
              "<span style=\"color:blue\"> |-units3: 8</span>"
            ],
            "text/plain": [
              "<IPython.core.display.HTML object>"
            ]
          },
          "metadata": {
            "tags": []
          }
        },
        {
          "output_type": "display_data",
          "data": {
            "text/html": [
              "<span style=\"color:cyan\"> |-units4: 8</span>"
            ],
            "text/plain": [
              "<IPython.core.display.HTML object>"
            ]
          },
          "metadata": {
            "tags": []
          }
        },
        {
          "output_type": "display_data",
          "data": {
            "text/html": [
              "<span style=\"color:blue\"> |-units5: 8</span>"
            ],
            "text/plain": [
              "<IPython.core.display.HTML object>"
            ]
          },
          "metadata": {
            "tags": []
          }
        },
        {
          "output_type": "display_data",
          "data": {
            "text/html": [
              "<span style=\"color:cyan\"> |-units6: 8</span>"
            ],
            "text/plain": [
              "<IPython.core.display.HTML object>"
            ]
          },
          "metadata": {
            "tags": []
          }
        },
        {
          "output_type": "display_data",
          "data": {
            "text/html": [
              "<span style=\"color:blue\"> |-units7: 8</span>"
            ],
            "text/plain": [
              "<IPython.core.display.HTML object>"
            ]
          },
          "metadata": {
            "tags": []
          }
        },
        {
          "output_type": "display_data",
          "data": {
            "text/html": [
              "<span style=\"color:cyan\"> |-units8: 8</span>"
            ],
            "text/plain": [
              "<IPython.core.display.HTML object>"
            ]
          },
          "metadata": {
            "tags": []
          }
        },
        {
          "output_type": "stream",
          "text": [
            "Epoch 1/5\n",
            "20/20 [==============================] - 0s 9ms/step - loss: 0.8437 - accuracy: 0.4984 - val_loss: 0.6400 - val_accuracy: 0.7532\n",
            "Epoch 2/5\n",
            "20/20 [==============================] - 0s 3ms/step - loss: 0.7706 - accuracy: 0.5358 - val_loss: 0.5943 - val_accuracy: 0.6818\n",
            "Epoch 3/5\n",
            "20/20 [==============================] - 0s 2ms/step - loss: 0.7182 - accuracy: 0.5537 - val_loss: 0.5805 - val_accuracy: 0.6558\n",
            "Epoch 4/5\n",
            "20/20 [==============================] - 0s 2ms/step - loss: 0.7132 - accuracy: 0.5749 - val_loss: 0.5759 - val_accuracy: 0.6494\n",
            "Epoch 5/5\n",
            "20/20 [==============================] - 0s 3ms/step - loss: 0.7068 - accuracy: 0.5554 - val_loss: 0.5750 - val_accuracy: 0.6429\n"
          ],
          "name": "stdout"
        },
        {
          "output_type": "display_data",
          "data": {
            "text/html": [
              "<span style=\"color:#4527A0\"><h1 style=\"font-size:18px\">Trial complete</h1></span>"
            ],
            "text/plain": [
              "<IPython.core.display.HTML object>"
            ]
          },
          "metadata": {
            "tags": []
          }
        },
        {
          "output_type": "display_data",
          "data": {
            "text/html": [
              "<span style=\"color:#4527A0\"><h1 style=\"font-size:18px\">Trial summary</h1></span>"
            ],
            "text/plain": [
              "<IPython.core.display.HTML object>"
            ]
          },
          "metadata": {
            "tags": []
          }
        },
        {
          "output_type": "display_data",
          "data": {
            "text/html": [
              "<span style=\"color:cyan\"> |-Trial ID: 42a3bda47f994a3fcb5c051de9fe8f2a</span>"
            ],
            "text/plain": [
              "<IPython.core.display.HTML object>"
            ]
          },
          "metadata": {
            "tags": []
          }
        },
        {
          "output_type": "display_data",
          "data": {
            "text/html": [
              "<span style=\"color:cyan\"> |-Score: 0.7532467246055603</span>"
            ],
            "text/plain": [
              "<IPython.core.display.HTML object>"
            ]
          },
          "metadata": {
            "tags": []
          }
        },
        {
          "output_type": "display_data",
          "data": {
            "text/html": [
              "<span style=\"color:cyan\"> |-Best step: 0</span>"
            ],
            "text/plain": [
              "<IPython.core.display.HTML object>"
            ]
          },
          "metadata": {
            "tags": []
          }
        },
        {
          "output_type": "display_data",
          "data": {
            "text/html": [
              "<span style=\"color:#7E57C2\"><h2 style=\"font-size:16px\">Hyperparameters:</h2></span>"
            ],
            "text/plain": [
              "<IPython.core.display.HTML object>"
            ]
          },
          "metadata": {
            "tags": []
          }
        },
        {
          "output_type": "display_data",
          "data": {
            "text/html": [
              "<span style=\"color:cyan\"> |-activation0: tanh</span>"
            ],
            "text/plain": [
              "<IPython.core.display.HTML object>"
            ]
          },
          "metadata": {
            "tags": []
          }
        },
        {
          "output_type": "display_data",
          "data": {
            "text/html": [
              "<span style=\"color:blue\"> |-activation1: sigmoid</span>"
            ],
            "text/plain": [
              "<IPython.core.display.HTML object>"
            ]
          },
          "metadata": {
            "tags": []
          }
        },
        {
          "output_type": "display_data",
          "data": {
            "text/html": [
              "<span style=\"color:cyan\"> |-activation2: tanh</span>"
            ],
            "text/plain": [
              "<IPython.core.display.HTML object>"
            ]
          },
          "metadata": {
            "tags": []
          }
        },
        {
          "output_type": "display_data",
          "data": {
            "text/html": [
              "<span style=\"color:blue\"> |-activation3: sigmoid</span>"
            ],
            "text/plain": [
              "<IPython.core.display.HTML object>"
            ]
          },
          "metadata": {
            "tags": []
          }
        },
        {
          "output_type": "display_data",
          "data": {
            "text/html": [
              "<span style=\"color:cyan\"> |-activation4: relu</span>"
            ],
            "text/plain": [
              "<IPython.core.display.HTML object>"
            ]
          },
          "metadata": {
            "tags": []
          }
        },
        {
          "output_type": "display_data",
          "data": {
            "text/html": [
              "<span style=\"color:blue\"> |-activation5: tanh</span>"
            ],
            "text/plain": [
              "<IPython.core.display.HTML object>"
            ]
          },
          "metadata": {
            "tags": []
          }
        },
        {
          "output_type": "display_data",
          "data": {
            "text/html": [
              "<span style=\"color:cyan\"> |-activation6: relu</span>"
            ],
            "text/plain": [
              "<IPython.core.display.HTML object>"
            ]
          },
          "metadata": {
            "tags": []
          }
        },
        {
          "output_type": "display_data",
          "data": {
            "text/html": [
              "<span style=\"color:blue\"> |-activation7: tanh</span>"
            ],
            "text/plain": [
              "<IPython.core.display.HTML object>"
            ]
          },
          "metadata": {
            "tags": []
          }
        },
        {
          "output_type": "display_data",
          "data": {
            "text/html": [
              "<span style=\"color:cyan\"> |-activation8: tanh</span>"
            ],
            "text/plain": [
              "<IPython.core.display.HTML object>"
            ]
          },
          "metadata": {
            "tags": []
          }
        },
        {
          "output_type": "display_data",
          "data": {
            "text/html": [
              "<span style=\"color:blue\"> |-dropout0: 0.5</span>"
            ],
            "text/plain": [
              "<IPython.core.display.HTML object>"
            ]
          },
          "metadata": {
            "tags": []
          }
        },
        {
          "output_type": "display_data",
          "data": {
            "text/html": [
              "<span style=\"color:cyan\"> |-dropout1: 0.9</span>"
            ],
            "text/plain": [
              "<IPython.core.display.HTML object>"
            ]
          },
          "metadata": {
            "tags": []
          }
        },
        {
          "output_type": "display_data",
          "data": {
            "text/html": [
              "<span style=\"color:blue\"> |-dropout2: 0.4</span>"
            ],
            "text/plain": [
              "<IPython.core.display.HTML object>"
            ]
          },
          "metadata": {
            "tags": []
          }
        },
        {
          "output_type": "display_data",
          "data": {
            "text/html": [
              "<span style=\"color:cyan\"> |-dropout3: 0.7</span>"
            ],
            "text/plain": [
              "<IPython.core.display.HTML object>"
            ]
          },
          "metadata": {
            "tags": []
          }
        },
        {
          "output_type": "display_data",
          "data": {
            "text/html": [
              "<span style=\"color:blue\"> |-dropout4: 0.7</span>"
            ],
            "text/plain": [
              "<IPython.core.display.HTML object>"
            ]
          },
          "metadata": {
            "tags": []
          }
        },
        {
          "output_type": "display_data",
          "data": {
            "text/html": [
              "<span style=\"color:cyan\"> |-dropout5: 0.3</span>"
            ],
            "text/plain": [
              "<IPython.core.display.HTML object>"
            ]
          },
          "metadata": {
            "tags": []
          }
        },
        {
          "output_type": "display_data",
          "data": {
            "text/html": [
              "<span style=\"color:blue\"> |-dropout6: 0.9</span>"
            ],
            "text/plain": [
              "<IPython.core.display.HTML object>"
            ]
          },
          "metadata": {
            "tags": []
          }
        },
        {
          "output_type": "display_data",
          "data": {
            "text/html": [
              "<span style=\"color:cyan\"> |-dropout7: 0.2</span>"
            ],
            "text/plain": [
              "<IPython.core.display.HTML object>"
            ]
          },
          "metadata": {
            "tags": []
          }
        },
        {
          "output_type": "display_data",
          "data": {
            "text/html": [
              "<span style=\"color:blue\"> |-dropout8: 0.2</span>"
            ],
            "text/plain": [
              "<IPython.core.display.HTML object>"
            ]
          },
          "metadata": {
            "tags": []
          }
        },
        {
          "output_type": "display_data",
          "data": {
            "text/html": [
              "<span style=\"color:cyan\"> |-num_layers: 3</span>"
            ],
            "text/plain": [
              "<IPython.core.display.HTML object>"
            ]
          },
          "metadata": {
            "tags": []
          }
        },
        {
          "output_type": "display_data",
          "data": {
            "text/html": [
              "<span style=\"color:blue\"> |-optimizer: nadam</span>"
            ],
            "text/plain": [
              "<IPython.core.display.HTML object>"
            ]
          },
          "metadata": {
            "tags": []
          }
        },
        {
          "output_type": "display_data",
          "data": {
            "text/html": [
              "<span style=\"color:cyan\"> |-units0: 104</span>"
            ],
            "text/plain": [
              "<IPython.core.display.HTML object>"
            ]
          },
          "metadata": {
            "tags": []
          }
        },
        {
          "output_type": "display_data",
          "data": {
            "text/html": [
              "<span style=\"color:blue\"> |-units1: 48</span>"
            ],
            "text/plain": [
              "<IPython.core.display.HTML object>"
            ]
          },
          "metadata": {
            "tags": []
          }
        },
        {
          "output_type": "display_data",
          "data": {
            "text/html": [
              "<span style=\"color:cyan\"> |-units2: 16</span>"
            ],
            "text/plain": [
              "<IPython.core.display.HTML object>"
            ]
          },
          "metadata": {
            "tags": []
          }
        },
        {
          "output_type": "display_data",
          "data": {
            "text/html": [
              "<span style=\"color:blue\"> |-units3: 64</span>"
            ],
            "text/plain": [
              "<IPython.core.display.HTML object>"
            ]
          },
          "metadata": {
            "tags": []
          }
        },
        {
          "output_type": "display_data",
          "data": {
            "text/html": [
              "<span style=\"color:cyan\"> |-units4: 64</span>"
            ],
            "text/plain": [
              "<IPython.core.display.HTML object>"
            ]
          },
          "metadata": {
            "tags": []
          }
        },
        {
          "output_type": "display_data",
          "data": {
            "text/html": [
              "<span style=\"color:blue\"> |-units5: 8</span>"
            ],
            "text/plain": [
              "<IPython.core.display.HTML object>"
            ]
          },
          "metadata": {
            "tags": []
          }
        },
        {
          "output_type": "display_data",
          "data": {
            "text/html": [
              "<span style=\"color:cyan\"> |-units6: 24</span>"
            ],
            "text/plain": [
              "<IPython.core.display.HTML object>"
            ]
          },
          "metadata": {
            "tags": []
          }
        },
        {
          "output_type": "display_data",
          "data": {
            "text/html": [
              "<span style=\"color:blue\"> |-units7: 120</span>"
            ],
            "text/plain": [
              "<IPython.core.display.HTML object>"
            ]
          },
          "metadata": {
            "tags": []
          }
        },
        {
          "output_type": "display_data",
          "data": {
            "text/html": [
              "<span style=\"color:cyan\"> |-units8: 112</span>"
            ],
            "text/plain": [
              "<IPython.core.display.HTML object>"
            ]
          },
          "metadata": {
            "tags": []
          }
        },
        {
          "output_type": "stream",
          "text": [
            "Epoch 1/5\n",
            "20/20 [==============================] - 0s 7ms/step - loss: 0.7097 - accuracy: 0.5749 - val_loss: 0.7041 - val_accuracy: 0.6299\n",
            "Epoch 2/5\n",
            "20/20 [==============================] - 0s 3ms/step - loss: 0.7006 - accuracy: 0.6026 - val_loss: 0.6799 - val_accuracy: 0.6364\n",
            "Epoch 3/5\n",
            "20/20 [==============================] - 0s 2ms/step - loss: 0.6855 - accuracy: 0.6287 - val_loss: 0.6601 - val_accuracy: 0.6558\n",
            "Epoch 4/5\n",
            "20/20 [==============================] - 0s 2ms/step - loss: 0.6610 - accuracy: 0.6417 - val_loss: 0.6430 - val_accuracy: 0.6623\n",
            "Epoch 5/5\n",
            "20/20 [==============================] - 0s 2ms/step - loss: 0.6498 - accuracy: 0.6254 - val_loss: 0.6295 - val_accuracy: 0.6558\n"
          ],
          "name": "stdout"
        },
        {
          "output_type": "display_data",
          "data": {
            "text/html": [
              "<span style=\"color:#4527A0\"><h1 style=\"font-size:18px\">Trial complete</h1></span>"
            ],
            "text/plain": [
              "<IPython.core.display.HTML object>"
            ]
          },
          "metadata": {
            "tags": []
          }
        },
        {
          "output_type": "display_data",
          "data": {
            "text/html": [
              "<span style=\"color:#4527A0\"><h1 style=\"font-size:18px\">Trial summary</h1></span>"
            ],
            "text/plain": [
              "<IPython.core.display.HTML object>"
            ]
          },
          "metadata": {
            "tags": []
          }
        },
        {
          "output_type": "display_data",
          "data": {
            "text/html": [
              "<span style=\"color:cyan\"> |-Trial ID: adbf6d28f8ac23b8d88dd75c328e86a4</span>"
            ],
            "text/plain": [
              "<IPython.core.display.HTML object>"
            ]
          },
          "metadata": {
            "tags": []
          }
        },
        {
          "output_type": "display_data",
          "data": {
            "text/html": [
              "<span style=\"color:cyan\"> |-Score: 0.6623376607894897</span>"
            ],
            "text/plain": [
              "<IPython.core.display.HTML object>"
            ]
          },
          "metadata": {
            "tags": []
          }
        },
        {
          "output_type": "display_data",
          "data": {
            "text/html": [
              "<span style=\"color:cyan\"> |-Best step: 0</span>"
            ],
            "text/plain": [
              "<IPython.core.display.HTML object>"
            ]
          },
          "metadata": {
            "tags": []
          }
        },
        {
          "output_type": "display_data",
          "data": {
            "text/html": [
              "<span style=\"color:#7E57C2\"><h2 style=\"font-size:16px\">Hyperparameters:</h2></span>"
            ],
            "text/plain": [
              "<IPython.core.display.HTML object>"
            ]
          },
          "metadata": {
            "tags": []
          }
        },
        {
          "output_type": "display_data",
          "data": {
            "text/html": [
              "<span style=\"color:cyan\"> |-activation0: relu</span>"
            ],
            "text/plain": [
              "<IPython.core.display.HTML object>"
            ]
          },
          "metadata": {
            "tags": []
          }
        },
        {
          "output_type": "display_data",
          "data": {
            "text/html": [
              "<span style=\"color:blue\"> |-activation1: relu</span>"
            ],
            "text/plain": [
              "<IPython.core.display.HTML object>"
            ]
          },
          "metadata": {
            "tags": []
          }
        },
        {
          "output_type": "display_data",
          "data": {
            "text/html": [
              "<span style=\"color:cyan\"> |-activation2: sigmoid</span>"
            ],
            "text/plain": [
              "<IPython.core.display.HTML object>"
            ]
          },
          "metadata": {
            "tags": []
          }
        },
        {
          "output_type": "display_data",
          "data": {
            "text/html": [
              "<span style=\"color:blue\"> |-activation3: sigmoid</span>"
            ],
            "text/plain": [
              "<IPython.core.display.HTML object>"
            ]
          },
          "metadata": {
            "tags": []
          }
        },
        {
          "output_type": "display_data",
          "data": {
            "text/html": [
              "<span style=\"color:cyan\"> |-activation4: sigmoid</span>"
            ],
            "text/plain": [
              "<IPython.core.display.HTML object>"
            ]
          },
          "metadata": {
            "tags": []
          }
        },
        {
          "output_type": "display_data",
          "data": {
            "text/html": [
              "<span style=\"color:blue\"> |-activation5: relu</span>"
            ],
            "text/plain": [
              "<IPython.core.display.HTML object>"
            ]
          },
          "metadata": {
            "tags": []
          }
        },
        {
          "output_type": "display_data",
          "data": {
            "text/html": [
              "<span style=\"color:cyan\"> |-activation6: sigmoid</span>"
            ],
            "text/plain": [
              "<IPython.core.display.HTML object>"
            ]
          },
          "metadata": {
            "tags": []
          }
        },
        {
          "output_type": "display_data",
          "data": {
            "text/html": [
              "<span style=\"color:blue\"> |-activation7: relu</span>"
            ],
            "text/plain": [
              "<IPython.core.display.HTML object>"
            ]
          },
          "metadata": {
            "tags": []
          }
        },
        {
          "output_type": "display_data",
          "data": {
            "text/html": [
              "<span style=\"color:cyan\"> |-activation8: tanh</span>"
            ],
            "text/plain": [
              "<IPython.core.display.HTML object>"
            ]
          },
          "metadata": {
            "tags": []
          }
        },
        {
          "output_type": "display_data",
          "data": {
            "text/html": [
              "<span style=\"color:blue\"> |-dropout0: 0.5</span>"
            ],
            "text/plain": [
              "<IPython.core.display.HTML object>"
            ]
          },
          "metadata": {
            "tags": []
          }
        },
        {
          "output_type": "display_data",
          "data": {
            "text/html": [
              "<span style=\"color:cyan\"> |-dropout1: 0.6</span>"
            ],
            "text/plain": [
              "<IPython.core.display.HTML object>"
            ]
          },
          "metadata": {
            "tags": []
          }
        },
        {
          "output_type": "display_data",
          "data": {
            "text/html": [
              "<span style=\"color:blue\"> |-dropout2: 0.1</span>"
            ],
            "text/plain": [
              "<IPython.core.display.HTML object>"
            ]
          },
          "metadata": {
            "tags": []
          }
        },
        {
          "output_type": "display_data",
          "data": {
            "text/html": [
              "<span style=\"color:cyan\"> |-dropout3: 0.8</span>"
            ],
            "text/plain": [
              "<IPython.core.display.HTML object>"
            ]
          },
          "metadata": {
            "tags": []
          }
        },
        {
          "output_type": "display_data",
          "data": {
            "text/html": [
              "<span style=\"color:blue\"> |-dropout4: 0.2</span>"
            ],
            "text/plain": [
              "<IPython.core.display.HTML object>"
            ]
          },
          "metadata": {
            "tags": []
          }
        },
        {
          "output_type": "display_data",
          "data": {
            "text/html": [
              "<span style=\"color:cyan\"> |-dropout5: 0.6</span>"
            ],
            "text/plain": [
              "<IPython.core.display.HTML object>"
            ]
          },
          "metadata": {
            "tags": []
          }
        },
        {
          "output_type": "display_data",
          "data": {
            "text/html": [
              "<span style=\"color:blue\"> |-dropout6: 0.9</span>"
            ],
            "text/plain": [
              "<IPython.core.display.HTML object>"
            ]
          },
          "metadata": {
            "tags": []
          }
        },
        {
          "output_type": "display_data",
          "data": {
            "text/html": [
              "<span style=\"color:cyan\"> |-dropout7: 0.9</span>"
            ],
            "text/plain": [
              "<IPython.core.display.HTML object>"
            ]
          },
          "metadata": {
            "tags": []
          }
        },
        {
          "output_type": "display_data",
          "data": {
            "text/html": [
              "<span style=\"color:blue\"> |-dropout8: 0.1</span>"
            ],
            "text/plain": [
              "<IPython.core.display.HTML object>"
            ]
          },
          "metadata": {
            "tags": []
          }
        },
        {
          "output_type": "display_data",
          "data": {
            "text/html": [
              "<span style=\"color:cyan\"> |-num_layers: 1</span>"
            ],
            "text/plain": [
              "<IPython.core.display.HTML object>"
            ]
          },
          "metadata": {
            "tags": []
          }
        },
        {
          "output_type": "display_data",
          "data": {
            "text/html": [
              "<span style=\"color:blue\"> |-optimizer: sgd</span>"
            ],
            "text/plain": [
              "<IPython.core.display.HTML object>"
            ]
          },
          "metadata": {
            "tags": []
          }
        },
        {
          "output_type": "display_data",
          "data": {
            "text/html": [
              "<span style=\"color:cyan\"> |-units0: 56</span>"
            ],
            "text/plain": [
              "<IPython.core.display.HTML object>"
            ]
          },
          "metadata": {
            "tags": []
          }
        },
        {
          "output_type": "display_data",
          "data": {
            "text/html": [
              "<span style=\"color:blue\"> |-units1: 32</span>"
            ],
            "text/plain": [
              "<IPython.core.display.HTML object>"
            ]
          },
          "metadata": {
            "tags": []
          }
        },
        {
          "output_type": "display_data",
          "data": {
            "text/html": [
              "<span style=\"color:cyan\"> |-units2: 104</span>"
            ],
            "text/plain": [
              "<IPython.core.display.HTML object>"
            ]
          },
          "metadata": {
            "tags": []
          }
        },
        {
          "output_type": "display_data",
          "data": {
            "text/html": [
              "<span style=\"color:blue\"> |-units3: 56</span>"
            ],
            "text/plain": [
              "<IPython.core.display.HTML object>"
            ]
          },
          "metadata": {
            "tags": []
          }
        },
        {
          "output_type": "display_data",
          "data": {
            "text/html": [
              "<span style=\"color:cyan\"> |-units4: 24</span>"
            ],
            "text/plain": [
              "<IPython.core.display.HTML object>"
            ]
          },
          "metadata": {
            "tags": []
          }
        },
        {
          "output_type": "display_data",
          "data": {
            "text/html": [
              "<span style=\"color:blue\"> |-units5: 104</span>"
            ],
            "text/plain": [
              "<IPython.core.display.HTML object>"
            ]
          },
          "metadata": {
            "tags": []
          }
        },
        {
          "output_type": "display_data",
          "data": {
            "text/html": [
              "<span style=\"color:cyan\"> |-units6: 32</span>"
            ],
            "text/plain": [
              "<IPython.core.display.HTML object>"
            ]
          },
          "metadata": {
            "tags": []
          }
        },
        {
          "output_type": "display_data",
          "data": {
            "text/html": [
              "<span style=\"color:blue\"> |-units7: 88</span>"
            ],
            "text/plain": [
              "<IPython.core.display.HTML object>"
            ]
          },
          "metadata": {
            "tags": []
          }
        },
        {
          "output_type": "display_data",
          "data": {
            "text/html": [
              "<span style=\"color:cyan\"> |-units8: 104</span>"
            ],
            "text/plain": [
              "<IPython.core.display.HTML object>"
            ]
          },
          "metadata": {
            "tags": []
          }
        },
        {
          "output_type": "stream",
          "text": [
            "INFO:tensorflow:Oracle triggered exit\n"
          ],
          "name": "stdout"
        }
      ]
    },
    {
      "cell_type": "code",
      "metadata": {
        "id": "lubelOUZ-Kis",
        "outputId": "87cfb524-ca05-4581-f0a0-eea04b0962b2",
        "colab": {
          "base_uri": "https://localhost:8080/",
          "height": 527
        }
      },
      "source": [
        "tuner.get_best_hyperparameters()[0].values"
      ],
      "execution_count": null,
      "outputs": [
        {
          "output_type": "execute_result",
          "data": {
            "text/plain": [
              "{'activation0': 'tanh',\n",
              " 'activation1': 'sigmoid',\n",
              " 'activation2': 'tanh',\n",
              " 'activation3': 'sigmoid',\n",
              " 'activation4': 'relu',\n",
              " 'activation5': 'tanh',\n",
              " 'activation6': 'relu',\n",
              " 'activation7': 'tanh',\n",
              " 'activation8': 'tanh',\n",
              " 'dropout0': 0.5,\n",
              " 'dropout1': 0.9,\n",
              " 'dropout2': 0.4,\n",
              " 'dropout3': 0.7,\n",
              " 'dropout4': 0.7,\n",
              " 'dropout5': 0.3,\n",
              " 'dropout6': 0.9,\n",
              " 'dropout7': 0.2,\n",
              " 'dropout8': 0.2,\n",
              " 'num_layers': 3,\n",
              " 'optimizer': 'nadam',\n",
              " 'units0': 104,\n",
              " 'units1': 48,\n",
              " 'units2': 16,\n",
              " 'units3': 64,\n",
              " 'units4': 64,\n",
              " 'units5': 8,\n",
              " 'units6': 24,\n",
              " 'units7': 120,\n",
              " 'units8': 112}"
            ]
          },
          "metadata": {
            "tags": []
          },
          "execution_count": 75
        }
      ]
    },
    {
      "cell_type": "code",
      "metadata": {
        "id": "U_CXbTUZ-SNv"
      },
      "source": [
        "model = tuner.get_best_models(num_models=1)[0]"
      ],
      "execution_count": null,
      "outputs": []
    },
    {
      "cell_type": "code",
      "metadata": {
        "id": "T1fDFmZ--dcl",
        "outputId": "718ea85d-32c2-47b0-d70b-601ccde31d79",
        "colab": {
          "base_uri": "https://localhost:8080/",
          "height": 1000
        }
      },
      "source": [
        "model.fit(X_train,y_train,epochs=200,initial_epoch=6,validation_data=(X_test,y_test))"
      ],
      "execution_count": null,
      "outputs": [
        {
          "output_type": "stream",
          "text": [
            "Epoch 7/200\n",
            "20/20 [==============================] - 0s 8ms/step - loss: 0.7567 - accuracy: 0.5261 - val_loss: 0.5967 - val_accuracy: 0.6688\n",
            "Epoch 8/200\n",
            "20/20 [==============================] - 0s 2ms/step - loss: 0.7484 - accuracy: 0.5423 - val_loss: 0.5809 - val_accuracy: 0.6494\n",
            "Epoch 9/200\n",
            "20/20 [==============================] - 0s 3ms/step - loss: 0.7219 - accuracy: 0.5765 - val_loss: 0.5753 - val_accuracy: 0.6494\n",
            "Epoch 10/200\n",
            "20/20 [==============================] - 0s 2ms/step - loss: 0.6718 - accuracy: 0.5993 - val_loss: 0.5774 - val_accuracy: 0.6429\n",
            "Epoch 11/200\n",
            "20/20 [==============================] - 0s 3ms/step - loss: 0.6852 - accuracy: 0.6107 - val_loss: 0.5755 - val_accuracy: 0.6494\n",
            "Epoch 12/200\n",
            "20/20 [==============================] - 0s 2ms/step - loss: 0.6832 - accuracy: 0.6042 - val_loss: 0.5766 - val_accuracy: 0.6494\n",
            "Epoch 13/200\n",
            "20/20 [==============================] - 0s 2ms/step - loss: 0.6492 - accuracy: 0.6368 - val_loss: 0.5740 - val_accuracy: 0.6494\n",
            "Epoch 14/200\n",
            "20/20 [==============================] - 0s 3ms/step - loss: 0.6516 - accuracy: 0.6238 - val_loss: 0.5709 - val_accuracy: 0.6494\n",
            "Epoch 15/200\n",
            "20/20 [==============================] - 0s 2ms/step - loss: 0.6404 - accuracy: 0.6189 - val_loss: 0.5665 - val_accuracy: 0.6494\n",
            "Epoch 16/200\n",
            "20/20 [==============================] - 0s 2ms/step - loss: 0.6392 - accuracy: 0.6531 - val_loss: 0.5611 - val_accuracy: 0.6558\n",
            "Epoch 17/200\n",
            "20/20 [==============================] - 0s 2ms/step - loss: 0.6482 - accuracy: 0.6303 - val_loss: 0.5550 - val_accuracy: 0.6688\n",
            "Epoch 18/200\n",
            "20/20 [==============================] - 0s 3ms/step - loss: 0.6476 - accuracy: 0.6124 - val_loss: 0.5457 - val_accuracy: 0.6948\n",
            "Epoch 19/200\n",
            "20/20 [==============================] - 0s 2ms/step - loss: 0.6218 - accuracy: 0.6547 - val_loss: 0.5398 - val_accuracy: 0.6948\n",
            "Epoch 20/200\n",
            "20/20 [==============================] - 0s 2ms/step - loss: 0.6239 - accuracy: 0.6710 - val_loss: 0.5330 - val_accuracy: 0.7013\n",
            "Epoch 21/200\n",
            "20/20 [==============================] - 0s 2ms/step - loss: 0.6444 - accuracy: 0.6173 - val_loss: 0.5285 - val_accuracy: 0.7338\n",
            "Epoch 22/200\n",
            "20/20 [==============================] - 0s 2ms/step - loss: 0.6209 - accuracy: 0.6694 - val_loss: 0.5276 - val_accuracy: 0.7338\n",
            "Epoch 23/200\n",
            "20/20 [==============================] - 0s 2ms/step - loss: 0.6253 - accuracy: 0.6678 - val_loss: 0.5251 - val_accuracy: 0.7208\n",
            "Epoch 24/200\n",
            "20/20 [==============================] - 0s 2ms/step - loss: 0.6081 - accuracy: 0.6759 - val_loss: 0.5191 - val_accuracy: 0.7273\n",
            "Epoch 25/200\n",
            "20/20 [==============================] - 0s 3ms/step - loss: 0.6010 - accuracy: 0.6564 - val_loss: 0.5160 - val_accuracy: 0.7468\n",
            "Epoch 26/200\n",
            "20/20 [==============================] - 0s 2ms/step - loss: 0.6093 - accuracy: 0.6710 - val_loss: 0.5151 - val_accuracy: 0.7468\n",
            "Epoch 27/200\n",
            "20/20 [==============================] - 0s 3ms/step - loss: 0.6131 - accuracy: 0.6629 - val_loss: 0.5123 - val_accuracy: 0.7727\n",
            "Epoch 28/200\n",
            "20/20 [==============================] - 0s 2ms/step - loss: 0.6175 - accuracy: 0.6547 - val_loss: 0.5104 - val_accuracy: 0.7727\n",
            "Epoch 29/200\n",
            "20/20 [==============================] - 0s 2ms/step - loss: 0.5952 - accuracy: 0.6857 - val_loss: 0.5070 - val_accuracy: 0.7792\n",
            "Epoch 30/200\n",
            "20/20 [==============================] - 0s 2ms/step - loss: 0.6145 - accuracy: 0.6580 - val_loss: 0.5028 - val_accuracy: 0.7792\n",
            "Epoch 31/200\n",
            "20/20 [==============================] - 0s 2ms/step - loss: 0.5804 - accuracy: 0.6873 - val_loss: 0.5016 - val_accuracy: 0.7727\n",
            "Epoch 32/200\n",
            "20/20 [==============================] - 0s 2ms/step - loss: 0.5825 - accuracy: 0.6857 - val_loss: 0.4981 - val_accuracy: 0.7727\n",
            "Epoch 33/200\n",
            "20/20 [==============================] - 0s 2ms/step - loss: 0.5852 - accuracy: 0.6938 - val_loss: 0.4961 - val_accuracy: 0.7662\n",
            "Epoch 34/200\n",
            "20/20 [==============================] - 0s 3ms/step - loss: 0.6069 - accuracy: 0.6759 - val_loss: 0.4950 - val_accuracy: 0.7662\n",
            "Epoch 35/200\n",
            "20/20 [==============================] - 0s 3ms/step - loss: 0.6241 - accuracy: 0.6808 - val_loss: 0.4962 - val_accuracy: 0.7662\n",
            "Epoch 36/200\n",
            "20/20 [==============================] - 0s 3ms/step - loss: 0.5903 - accuracy: 0.6840 - val_loss: 0.4932 - val_accuracy: 0.7662\n",
            "Epoch 37/200\n",
            "20/20 [==============================] - 0s 2ms/step - loss: 0.5964 - accuracy: 0.6645 - val_loss: 0.4880 - val_accuracy: 0.7792\n",
            "Epoch 38/200\n",
            "20/20 [==============================] - 0s 2ms/step - loss: 0.5959 - accuracy: 0.6922 - val_loss: 0.4857 - val_accuracy: 0.7727\n",
            "Epoch 39/200\n",
            "20/20 [==============================] - 0s 3ms/step - loss: 0.5751 - accuracy: 0.7036 - val_loss: 0.4834 - val_accuracy: 0.7662\n",
            "Epoch 40/200\n",
            "20/20 [==============================] - 0s 2ms/step - loss: 0.5959 - accuracy: 0.7020 - val_loss: 0.4808 - val_accuracy: 0.7662\n",
            "Epoch 41/200\n",
            "20/20 [==============================] - 0s 3ms/step - loss: 0.5975 - accuracy: 0.6889 - val_loss: 0.4767 - val_accuracy: 0.7792\n",
            "Epoch 42/200\n",
            "20/20 [==============================] - 0s 3ms/step - loss: 0.5871 - accuracy: 0.6938 - val_loss: 0.4765 - val_accuracy: 0.7792\n",
            "Epoch 43/200\n",
            "20/20 [==============================] - 0s 2ms/step - loss: 0.5688 - accuracy: 0.7020 - val_loss: 0.4752 - val_accuracy: 0.7792\n",
            "Epoch 44/200\n",
            "20/20 [==============================] - 0s 2ms/step - loss: 0.5733 - accuracy: 0.7052 - val_loss: 0.4742 - val_accuracy: 0.7857\n",
            "Epoch 45/200\n",
            "20/20 [==============================] - 0s 2ms/step - loss: 0.5942 - accuracy: 0.6694 - val_loss: 0.4734 - val_accuracy: 0.7857\n",
            "Epoch 46/200\n",
            "20/20 [==============================] - 0s 2ms/step - loss: 0.5868 - accuracy: 0.7020 - val_loss: 0.4718 - val_accuracy: 0.7922\n",
            "Epoch 47/200\n",
            "20/20 [==============================] - 0s 2ms/step - loss: 0.5582 - accuracy: 0.7166 - val_loss: 0.4717 - val_accuracy: 0.7922\n",
            "Epoch 48/200\n",
            "20/20 [==============================] - 0s 2ms/step - loss: 0.5427 - accuracy: 0.7280 - val_loss: 0.4713 - val_accuracy: 0.7922\n",
            "Epoch 49/200\n",
            "20/20 [==============================] - 0s 2ms/step - loss: 0.5610 - accuracy: 0.7166 - val_loss: 0.4697 - val_accuracy: 0.7922\n",
            "Epoch 50/200\n",
            "20/20 [==============================] - 0s 2ms/step - loss: 0.5558 - accuracy: 0.7068 - val_loss: 0.4690 - val_accuracy: 0.7857\n",
            "Epoch 51/200\n",
            "20/20 [==============================] - 0s 2ms/step - loss: 0.5808 - accuracy: 0.7199 - val_loss: 0.4680 - val_accuracy: 0.7922\n",
            "Epoch 52/200\n",
            "20/20 [==============================] - 0s 2ms/step - loss: 0.5905 - accuracy: 0.6954 - val_loss: 0.4686 - val_accuracy: 0.7857\n",
            "Epoch 53/200\n",
            "20/20 [==============================] - 0s 2ms/step - loss: 0.5942 - accuracy: 0.6792 - val_loss: 0.4683 - val_accuracy: 0.7857\n",
            "Epoch 54/200\n",
            "20/20 [==============================] - 0s 3ms/step - loss: 0.5623 - accuracy: 0.7166 - val_loss: 0.4671 - val_accuracy: 0.7922\n",
            "Epoch 55/200\n",
            "20/20 [==============================] - 0s 3ms/step - loss: 0.5661 - accuracy: 0.7068 - val_loss: 0.4676 - val_accuracy: 0.7922\n",
            "Epoch 56/200\n",
            "20/20 [==============================] - 0s 3ms/step - loss: 0.5704 - accuracy: 0.7101 - val_loss: 0.4678 - val_accuracy: 0.7922\n",
            "Epoch 57/200\n",
            "20/20 [==============================] - 0s 3ms/step - loss: 0.5809 - accuracy: 0.6987 - val_loss: 0.4680 - val_accuracy: 0.7922\n",
            "Epoch 58/200\n",
            "20/20 [==============================] - 0s 3ms/step - loss: 0.5461 - accuracy: 0.7248 - val_loss: 0.4677 - val_accuracy: 0.7922\n",
            "Epoch 59/200\n",
            "20/20 [==============================] - 0s 3ms/step - loss: 0.5544 - accuracy: 0.7166 - val_loss: 0.4677 - val_accuracy: 0.7922\n",
            "Epoch 60/200\n",
            "20/20 [==============================] - 0s 3ms/step - loss: 0.5243 - accuracy: 0.7524 - val_loss: 0.4683 - val_accuracy: 0.7922\n",
            "Epoch 61/200\n",
            "20/20 [==============================] - 0s 3ms/step - loss: 0.5728 - accuracy: 0.7117 - val_loss: 0.4690 - val_accuracy: 0.7987\n",
            "Epoch 62/200\n",
            "20/20 [==============================] - 0s 3ms/step - loss: 0.5505 - accuracy: 0.7476 - val_loss: 0.4690 - val_accuracy: 0.7987\n",
            "Epoch 63/200\n",
            "20/20 [==============================] - 0s 3ms/step - loss: 0.5515 - accuracy: 0.7150 - val_loss: 0.4700 - val_accuracy: 0.7987\n",
            "Epoch 64/200\n",
            "20/20 [==============================] - 0s 2ms/step - loss: 0.5567 - accuracy: 0.7248 - val_loss: 0.4705 - val_accuracy: 0.7987\n",
            "Epoch 65/200\n",
            "20/20 [==============================] - 0s 2ms/step - loss: 0.5465 - accuracy: 0.7296 - val_loss: 0.4708 - val_accuracy: 0.7987\n",
            "Epoch 66/200\n",
            "20/20 [==============================] - 0s 3ms/step - loss: 0.5449 - accuracy: 0.7166 - val_loss: 0.4712 - val_accuracy: 0.7987\n",
            "Epoch 67/200\n",
            "20/20 [==============================] - 0s 2ms/step - loss: 0.5604 - accuracy: 0.7085 - val_loss: 0.4710 - val_accuracy: 0.7987\n",
            "Epoch 68/200\n",
            "20/20 [==============================] - 0s 2ms/step - loss: 0.5492 - accuracy: 0.7394 - val_loss: 0.4716 - val_accuracy: 0.8052\n",
            "Epoch 69/200\n",
            "20/20 [==============================] - 0s 2ms/step - loss: 0.5510 - accuracy: 0.7296 - val_loss: 0.4716 - val_accuracy: 0.8117\n",
            "Epoch 70/200\n",
            "20/20 [==============================] - 0s 2ms/step - loss: 0.5539 - accuracy: 0.7410 - val_loss: 0.4718 - val_accuracy: 0.8117\n",
            "Epoch 71/200\n",
            "20/20 [==============================] - 0s 2ms/step - loss: 0.5708 - accuracy: 0.6938 - val_loss: 0.4729 - val_accuracy: 0.8052\n",
            "Epoch 72/200\n",
            "20/20 [==============================] - 0s 2ms/step - loss: 0.5583 - accuracy: 0.6971 - val_loss: 0.4759 - val_accuracy: 0.7922\n",
            "Epoch 73/200\n",
            "20/20 [==============================] - 0s 2ms/step - loss: 0.5404 - accuracy: 0.7150 - val_loss: 0.4768 - val_accuracy: 0.7987\n",
            "Epoch 74/200\n",
            "20/20 [==============================] - 0s 3ms/step - loss: 0.5592 - accuracy: 0.7248 - val_loss: 0.4765 - val_accuracy: 0.7987\n",
            "Epoch 75/200\n",
            "20/20 [==============================] - 0s 3ms/step - loss: 0.5528 - accuracy: 0.7166 - val_loss: 0.4761 - val_accuracy: 0.8052\n",
            "Epoch 76/200\n",
            "20/20 [==============================] - 0s 3ms/step - loss: 0.5502 - accuracy: 0.7394 - val_loss: 0.4767 - val_accuracy: 0.7987\n",
            "Epoch 77/200\n",
            "20/20 [==============================] - 0s 3ms/step - loss: 0.5511 - accuracy: 0.7394 - val_loss: 0.4768 - val_accuracy: 0.7922\n",
            "Epoch 78/200\n",
            "20/20 [==============================] - 0s 2ms/step - loss: 0.5715 - accuracy: 0.6759 - val_loss: 0.4778 - val_accuracy: 0.7922\n",
            "Epoch 79/200\n",
            "20/20 [==============================] - 0s 2ms/step - loss: 0.5461 - accuracy: 0.7231 - val_loss: 0.4789 - val_accuracy: 0.7922\n",
            "Epoch 80/200\n",
            "20/20 [==============================] - 0s 2ms/step - loss: 0.5472 - accuracy: 0.7427 - val_loss: 0.4782 - val_accuracy: 0.7922\n",
            "Epoch 81/200\n",
            "20/20 [==============================] - 0s 3ms/step - loss: 0.5419 - accuracy: 0.7296 - val_loss: 0.4789 - val_accuracy: 0.7922\n",
            "Epoch 82/200\n",
            "20/20 [==============================] - 0s 3ms/step - loss: 0.5447 - accuracy: 0.7248 - val_loss: 0.4810 - val_accuracy: 0.7857\n",
            "Epoch 83/200\n",
            "20/20 [==============================] - 0s 3ms/step - loss: 0.5323 - accuracy: 0.7378 - val_loss: 0.4804 - val_accuracy: 0.7922\n",
            "Epoch 84/200\n",
            "20/20 [==============================] - 0s 2ms/step - loss: 0.5276 - accuracy: 0.7101 - val_loss: 0.4815 - val_accuracy: 0.7922\n",
            "Epoch 85/200\n",
            "20/20 [==============================] - 0s 2ms/step - loss: 0.5395 - accuracy: 0.7394 - val_loss: 0.4821 - val_accuracy: 0.7857\n",
            "Epoch 86/200\n",
            "20/20 [==============================] - 0s 3ms/step - loss: 0.5312 - accuracy: 0.7329 - val_loss: 0.4824 - val_accuracy: 0.7857\n",
            "Epoch 87/200\n",
            "20/20 [==============================] - 0s 3ms/step - loss: 0.5439 - accuracy: 0.7264 - val_loss: 0.4832 - val_accuracy: 0.7922\n",
            "Epoch 88/200\n",
            "20/20 [==============================] - 0s 3ms/step - loss: 0.5558 - accuracy: 0.7182 - val_loss: 0.4811 - val_accuracy: 0.7922\n",
            "Epoch 89/200\n",
            "20/20 [==============================] - 0s 3ms/step - loss: 0.5331 - accuracy: 0.7329 - val_loss: 0.4797 - val_accuracy: 0.7922\n",
            "Epoch 90/200\n",
            "20/20 [==============================] - 0s 3ms/step - loss: 0.5434 - accuracy: 0.7134 - val_loss: 0.4792 - val_accuracy: 0.7987\n",
            "Epoch 91/200\n",
            "20/20 [==============================] - 0s 3ms/step - loss: 0.5519 - accuracy: 0.6906 - val_loss: 0.4803 - val_accuracy: 0.7922\n",
            "Epoch 92/200\n",
            "20/20 [==============================] - 0s 3ms/step - loss: 0.5528 - accuracy: 0.7248 - val_loss: 0.4804 - val_accuracy: 0.7857\n",
            "Epoch 93/200\n",
            "20/20 [==============================] - 0s 3ms/step - loss: 0.5583 - accuracy: 0.7101 - val_loss: 0.4800 - val_accuracy: 0.7857\n",
            "Epoch 94/200\n",
            "20/20 [==============================] - 0s 2ms/step - loss: 0.5626 - accuracy: 0.7117 - val_loss: 0.4803 - val_accuracy: 0.7857\n",
            "Epoch 95/200\n",
            "20/20 [==============================] - 0s 2ms/step - loss: 0.5461 - accuracy: 0.7296 - val_loss: 0.4810 - val_accuracy: 0.7857\n",
            "Epoch 96/200\n",
            "20/20 [==============================] - 0s 2ms/step - loss: 0.5459 - accuracy: 0.7150 - val_loss: 0.4810 - val_accuracy: 0.7857\n",
            "Epoch 97/200\n",
            "20/20 [==============================] - 0s 2ms/step - loss: 0.5560 - accuracy: 0.7280 - val_loss: 0.4815 - val_accuracy: 0.7857\n",
            "Epoch 98/200\n",
            "20/20 [==============================] - 0s 3ms/step - loss: 0.5425 - accuracy: 0.7215 - val_loss: 0.4810 - val_accuracy: 0.7857\n",
            "Epoch 99/200\n",
            "20/20 [==============================] - 0s 2ms/step - loss: 0.5435 - accuracy: 0.7068 - val_loss: 0.4817 - val_accuracy: 0.7857\n",
            "Epoch 100/200\n",
            "20/20 [==============================] - 0s 3ms/step - loss: 0.5491 - accuracy: 0.7378 - val_loss: 0.4818 - val_accuracy: 0.7857\n",
            "Epoch 101/200\n",
            "20/20 [==============================] - 0s 3ms/step - loss: 0.5442 - accuracy: 0.7296 - val_loss: 0.4829 - val_accuracy: 0.7857\n",
            "Epoch 102/200\n",
            "20/20 [==============================] - 0s 4ms/step - loss: 0.5443 - accuracy: 0.7231 - val_loss: 0.4824 - val_accuracy: 0.7857\n",
            "Epoch 103/200\n",
            "20/20 [==============================] - 0s 3ms/step - loss: 0.5344 - accuracy: 0.7134 - val_loss: 0.4831 - val_accuracy: 0.7857\n",
            "Epoch 104/200\n",
            "20/20 [==============================] - 0s 4ms/step - loss: 0.5436 - accuracy: 0.7280 - val_loss: 0.4843 - val_accuracy: 0.7857\n",
            "Epoch 105/200\n",
            "20/20 [==============================] - 0s 3ms/step - loss: 0.5390 - accuracy: 0.7134 - val_loss: 0.4829 - val_accuracy: 0.7922\n",
            "Epoch 106/200\n",
            "20/20 [==============================] - 0s 3ms/step - loss: 0.5384 - accuracy: 0.7264 - val_loss: 0.4840 - val_accuracy: 0.7987\n",
            "Epoch 107/200\n",
            "20/20 [==============================] - 0s 3ms/step - loss: 0.5556 - accuracy: 0.7150 - val_loss: 0.4843 - val_accuracy: 0.8052\n",
            "Epoch 108/200\n",
            "20/20 [==============================] - 0s 3ms/step - loss: 0.5430 - accuracy: 0.7248 - val_loss: 0.4838 - val_accuracy: 0.7987\n",
            "Epoch 109/200\n",
            "20/20 [==============================] - 0s 2ms/step - loss: 0.5373 - accuracy: 0.7508 - val_loss: 0.4847 - val_accuracy: 0.7922\n",
            "Epoch 110/200\n",
            "20/20 [==============================] - 0s 2ms/step - loss: 0.5288 - accuracy: 0.7362 - val_loss: 0.4845 - val_accuracy: 0.8052\n",
            "Epoch 111/200\n",
            "20/20 [==============================] - 0s 2ms/step - loss: 0.5529 - accuracy: 0.7182 - val_loss: 0.4847 - val_accuracy: 0.8052\n",
            "Epoch 112/200\n",
            "20/20 [==============================] - 0s 2ms/step - loss: 0.5311 - accuracy: 0.7492 - val_loss: 0.4837 - val_accuracy: 0.7987\n",
            "Epoch 113/200\n",
            "20/20 [==============================] - 0s 2ms/step - loss: 0.5282 - accuracy: 0.7313 - val_loss: 0.4834 - val_accuracy: 0.7987\n",
            "Epoch 114/200\n",
            "20/20 [==============================] - 0s 2ms/step - loss: 0.5254 - accuracy: 0.7410 - val_loss: 0.4828 - val_accuracy: 0.7987\n",
            "Epoch 115/200\n",
            "20/20 [==============================] - 0s 2ms/step - loss: 0.5207 - accuracy: 0.7410 - val_loss: 0.4826 - val_accuracy: 0.7987\n",
            "Epoch 116/200\n",
            "20/20 [==============================] - 0s 3ms/step - loss: 0.5507 - accuracy: 0.7117 - val_loss: 0.4832 - val_accuracy: 0.7987\n",
            "Epoch 117/200\n",
            "20/20 [==============================] - 0s 2ms/step - loss: 0.5398 - accuracy: 0.7362 - val_loss: 0.4826 - val_accuracy: 0.7987\n",
            "Epoch 118/200\n",
            "20/20 [==============================] - 0s 2ms/step - loss: 0.5302 - accuracy: 0.7492 - val_loss: 0.4827 - val_accuracy: 0.7987\n",
            "Epoch 119/200\n",
            "20/20 [==============================] - 0s 3ms/step - loss: 0.5327 - accuracy: 0.7182 - val_loss: 0.4839 - val_accuracy: 0.7987\n",
            "Epoch 120/200\n",
            "20/20 [==============================] - 0s 3ms/step - loss: 0.5283 - accuracy: 0.7362 - val_loss: 0.4838 - val_accuracy: 0.7922\n",
            "Epoch 121/200\n",
            "20/20 [==============================] - 0s 2ms/step - loss: 0.5136 - accuracy: 0.7394 - val_loss: 0.4829 - val_accuracy: 0.7922\n",
            "Epoch 122/200\n",
            "20/20 [==============================] - 0s 2ms/step - loss: 0.5175 - accuracy: 0.7557 - val_loss: 0.4818 - val_accuracy: 0.7987\n",
            "Epoch 123/200\n",
            "20/20 [==============================] - 0s 2ms/step - loss: 0.5422 - accuracy: 0.7362 - val_loss: 0.4814 - val_accuracy: 0.7987\n",
            "Epoch 124/200\n",
            "20/20 [==============================] - 0s 3ms/step - loss: 0.5420 - accuracy: 0.7362 - val_loss: 0.4813 - val_accuracy: 0.7922\n",
            "Epoch 125/200\n",
            "20/20 [==============================] - 0s 3ms/step - loss: 0.5326 - accuracy: 0.7492 - val_loss: 0.4815 - val_accuracy: 0.7922\n",
            "Epoch 126/200\n",
            "20/20 [==============================] - 0s 2ms/step - loss: 0.5272 - accuracy: 0.7459 - val_loss: 0.4810 - val_accuracy: 0.7922\n",
            "Epoch 127/200\n",
            "20/20 [==============================] - 0s 2ms/step - loss: 0.5429 - accuracy: 0.7378 - val_loss: 0.4803 - val_accuracy: 0.7922\n",
            "Epoch 128/200\n",
            "20/20 [==============================] - 0s 2ms/step - loss: 0.5473 - accuracy: 0.7182 - val_loss: 0.4805 - val_accuracy: 0.7922\n",
            "Epoch 129/200\n",
            "20/20 [==============================] - 0s 2ms/step - loss: 0.5234 - accuracy: 0.7524 - val_loss: 0.4805 - val_accuracy: 0.7987\n",
            "Epoch 130/200\n",
            "20/20 [==============================] - 0s 2ms/step - loss: 0.5182 - accuracy: 0.7345 - val_loss: 0.4807 - val_accuracy: 0.7987\n",
            "Epoch 131/200\n",
            "20/20 [==============================] - 0s 3ms/step - loss: 0.5433 - accuracy: 0.7280 - val_loss: 0.4804 - val_accuracy: 0.7987\n",
            "Epoch 132/200\n",
            "20/20 [==============================] - 0s 3ms/step - loss: 0.5440 - accuracy: 0.7394 - val_loss: 0.4785 - val_accuracy: 0.7987\n",
            "Epoch 133/200\n",
            "20/20 [==============================] - 0s 3ms/step - loss: 0.5465 - accuracy: 0.7329 - val_loss: 0.4779 - val_accuracy: 0.7987\n",
            "Epoch 134/200\n",
            "20/20 [==============================] - 0s 3ms/step - loss: 0.5479 - accuracy: 0.7101 - val_loss: 0.4795 - val_accuracy: 0.7987\n",
            "Epoch 135/200\n",
            "20/20 [==============================] - 0s 3ms/step - loss: 0.5298 - accuracy: 0.7524 - val_loss: 0.4788 - val_accuracy: 0.7987\n",
            "Epoch 136/200\n",
            "20/20 [==============================] - 0s 3ms/step - loss: 0.5431 - accuracy: 0.7394 - val_loss: 0.4796 - val_accuracy: 0.7987\n",
            "Epoch 137/200\n",
            "20/20 [==============================] - 0s 3ms/step - loss: 0.5374 - accuracy: 0.7329 - val_loss: 0.4799 - val_accuracy: 0.7987\n",
            "Epoch 138/200\n",
            "20/20 [==============================] - 0s 3ms/step - loss: 0.5259 - accuracy: 0.7443 - val_loss: 0.4802 - val_accuracy: 0.7987\n",
            "Epoch 139/200\n",
            "20/20 [==============================] - 0s 2ms/step - loss: 0.5373 - accuracy: 0.7345 - val_loss: 0.4811 - val_accuracy: 0.7922\n",
            "Epoch 140/200\n",
            "20/20 [==============================] - 0s 3ms/step - loss: 0.5346 - accuracy: 0.7394 - val_loss: 0.4816 - val_accuracy: 0.7922\n",
            "Epoch 141/200\n",
            "20/20 [==============================] - 0s 3ms/step - loss: 0.5241 - accuracy: 0.7264 - val_loss: 0.4833 - val_accuracy: 0.7922\n",
            "Epoch 142/200\n",
            "20/20 [==============================] - 0s 3ms/step - loss: 0.5152 - accuracy: 0.7557 - val_loss: 0.4834 - val_accuracy: 0.7922\n",
            "Epoch 143/200\n",
            "20/20 [==============================] - 0s 2ms/step - loss: 0.5314 - accuracy: 0.7508 - val_loss: 0.4839 - val_accuracy: 0.7922\n",
            "Epoch 144/200\n",
            "20/20 [==============================] - 0s 2ms/step - loss: 0.5258 - accuracy: 0.7410 - val_loss: 0.4859 - val_accuracy: 0.7857\n",
            "Epoch 145/200\n",
            "20/20 [==============================] - 0s 2ms/step - loss: 0.5226 - accuracy: 0.7280 - val_loss: 0.4879 - val_accuracy: 0.7857\n",
            "Epoch 146/200\n",
            "20/20 [==============================] - 0s 2ms/step - loss: 0.5224 - accuracy: 0.7362 - val_loss: 0.4882 - val_accuracy: 0.7857\n",
            "Epoch 147/200\n",
            "20/20 [==============================] - 0s 3ms/step - loss: 0.5476 - accuracy: 0.7199 - val_loss: 0.4867 - val_accuracy: 0.7857\n",
            "Epoch 148/200\n",
            "20/20 [==============================] - 0s 2ms/step - loss: 0.5238 - accuracy: 0.7443 - val_loss: 0.4861 - val_accuracy: 0.7857\n",
            "Epoch 149/200\n",
            "20/20 [==============================] - 0s 2ms/step - loss: 0.5300 - accuracy: 0.7313 - val_loss: 0.4859 - val_accuracy: 0.7857\n",
            "Epoch 150/200\n",
            "20/20 [==============================] - 0s 2ms/step - loss: 0.5298 - accuracy: 0.7280 - val_loss: 0.4850 - val_accuracy: 0.7922\n",
            "Epoch 151/200\n",
            "20/20 [==============================] - 0s 2ms/step - loss: 0.5386 - accuracy: 0.7280 - val_loss: 0.4839 - val_accuracy: 0.7922\n",
            "Epoch 152/200\n",
            "20/20 [==============================] - 0s 2ms/step - loss: 0.5455 - accuracy: 0.7248 - val_loss: 0.4833 - val_accuracy: 0.7922\n",
            "Epoch 153/200\n",
            "20/20 [==============================] - 0s 2ms/step - loss: 0.5327 - accuracy: 0.7280 - val_loss: 0.4811 - val_accuracy: 0.7922\n",
            "Epoch 154/200\n",
            "20/20 [==============================] - 0s 2ms/step - loss: 0.5217 - accuracy: 0.7362 - val_loss: 0.4799 - val_accuracy: 0.7987\n",
            "Epoch 155/200\n",
            "20/20 [==============================] - 0s 2ms/step - loss: 0.5261 - accuracy: 0.7362 - val_loss: 0.4804 - val_accuracy: 0.7987\n",
            "Epoch 156/200\n",
            "20/20 [==============================] - 0s 2ms/step - loss: 0.5335 - accuracy: 0.7427 - val_loss: 0.4811 - val_accuracy: 0.7987\n",
            "Epoch 157/200\n",
            "20/20 [==============================] - 0s 2ms/step - loss: 0.5191 - accuracy: 0.7476 - val_loss: 0.4825 - val_accuracy: 0.7987\n",
            "Epoch 158/200\n",
            "20/20 [==============================] - 0s 3ms/step - loss: 0.5532 - accuracy: 0.7215 - val_loss: 0.4819 - val_accuracy: 0.7987\n",
            "Epoch 159/200\n",
            "20/20 [==============================] - 0s 2ms/step - loss: 0.5342 - accuracy: 0.7362 - val_loss: 0.4820 - val_accuracy: 0.7987\n",
            "Epoch 160/200\n",
            "20/20 [==============================] - 0s 2ms/step - loss: 0.5372 - accuracy: 0.7410 - val_loss: 0.4814 - val_accuracy: 0.7987\n",
            "Epoch 161/200\n",
            "20/20 [==============================] - 0s 2ms/step - loss: 0.5267 - accuracy: 0.7524 - val_loss: 0.4811 - val_accuracy: 0.7987\n",
            "Epoch 162/200\n",
            "20/20 [==============================] - 0s 2ms/step - loss: 0.5347 - accuracy: 0.7313 - val_loss: 0.4813 - val_accuracy: 0.7987\n",
            "Epoch 163/200\n",
            "20/20 [==============================] - 0s 3ms/step - loss: 0.5179 - accuracy: 0.7378 - val_loss: 0.4817 - val_accuracy: 0.7987\n",
            "Epoch 164/200\n",
            "20/20 [==============================] - 0s 3ms/step - loss: 0.5177 - accuracy: 0.7638 - val_loss: 0.4812 - val_accuracy: 0.7987\n",
            "Epoch 165/200\n",
            "20/20 [==============================] - 0s 3ms/step - loss: 0.5182 - accuracy: 0.7410 - val_loss: 0.4814 - val_accuracy: 0.7987\n",
            "Epoch 166/200\n",
            "20/20 [==============================] - 0s 3ms/step - loss: 0.5290 - accuracy: 0.7410 - val_loss: 0.4814 - val_accuracy: 0.7987\n",
            "Epoch 167/200\n",
            "20/20 [==============================] - 0s 3ms/step - loss: 0.5350 - accuracy: 0.7362 - val_loss: 0.4820 - val_accuracy: 0.7987\n",
            "Epoch 168/200\n",
            "20/20 [==============================] - 0s 3ms/step - loss: 0.5131 - accuracy: 0.7492 - val_loss: 0.4844 - val_accuracy: 0.7987\n",
            "Epoch 169/200\n",
            "20/20 [==============================] - 0s 3ms/step - loss: 0.5346 - accuracy: 0.7524 - val_loss: 0.4856 - val_accuracy: 0.7922\n",
            "Epoch 170/200\n",
            "20/20 [==============================] - 0s 2ms/step - loss: 0.5148 - accuracy: 0.7508 - val_loss: 0.4866 - val_accuracy: 0.7857\n",
            "Epoch 171/200\n",
            "20/20 [==============================] - 0s 3ms/step - loss: 0.5367 - accuracy: 0.7150 - val_loss: 0.4865 - val_accuracy: 0.7857\n",
            "Epoch 172/200\n",
            "20/20 [==============================] - 0s 3ms/step - loss: 0.5132 - accuracy: 0.7590 - val_loss: 0.4875 - val_accuracy: 0.7857\n",
            "Epoch 173/200\n",
            "20/20 [==============================] - 0s 2ms/step - loss: 0.5314 - accuracy: 0.7394 - val_loss: 0.4879 - val_accuracy: 0.7857\n",
            "Epoch 174/200\n",
            "20/20 [==============================] - 0s 2ms/step - loss: 0.5218 - accuracy: 0.7541 - val_loss: 0.4869 - val_accuracy: 0.7857\n",
            "Epoch 175/200\n",
            "20/20 [==============================] - 0s 3ms/step - loss: 0.5299 - accuracy: 0.7378 - val_loss: 0.4872 - val_accuracy: 0.7857\n",
            "Epoch 176/200\n",
            "20/20 [==============================] - 0s 3ms/step - loss: 0.5430 - accuracy: 0.7427 - val_loss: 0.4878 - val_accuracy: 0.7857\n",
            "Epoch 177/200\n",
            "20/20 [==============================] - 0s 2ms/step - loss: 0.5147 - accuracy: 0.7638 - val_loss: 0.4898 - val_accuracy: 0.7792\n",
            "Epoch 178/200\n",
            "20/20 [==============================] - 0s 3ms/step - loss: 0.5435 - accuracy: 0.7199 - val_loss: 0.4926 - val_accuracy: 0.7857\n",
            "Epoch 179/200\n",
            "20/20 [==============================] - 0s 2ms/step - loss: 0.5309 - accuracy: 0.7443 - val_loss: 0.4939 - val_accuracy: 0.7792\n",
            "Epoch 180/200\n",
            "20/20 [==============================] - 0s 2ms/step - loss: 0.5087 - accuracy: 0.7769 - val_loss: 0.4920 - val_accuracy: 0.7857\n",
            "Epoch 181/200\n",
            "20/20 [==============================] - 0s 2ms/step - loss: 0.5359 - accuracy: 0.7410 - val_loss: 0.4915 - val_accuracy: 0.7857\n",
            "Epoch 182/200\n",
            "20/20 [==============================] - 0s 2ms/step - loss: 0.5300 - accuracy: 0.7476 - val_loss: 0.4908 - val_accuracy: 0.7792\n",
            "Epoch 183/200\n",
            "20/20 [==============================] - 0s 3ms/step - loss: 0.5392 - accuracy: 0.7427 - val_loss: 0.4905 - val_accuracy: 0.7727\n",
            "Epoch 184/200\n",
            "20/20 [==============================] - 0s 2ms/step - loss: 0.5285 - accuracy: 0.7427 - val_loss: 0.4908 - val_accuracy: 0.7727\n",
            "Epoch 185/200\n",
            "20/20 [==============================] - 0s 2ms/step - loss: 0.5142 - accuracy: 0.7524 - val_loss: 0.4906 - val_accuracy: 0.7792\n",
            "Epoch 186/200\n",
            "20/20 [==============================] - 0s 2ms/step - loss: 0.5235 - accuracy: 0.7524 - val_loss: 0.4896 - val_accuracy: 0.7792\n",
            "Epoch 187/200\n",
            "20/20 [==============================] - 0s 2ms/step - loss: 0.5136 - accuracy: 0.7606 - val_loss: 0.4888 - val_accuracy: 0.7727\n",
            "Epoch 188/200\n",
            "20/20 [==============================] - 0s 2ms/step - loss: 0.5368 - accuracy: 0.7459 - val_loss: 0.4887 - val_accuracy: 0.7727\n",
            "Epoch 189/200\n",
            "20/20 [==============================] - 0s 2ms/step - loss: 0.5082 - accuracy: 0.7573 - val_loss: 0.4891 - val_accuracy: 0.7792\n",
            "Epoch 190/200\n",
            "20/20 [==============================] - 0s 3ms/step - loss: 0.5171 - accuracy: 0.7704 - val_loss: 0.4894 - val_accuracy: 0.7857\n",
            "Epoch 191/200\n",
            "20/20 [==============================] - 0s 3ms/step - loss: 0.5273 - accuracy: 0.7378 - val_loss: 0.4894 - val_accuracy: 0.7857\n",
            "Epoch 192/200\n",
            "20/20 [==============================] - 0s 3ms/step - loss: 0.5497 - accuracy: 0.7345 - val_loss: 0.4869 - val_accuracy: 0.7857\n",
            "Epoch 193/200\n",
            "20/20 [==============================] - 0s 3ms/step - loss: 0.5020 - accuracy: 0.7606 - val_loss: 0.4858 - val_accuracy: 0.7792\n",
            "Epoch 194/200\n",
            "20/20 [==============================] - 0s 3ms/step - loss: 0.5171 - accuracy: 0.7508 - val_loss: 0.4861 - val_accuracy: 0.7857\n",
            "Epoch 195/200\n",
            "20/20 [==============================] - 0s 3ms/step - loss: 0.5378 - accuracy: 0.7508 - val_loss: 0.4864 - val_accuracy: 0.7857\n",
            "Epoch 196/200\n",
            "20/20 [==============================] - 0s 3ms/step - loss: 0.5250 - accuracy: 0.7590 - val_loss: 0.4864 - val_accuracy: 0.7792\n",
            "Epoch 197/200\n",
            "20/20 [==============================] - 0s 3ms/step - loss: 0.5273 - accuracy: 0.7443 - val_loss: 0.4862 - val_accuracy: 0.7922\n",
            "Epoch 198/200\n",
            "20/20 [==============================] - 0s 3ms/step - loss: 0.5273 - accuracy: 0.7443 - val_loss: 0.4859 - val_accuracy: 0.7922\n",
            "Epoch 199/200\n",
            "20/20 [==============================] - 0s 3ms/step - loss: 0.5351 - accuracy: 0.7182 - val_loss: 0.4872 - val_accuracy: 0.7857\n",
            "Epoch 200/200\n",
            "20/20 [==============================] - 0s 2ms/step - loss: 0.5125 - accuracy: 0.7655 - val_loss: 0.4881 - val_accuracy: 0.7792\n"
          ],
          "name": "stdout"
        },
        {
          "output_type": "execute_result",
          "data": {
            "text/plain": [
              "<tensorflow.python.keras.callbacks.History at 0x7f784643f470>"
            ]
          },
          "metadata": {
            "tags": []
          },
          "execution_count": 77
        }
      ]
    },
    {
      "cell_type": "code",
      "metadata": {
        "id": "mnH1PMM_-pzN",
        "outputId": "6915fe2a-6786-465b-d068-341635e7e92c",
        "colab": {
          "base_uri": "https://localhost:8080/",
          "height": 404
        }
      },
      "source": [
        "model.summary()"
      ],
      "execution_count": null,
      "outputs": [
        {
          "output_type": "stream",
          "text": [
            "Model: \"sequential\"\n",
            "_________________________________________________________________\n",
            "Layer (type)                 Output Shape              Param #   \n",
            "=================================================================\n",
            "dense (Dense)                (None, 104)               936       \n",
            "_________________________________________________________________\n",
            "dropout (Dropout)            (None, 104)               0         \n",
            "_________________________________________________________________\n",
            "dense_1 (Dense)              (None, 48)                5040      \n",
            "_________________________________________________________________\n",
            "dropout_1 (Dropout)          (None, 48)                0         \n",
            "_________________________________________________________________\n",
            "dense_2 (Dense)              (None, 16)                784       \n",
            "_________________________________________________________________\n",
            "dropout_2 (Dropout)          (None, 16)                0         \n",
            "_________________________________________________________________\n",
            "dense_3 (Dense)              (None, 1)                 17        \n",
            "=================================================================\n",
            "Total params: 6,777\n",
            "Trainable params: 6,777\n",
            "Non-trainable params: 0\n",
            "_________________________________________________________________\n"
          ],
          "name": "stdout"
        }
      ]
    },
    {
      "cell_type": "code",
      "metadata": {
        "id": "d0ZZN6W0_zuJ"
      },
      "source": [],
      "execution_count": null,
      "outputs": []
    }
  ]
}